{
 "cells": [
  {
   "cell_type": "markdown",
   "id": "f3ec399d",
   "metadata": {},
   "source": [
    "# EXPLORATORY DATA ANALYSIS AND INSIGHTS GENERATION"
   ]
  },
  {
   "cell_type": "markdown",
   "id": "37604b06",
   "metadata": {},
   "source": [
    "## 1. Importing Librarires"
   ]
  },
  {
   "cell_type": "code",
   "execution_count": 49,
   "id": "bdfabc00",
   "metadata": {},
   "outputs": [],
   "source": [
    "import pandas as pd\n",
    "import numpy as np\n",
    "import matplotlib.pyplot as plt\n",
    "import seaborn as sns\n",
    "import re\n",
    "from collections import Counter"
   ]
  },
  {
   "cell_type": "markdown",
   "id": "043d2f36",
   "metadata": {},
   "source": [
    "### 1.1 *Setting Style for Visualisation*"
   ]
  },
  {
   "cell_type": "code",
   "execution_count": 2,
   "id": "0ee8464f",
   "metadata": {},
   "outputs": [],
   "source": [
    "sns.set_style('whitegrid')\n",
    "\n",
    "plt.rcParams['figure.figsize'] = (12, 6)"
   ]
  },
  {
   "cell_type": "markdown",
   "id": "60f76750",
   "metadata": {},
   "source": [
    "## 2. Loading and initial exlporation of data"
   ]
  },
  {
   "cell_type": "code",
   "execution_count": 3,
   "id": "cbb42b52",
   "metadata": {},
   "outputs": [
    {
     "name": "stdout",
     "output_type": "stream",
     "text": [
      "Dataset Shape: (100, 52)\n",
      "\n",
      "First 5 rows:\n"
     ]
    },
    {
     "data": {
      "application/vnd.microsoft.datawrangler.viewer.v0+json": {
       "columns": [
        {
         "name": "index",
         "rawType": "int64",
         "type": "integer"
        },
        {
         "name": "VIN",
         "rawType": "object",
         "type": "string"
        },
        {
         "name": "TRANSACTION_ID",
         "rawType": "int64",
         "type": "integer"
        },
        {
         "name": "CORRECTION_VERBATIM",
         "rawType": "object",
         "type": "string"
        },
        {
         "name": "CUSTOMER_VERBATIM",
         "rawType": "object",
         "type": "string"
        },
        {
         "name": "REPAIR_DATE",
         "rawType": "object",
         "type": "string"
        },
        {
         "name": "CAUSAL_PART_NM",
         "rawType": "object",
         "type": "string"
        },
        {
         "name": "GLOBAL_LABOR_CODE_DESCRIPTION",
         "rawType": "object",
         "type": "string"
        },
        {
         "name": "PLATFORM",
         "rawType": "object",
         "type": "string"
        },
        {
         "name": "BODY_STYLE",
         "rawType": "object",
         "type": "string"
        },
        {
         "name": "VPPC",
         "rawType": "object",
         "type": "string"
        },
        {
         "name": "PLANT",
         "rawType": "object",
         "type": "unknown"
        },
        {
         "name": "BUILD_COUNTRY",
         "rawType": "object",
         "type": "string"
        },
        {
         "name": "LAST_KNOWN_DLR_NAME",
         "rawType": "object",
         "type": "string"
        },
        {
         "name": "LAST_KNOWN_DLR_CITY",
         "rawType": "object",
         "type": "string"
        },
        {
         "name": "REPAIRING_DEALER_CODE",
         "rawType": "object",
         "type": "string"
        },
        {
         "name": "DEALER_NAME",
         "rawType": "object",
         "type": "string"
        },
        {
         "name": "REPAIR_DLR_CITY",
         "rawType": "object",
         "type": "string"
        },
        {
         "name": "STATE",
         "rawType": "object",
         "type": "string"
        },
        {
         "name": "DEALER_REGION",
         "rawType": "int64",
         "type": "integer"
        },
        {
         "name": "REPAIR_DLR_POSTAL_CD",
         "rawType": "object",
         "type": "string"
        },
        {
         "name": "REPAIR_AGE",
         "rawType": "int64",
         "type": "integer"
        },
        {
         "name": "KM",
         "rawType": "object",
         "type": "string"
        },
        {
         "name": "COMPLAINT_CD_CSI",
         "rawType": "int64",
         "type": "integer"
        },
        {
         "name": "COMPLAINT_CD",
         "rawType": "object",
         "type": "string"
        },
        {
         "name": "VEH_TEST_GRP",
         "rawType": "object",
         "type": "string"
        },
        {
         "name": "COUNTRY_SALE_ISO",
         "rawType": "object",
         "type": "string"
        },
        {
         "name": "ORD_SELLING_SRC_CD",
         "rawType": "int64",
         "type": "integer"
        },
        {
         "name": "OPTN_FAMLY_CERTIFICATION",
         "rawType": "object",
         "type": "string"
        },
        {
         "name": "OPTF_FAMLY_EMISSIOF_SYSTEM",
         "rawType": "object",
         "type": "string"
        },
        {
         "name": "GLOBAL_LABOR_CODE",
         "rawType": "int64",
         "type": "integer"
        },
        {
         "name": "TRANSACTION_CATEGORY",
         "rawType": "object",
         "type": "string"
        },
        {
         "name": "CAMPAIGN_NBR",
         "rawType": "float64",
         "type": "float"
        },
        {
         "name": "REPORTING_COST",
         "rawType": "object",
         "type": "string"
        },
        {
         "name": "TOTALCOST",
         "rawType": "object",
         "type": "string"
        },
        {
         "name": "LBRCOST",
         "rawType": "object",
         "type": "string"
        },
        {
         "name": "ENGINE",
         "rawType": "object",
         "type": "string"
        },
        {
         "name": "ENGINE_DESC",
         "rawType": "object",
         "type": "string"
        },
        {
         "name": "TRANSMISSION",
         "rawType": "object",
         "type": "string"
        },
        {
         "name": "TRANSMISSION_DESC",
         "rawType": "object",
         "type": "string"
        },
        {
         "name": "ENGINE_SOURCE_PLANT",
         "rawType": "object",
         "type": "unknown"
        },
        {
         "name": "ENGINE_TRACE_NBR",
         "rawType": "object",
         "type": "unknown"
        },
        {
         "name": "TRANSMISSION_SOURCE_PLANT",
         "rawType": "float64",
         "type": "float"
        },
        {
         "name": "TRANSMISSION_TRACE_NBR",
         "rawType": "object",
         "type": "unknown"
        },
        {
         "name": "SRC_TXN_ID",
         "rawType": "int64",
         "type": "integer"
        },
        {
         "name": "SRC_VER_NBR",
         "rawType": "int64",
         "type": "integer"
        },
        {
         "name": "TRANSACTION_CNTR",
         "rawType": "int64",
         "type": "integer"
        },
        {
         "name": "MEDIA_FLAG",
         "rawType": "object",
         "type": "string"
        },
        {
         "name": "VIN_MODL_DESGTR",
         "rawType": "object",
         "type": "string"
        },
        {
         "name": "LINE_SERIES",
         "rawType": "object",
         "type": "string"
        },
        {
         "name": "LAST_KNOWN_DELVRY_TYPE_CD",
         "rawType": "float64",
         "type": "float"
        },
        {
         "name": "NON_CAUSAL_PART_QTY",
         "rawType": "int64",
         "type": "integer"
        },
        {
         "name": "SALES_REGION_CODE",
         "rawType": "int64",
         "type": "integer"
        }
       ],
       "conversionMethod": "pd.DataFrame",
       "ref": "0ac73333-d3a7-4146-90ce-c85a3e73684f",
       "rows": [
        [
         "0",
         "3HCFDDE89SH220903",
         "13021",
         "REPLACED STEERING WHEEL NOW OKAY",
         "STEERING WHEEL COMING APART",
         "01-02-2024",
         "WHEEL ASM-STRG *JET BLACK",
         "Steering Wheel Replacement",
         "Full-Size Trucks",
         "Crew Cab",
         "T1CCF",
         "SIL",
         "MX",
         "Silverstone Motors",
         "ST JOHNS",
         "13-13992/309484",
         "Apex Auto Sales",
         "ST JOHNS",
         "MI",
         "1",
         "488799101",
         "6",
         "8,872",
         "0",
         "0-0310",
         "T03.0354",
         "US",
         "13",
         "FE9",
         "FTB",
         "130",
         "FREG",
         null,
         "370.03",
         "370.03",
         "61.46",
         "LZ0",
         "DIESEL, 6 CYL, 3.0L, CRI, L6, DOHC, TURBO, VGT, ALUM, CSS50V, VAR. 2",
         "MQC",
         "BYT 10 SPD, 10L80, ATSS, ETRS, CPA, GEN 2",
         "70628511",
         "V2210281MFTX0488",
         "287827.0",
         "S2210121CNJX0941",
         "2808908219",
         "6",
         "1",
         "N",
         "CF10543",
         "1500",
         "21.0",
         "0",
         "1"
        ],
        [
         "1",
         "1HRFFEE8XSZ230636",
         "13028",
         "CHECKED - FOUND DTC'S U0229 - U1530 SET IN BCM. FOUND PIP5883J, VERIFI ED RPO OPTIONS. TESTED PER SI - WAS INCONCLUSIVE.TESTEDPERWIRING SC HEMATIC - ALL CIRCUITS TESTED OK. LOOKS LIKE FAULTY HEATED S-W MODULE. ORDERED NEW MODULE 9-26-23.1-2, REPLACEDHEATED S-W MODULE.",
         "CUSTOMER STATES HEATED STEERING WHEEL INOP",
         "01-03-2024",
         "MODULE ASM-STRG WHL HT CONT",
         "Heated Steering Wheel Module Replacement",
         "Full-Size Trucks",
         "Crew Cab",
         "T1CGF",
         "FTW",
         "US",
         "Elite Auto Group",
         "FISHERS",
         "13-14819/243038",
         "SilverPeak Motors",
         "GRAND RAPIDS",
         "MN",
         "1",
         "557444215",
         "5",
         "16,346",
         "0",
         "0-0310",
         "T03.0354",
         "US",
         "48",
         "FE9",
         "FTB",
         "2400",
         "FREG",
         null,
         "307.32",
         "307.32",
         "291.14",
         "LZ0",
         "DIESEL, 6 CYL, 3.0L, CRI, L6, DOHC, TURBO, VGT, ALUM, CSS50V, VAR. 2",
         "MQC",
         "BYT 10 SPD, 10L80, ATSS, ETRS, CPA, GEN 2",
         "70628511",
         "V2210291MFTX0188",
         "17749294.0",
         "R2210881CNJX0287",
         "2808841910",
         "6",
         "1",
         "Y",
         "TF10543",
         "1500",
         "10.0",
         "0",
         "1"
        ],
        [
         "2",
         "1HYKSMRK6SZ000990",
         "13035",
         "APPROVED 4.9(OLH) FOR ADDED DIAGNOSTICS WITH TCSC TO FIGURE OUT AND CO MPLETE PROGRAMMING WHILE REPLACING THE STEERING WHEELASSEMBLY. ROB W. 1-2-24 3-31PM OLH FOR OPEN TAC CASE, CONTACT TCSC CASE # 9-1156925877 4 MULTIPLE TIMES AND COMPLETED DRIVE MOTORSOFTWARE UPDATE PROGRAMMING . PERFORMED SYSTEM CHECK AS PER CUSTOMERS CONCERN, STEERING WHEEL COMI NG APART. CONTACTED TAC CASE#9-11503916151 \" PLEASE BE AWARE IF A DEA LER RECEIVES A REPLACEMENT SUPER CRUISE STEERING WHEEL PART NUMBER 850 13816. ONCEINSTALLED THEY WILL NEED TO CONTACT TCSC AND REQUEST THIS BELOW. APPLIES TO 2023 AND 2024. ORDER AND REPLACED STEERING WHEEL, CONTACTED TCSC MANY TIMES AND ALSO GET ASSISTANCE FROM FSE BILL M. TO CO MPLETED PROGRAMMING. PER TCSC PROGRAMMED DRIVE MOTOR CONTROLMODULE 1 WCC-FDYZ196959052 PROG, SET UP WCC-0SYY196956992. AFTER PROGRAMMING CO MPLETED PERFORMED A DRIVE CYCLE AND CHECK STEERINGWHEEL OPERATION, OP ERATING NORMALLY AT THIS TIME. MILEAGE IN 5522, MILEAGE OUT 5532. CHAR GE VEHICLE SOON!!!",
         "OWNER REPORTS: THE SUPER CRUISE BAR ON THE STEERING WHEEL IS COMING OF F. CHECK AND ADVISE. ADVISOR RUNNING PRA TOOL.",
         "01-04-2024",
         "WHEEL ASM-STRG *BACKEN BLACKK",
         "Steering Wheel Replacement",
         "BEV",
         "4 Door Utility",
         "L233-LSOP",
         "SHT",
         "US",
         "CrossRoads Dealership",
         "SAN DIEGO",
         "11-46466/119152",
         "Quantum Car Traders",
         "SAN DIEGO",
         "CA",
         "1",
         "921083521",
         "9",
         "8,887",
         "0",
         "0-0310",
         "T00.0006",
         "US",
         "12",
         "YF5",
         "FF6",
         "130",
         "FREG",
         null,
         "2,457.45",
         "3,205.45",
         "1,012.67",
         "EN0",
         "NONE",
         "MF1",
         "NONE",
         null,
         null,
         null,
         null,
         "2809979441",
         "4",
         "1",
         "Y",
         "6MB26",
         "Lux-1",
         "10.0",
         "0",
         "1"
        ],
        [
         "3",
         "3HCFDFEL3SH241701",
         "13021",
         "STEERING WHEEL REPLACEMENT",
         "CUSTOMER STATES THE LETTERING AND FINISH ON THE STEERING WHEEL IS COMING OFF. Plant: SIL",
         "01-04-2024",
         "WHEEL ASM-STRG *JET BLACK",
         "Steering Wheel Replacement",
         "Full-Size Trucks",
         "Crew Cab",
         "T1CCF",
         null,
         "MX",
         "Westwood Wheels",
         "MILWAUKEE",
         "13-47099/113361",
         "Summit Drive Auto",
         "SLINGER",
         "WI",
         "1",
         "530869027",
         "10",
         "15,500",
         "0",
         "0-0890",
         "T06.2375",
         "US",
         "13",
         "FE9",
         "FTB",
         "130",
         "FREG",
         null,
         "445.28",
         "445.28",
         "63.18",
         "L87",
         "GAS, 8 CYL, V8, 6.2L, DI, DFM, ALUM, GEN 5",
         "MHS",
         "BYT 10 SPD, 10L80, GRX, GEN 1, ATSS, ETRS, VAR 1",
         "830107152",
         "N2210821MFYX0482",
         "287827.0",
         "S1210822CKJX0291",
         "2808892288",
         "6",
         "1",
         "Y",
         "CF10543",
         "1500",
         "10.0",
         "0",
         "1"
        ],
        [
         "4",
         "1HRFFHEL1RZ181474",
         "13021",
         "REPLACED STEERING MESSAGE NO LONGER DISPLAYED",
         "C/S: CUSTOMER STATES THE SERVICE DRIVER ASSIST SYSTEM MESSAGE IS ON. A DVISE",
         "01-05-2024",
         "WHEEL ASM-STRG *JET BLACK",
         "Steering Wheel Replacement",
         "Full-Size Trucks",
         "Crew Cab",
         "T1CGF",
         "FTW",
         "US",
         "LuxeAuto Sales",
         "KELLOGG",
         "11-47556/116725",
         "Horizon Motors",
         "LIBERTY LAKE",
         "WA",
         "1",
         "990197623",
         "0",
         "8",
         "0",
         "0-0621",
         "T06.2375",
         "US",
         "48",
         "NE1",
         "FUC",
         "130",
         "FREG",
         null,
         "1,439.65",
         "1,439.65",
         "136",
         "L87",
         "GAS, 8 CYL, V8, 6.2L, DI, DFM, ALUM, GEN 5",
         "MHS",
         "BYT 10 SPD, 10L80, GRX, GEN 1, ATSS, ETRS, VAR 1",
         "830107152",
         "N2212994MGPX0790",
         "17749294.0",
         "R2212982CKJX0282",
         "2808901882",
         "8",
         "1",
         "N",
         "TF10543",
         "1500",
         "10.0",
         "0",
         "1"
        ]
       ],
       "shape": {
        "columns": 52,
        "rows": 5
       }
      },
      "text/html": [
       "<div>\n",
       "<style scoped>\n",
       "    .dataframe tbody tr th:only-of-type {\n",
       "        vertical-align: middle;\n",
       "    }\n",
       "\n",
       "    .dataframe tbody tr th {\n",
       "        vertical-align: top;\n",
       "    }\n",
       "\n",
       "    .dataframe thead th {\n",
       "        text-align: right;\n",
       "    }\n",
       "</style>\n",
       "<table border=\"1\" class=\"dataframe\">\n",
       "  <thead>\n",
       "    <tr style=\"text-align: right;\">\n",
       "      <th></th>\n",
       "      <th>VIN</th>\n",
       "      <th>TRANSACTION_ID</th>\n",
       "      <th>CORRECTION_VERBATIM</th>\n",
       "      <th>CUSTOMER_VERBATIM</th>\n",
       "      <th>REPAIR_DATE</th>\n",
       "      <th>CAUSAL_PART_NM</th>\n",
       "      <th>GLOBAL_LABOR_CODE_DESCRIPTION</th>\n",
       "      <th>PLATFORM</th>\n",
       "      <th>BODY_STYLE</th>\n",
       "      <th>VPPC</th>\n",
       "      <th>...</th>\n",
       "      <th>TRANSMISSION_TRACE_NBR</th>\n",
       "      <th>SRC_TXN_ID</th>\n",
       "      <th>SRC_VER_NBR</th>\n",
       "      <th>TRANSACTION_CNTR</th>\n",
       "      <th>MEDIA_FLAG</th>\n",
       "      <th>VIN_MODL_DESGTR</th>\n",
       "      <th>LINE_SERIES</th>\n",
       "      <th>LAST_KNOWN_DELVRY_TYPE_CD</th>\n",
       "      <th>NON_CAUSAL_PART_QTY</th>\n",
       "      <th>SALES_REGION_CODE</th>\n",
       "    </tr>\n",
       "  </thead>\n",
       "  <tbody>\n",
       "    <tr>\n",
       "      <th>0</th>\n",
       "      <td>3HCFDDE89SH220903</td>\n",
       "      <td>13021</td>\n",
       "      <td>REPLACED STEERING WHEEL NOW OKAY</td>\n",
       "      <td>STEERING WHEEL COMING APART</td>\n",
       "      <td>01-02-2024</td>\n",
       "      <td>WHEEL ASM-STRG *JET BLACK</td>\n",
       "      <td>Steering Wheel Replacement</td>\n",
       "      <td>Full-Size Trucks</td>\n",
       "      <td>Crew Cab</td>\n",
       "      <td>T1CCF</td>\n",
       "      <td>...</td>\n",
       "      <td>S2210121CNJX0941</td>\n",
       "      <td>2808908219</td>\n",
       "      <td>6</td>\n",
       "      <td>1</td>\n",
       "      <td>N</td>\n",
       "      <td>CF10543</td>\n",
       "      <td>1500</td>\n",
       "      <td>21.0</td>\n",
       "      <td>0</td>\n",
       "      <td>1</td>\n",
       "    </tr>\n",
       "    <tr>\n",
       "      <th>1</th>\n",
       "      <td>1HRFFEE8XSZ230636</td>\n",
       "      <td>13028</td>\n",
       "      <td>CHECKED - FOUND DTC'S U0229 - U1530 SET IN BCM...</td>\n",
       "      <td>CUSTOMER STATES HEATED STEERING WHEEL INOP</td>\n",
       "      <td>01-03-2024</td>\n",
       "      <td>MODULE ASM-STRG WHL HT CONT</td>\n",
       "      <td>Heated Steering Wheel Module Replacement</td>\n",
       "      <td>Full-Size Trucks</td>\n",
       "      <td>Crew Cab</td>\n",
       "      <td>T1CGF</td>\n",
       "      <td>...</td>\n",
       "      <td>R2210881CNJX0287</td>\n",
       "      <td>2808841910</td>\n",
       "      <td>6</td>\n",
       "      <td>1</td>\n",
       "      <td>Y</td>\n",
       "      <td>TF10543</td>\n",
       "      <td>1500</td>\n",
       "      <td>10.0</td>\n",
       "      <td>0</td>\n",
       "      <td>1</td>\n",
       "    </tr>\n",
       "    <tr>\n",
       "      <th>2</th>\n",
       "      <td>1HYKSMRK6SZ000990</td>\n",
       "      <td>13035</td>\n",
       "      <td>APPROVED 4.9(OLH) FOR ADDED DIAGNOSTICS WITH T...</td>\n",
       "      <td>OWNER REPORTS: THE SUPER CRUISE BAR ON THE STE...</td>\n",
       "      <td>01-04-2024</td>\n",
       "      <td>WHEEL ASM-STRG *BACKEN BLACKK</td>\n",
       "      <td>Steering Wheel Replacement</td>\n",
       "      <td>BEV</td>\n",
       "      <td>4 Door Utility</td>\n",
       "      <td>L233-LSOP</td>\n",
       "      <td>...</td>\n",
       "      <td>NaN</td>\n",
       "      <td>2809979441</td>\n",
       "      <td>4</td>\n",
       "      <td>1</td>\n",
       "      <td>Y</td>\n",
       "      <td>6MB26</td>\n",
       "      <td>Lux-1</td>\n",
       "      <td>10.0</td>\n",
       "      <td>0</td>\n",
       "      <td>1</td>\n",
       "    </tr>\n",
       "    <tr>\n",
       "      <th>3</th>\n",
       "      <td>3HCFDFEL3SH241701</td>\n",
       "      <td>13021</td>\n",
       "      <td>STEERING WHEEL REPLACEMENT</td>\n",
       "      <td>CUSTOMER STATES THE LETTERING AND FINISH ON TH...</td>\n",
       "      <td>01-04-2024</td>\n",
       "      <td>WHEEL ASM-STRG *JET BLACK</td>\n",
       "      <td>Steering Wheel Replacement</td>\n",
       "      <td>Full-Size Trucks</td>\n",
       "      <td>Crew Cab</td>\n",
       "      <td>T1CCF</td>\n",
       "      <td>...</td>\n",
       "      <td>S1210822CKJX0291</td>\n",
       "      <td>2808892288</td>\n",
       "      <td>6</td>\n",
       "      <td>1</td>\n",
       "      <td>Y</td>\n",
       "      <td>CF10543</td>\n",
       "      <td>1500</td>\n",
       "      <td>10.0</td>\n",
       "      <td>0</td>\n",
       "      <td>1</td>\n",
       "    </tr>\n",
       "    <tr>\n",
       "      <th>4</th>\n",
       "      <td>1HRFFHEL1RZ181474</td>\n",
       "      <td>13021</td>\n",
       "      <td>REPLACED STEERING MESSAGE NO LONGER DISPLAYED</td>\n",
       "      <td>C/S: CUSTOMER STATES THE SERVICE DRIVER ASSIST...</td>\n",
       "      <td>01-05-2024</td>\n",
       "      <td>WHEEL ASM-STRG *JET BLACK</td>\n",
       "      <td>Steering Wheel Replacement</td>\n",
       "      <td>Full-Size Trucks</td>\n",
       "      <td>Crew Cab</td>\n",
       "      <td>T1CGF</td>\n",
       "      <td>...</td>\n",
       "      <td>R2212982CKJX0282</td>\n",
       "      <td>2808901882</td>\n",
       "      <td>8</td>\n",
       "      <td>1</td>\n",
       "      <td>N</td>\n",
       "      <td>TF10543</td>\n",
       "      <td>1500</td>\n",
       "      <td>10.0</td>\n",
       "      <td>0</td>\n",
       "      <td>1</td>\n",
       "    </tr>\n",
       "  </tbody>\n",
       "</table>\n",
       "<p>5 rows × 52 columns</p>\n",
       "</div>"
      ],
      "text/plain": [
       "                 VIN  TRANSACTION_ID  \\\n",
       "0  3HCFDDE89SH220903           13021   \n",
       "1  1HRFFEE8XSZ230636           13028   \n",
       "2  1HYKSMRK6SZ000990           13035   \n",
       "3  3HCFDFEL3SH241701           13021   \n",
       "4  1HRFFHEL1RZ181474           13021   \n",
       "\n",
       "                                 CORRECTION_VERBATIM  \\\n",
       "0                   REPLACED STEERING WHEEL NOW OKAY   \n",
       "1  CHECKED - FOUND DTC'S U0229 - U1530 SET IN BCM...   \n",
       "2  APPROVED 4.9(OLH) FOR ADDED DIAGNOSTICS WITH T...   \n",
       "3                         STEERING WHEEL REPLACEMENT   \n",
       "4      REPLACED STEERING MESSAGE NO LONGER DISPLAYED   \n",
       "\n",
       "                                   CUSTOMER_VERBATIM REPAIR_DATE  \\\n",
       "0                        STEERING WHEEL COMING APART  01-02-2024   \n",
       "1         CUSTOMER STATES HEATED STEERING WHEEL INOP  01-03-2024   \n",
       "2  OWNER REPORTS: THE SUPER CRUISE BAR ON THE STE...  01-04-2024   \n",
       "3  CUSTOMER STATES THE LETTERING AND FINISH ON TH...  01-04-2024   \n",
       "4  C/S: CUSTOMER STATES THE SERVICE DRIVER ASSIST...  01-05-2024   \n",
       "\n",
       "                  CAUSAL_PART_NM             GLOBAL_LABOR_CODE_DESCRIPTION  \\\n",
       "0      WHEEL ASM-STRG *JET BLACK                Steering Wheel Replacement   \n",
       "1    MODULE ASM-STRG WHL HT CONT  Heated Steering Wheel Module Replacement   \n",
       "2  WHEEL ASM-STRG *BACKEN BLACKK                Steering Wheel Replacement   \n",
       "3      WHEEL ASM-STRG *JET BLACK                Steering Wheel Replacement   \n",
       "4      WHEEL ASM-STRG *JET BLACK                Steering Wheel Replacement   \n",
       "\n",
       "           PLATFORM      BODY_STYLE       VPPC  ... TRANSMISSION_TRACE_NBR  \\\n",
       "0  Full-Size Trucks        Crew Cab      T1CCF  ...       S2210121CNJX0941   \n",
       "1  Full-Size Trucks        Crew Cab      T1CGF  ...       R2210881CNJX0287   \n",
       "2               BEV  4 Door Utility  L233-LSOP  ...                    NaN   \n",
       "3  Full-Size Trucks        Crew Cab      T1CCF  ...       S1210822CKJX0291   \n",
       "4  Full-Size Trucks        Crew Cab      T1CGF  ...       R2212982CKJX0282   \n",
       "\n",
       "   SRC_TXN_ID SRC_VER_NBR TRANSACTION_CNTR MEDIA_FLAG VIN_MODL_DESGTR  \\\n",
       "0  2808908219           6                1          N         CF10543   \n",
       "1  2808841910           6                1          Y         TF10543   \n",
       "2  2809979441           4                1          Y           6MB26   \n",
       "3  2808892288           6                1          Y         CF10543   \n",
       "4  2808901882           8                1          N         TF10543   \n",
       "\n",
       "  LINE_SERIES LAST_KNOWN_DELVRY_TYPE_CD  NON_CAUSAL_PART_QTY SALES_REGION_CODE  \n",
       "0        1500                      21.0                    0                 1  \n",
       "1        1500                      10.0                    0                 1  \n",
       "2       Lux-1                      10.0                    0                 1  \n",
       "3        1500                      10.0                    0                 1  \n",
       "4        1500                      10.0                    0                 1  \n",
       "\n",
       "[5 rows x 52 columns]"
      ]
     },
     "metadata": {},
     "output_type": "display_data"
    }
   ],
   "source": [
    "df = pd.read_csv('vehicle_repairs.csv')\n",
    "\n",
    "# Display dimensions about the dataframe\n",
    "print(\"Dataset Shape:\", df.shape)\n",
    "print(\"\\nFirst 5 rows:\")\n",
    "display(df.head())  "
   ]
  },
  {
   "cell_type": "code",
   "execution_count": 4,
   "id": "5393f6c6",
   "metadata": {},
   "outputs": [
    {
     "name": "stdout",
     "output_type": "stream",
     "text": [
      "Dataset Info:\n",
      "<class 'pandas.core.frame.DataFrame'>\n",
      "RangeIndex: 100 entries, 0 to 99\n",
      "Data columns (total 52 columns):\n",
      " #   Column                         Non-Null Count  Dtype  \n",
      "---  ------                         --------------  -----  \n",
      " 0   VIN                            100 non-null    object \n",
      " 1   TRANSACTION_ID                 100 non-null    int64  \n",
      " 2   CORRECTION_VERBATIM            100 non-null    object \n",
      " 3   CUSTOMER_VERBATIM              100 non-null    object \n",
      " 4   REPAIR_DATE                    100 non-null    object \n",
      " 5   CAUSAL_PART_NM                 95 non-null     object \n",
      " 6   GLOBAL_LABOR_CODE_DESCRIPTION  100 non-null    object \n",
      " 7   PLATFORM                       100 non-null    object \n",
      " 8   BODY_STYLE                     100 non-null    object \n",
      " 9   VPPC                           100 non-null    object \n",
      " 10  PLANT                          99 non-null     object \n",
      " 11  BUILD_COUNTRY                  100 non-null    object \n",
      " 12  LAST_KNOWN_DLR_NAME            100 non-null    object \n",
      " 13  LAST_KNOWN_DLR_CITY            100 non-null    object \n",
      " 14  REPAIRING_DEALER_CODE          100 non-null    object \n",
      " 15  DEALER_NAME                    100 non-null    object \n",
      " 16  REPAIR_DLR_CITY                100 non-null    object \n",
      " 17  STATE                          98 non-null     object \n",
      " 18  DEALER_REGION                  100 non-null    int64  \n",
      " 19  REPAIR_DLR_POSTAL_CD           98 non-null     object \n",
      " 20  REPAIR_AGE                     100 non-null    int64  \n",
      " 21  KM                             100 non-null    object \n",
      " 22  COMPLAINT_CD_CSI               100 non-null    int64  \n",
      " 23  COMPLAINT_CD                   100 non-null    object \n",
      " 24  VEH_TEST_GRP                   98 non-null     object \n",
      " 25  COUNTRY_SALE_ISO               100 non-null    object \n",
      " 26  ORD_SELLING_SRC_CD             100 non-null    int64  \n",
      " 27  OPTN_FAMLY_CERTIFICATION       90 non-null     object \n",
      " 28  OPTF_FAMLY_EMISSIOF_SYSTEM     95 non-null     object \n",
      " 29  GLOBAL_LABOR_CODE              100 non-null    int64  \n",
      " 30  TRANSACTION_CATEGORY           100 non-null    object \n",
      " 31  CAMPAIGN_NBR                   0 non-null      float64\n",
      " 32  REPORTING_COST                 100 non-null    object \n",
      " 33  TOTALCOST                      94 non-null     object \n",
      " 34  LBRCOST                        100 non-null    object \n",
      " 35  ENGINE                         100 non-null    object \n",
      " 36  ENGINE_DESC                    100 non-null    object \n",
      " 37  TRANSMISSION                   100 non-null    object \n",
      " 38  TRANSMISSION_DESC              100 non-null    object \n",
      " 39  ENGINE_SOURCE_PLANT            88 non-null     object \n",
      " 40  ENGINE_TRACE_NBR               88 non-null     object \n",
      " 41  TRANSMISSION_SOURCE_PLANT      88 non-null     float64\n",
      " 42  TRANSMISSION_TRACE_NBR         88 non-null     object \n",
      " 43  SRC_TXN_ID                     100 non-null    int64  \n",
      " 44  SRC_VER_NBR                    100 non-null    int64  \n",
      " 45  TRANSACTION_CNTR               100 non-null    int64  \n",
      " 46  MEDIA_FLAG                     100 non-null    object \n",
      " 47  VIN_MODL_DESGTR                100 non-null    object \n",
      " 48  LINE_SERIES                    99 non-null     object \n",
      " 49  LAST_KNOWN_DELVRY_TYPE_CD      98 non-null     float64\n",
      " 50  NON_CAUSAL_PART_QTY            100 non-null    int64  \n",
      " 51  SALES_REGION_CODE              100 non-null    int64  \n",
      "dtypes: float64(3), int64(11), object(38)\n",
      "memory usage: 40.8+ KB\n"
     ]
    }
   ],
   "source": [
    "# Display basic information about the dataframe\n",
    "print(\"Dataset Info:\")\n",
    "df.info()"
   ]
  },
  {
   "cell_type": "markdown",
   "id": "df7ae70a",
   "metadata": {},
   "source": [
    "### 2.1 Descriptive statistics for numerical columns"
   ]
  },
  {
   "cell_type": "code",
   "execution_count": 5,
   "id": "dc74747d",
   "metadata": {},
   "outputs": [
    {
     "name": "stdout",
     "output_type": "stream",
     "text": [
      "\n",
      "Descriptive Statistics:\n"
     ]
    },
    {
     "data": {
      "application/vnd.microsoft.datawrangler.viewer.v0+json": {
       "columns": [
        {
         "name": "index",
         "rawType": "object",
         "type": "string"
        },
        {
         "name": "count",
         "rawType": "object",
         "type": "unknown"
        },
        {
         "name": "unique",
         "rawType": "object",
         "type": "unknown"
        },
        {
         "name": "top",
         "rawType": "object",
         "type": "unknown"
        },
        {
         "name": "freq",
         "rawType": "object",
         "type": "unknown"
        },
        {
         "name": "mean",
         "rawType": "object",
         "type": "unknown"
        },
        {
         "name": "std",
         "rawType": "object",
         "type": "unknown"
        },
        {
         "name": "min",
         "rawType": "object",
         "type": "unknown"
        },
        {
         "name": "25%",
         "rawType": "object",
         "type": "unknown"
        },
        {
         "name": "50%",
         "rawType": "object",
         "type": "unknown"
        },
        {
         "name": "75%",
         "rawType": "object",
         "type": "unknown"
        },
        {
         "name": "max",
         "rawType": "object",
         "type": "unknown"
        }
       ],
       "conversionMethod": "pd.DataFrame",
       "ref": "f976d4df-8bfc-41c7-af45-a5137c62f8b9",
       "rows": [
        [
         "VIN",
         "100",
         "98",
         "3HRS9EED0LH255650",
         "2",
         null,
         null,
         null,
         null,
         null,
         null,
         null
        ],
        [
         "TRANSACTION_ID",
         "100.0",
         null,
         null,
         null,
         "13036.9",
         "12.028165598991713",
         "13021.0",
         "13027.75",
         "13036.0",
         "13041.25",
         "13081.0"
        ],
        [
         "CORRECTION_VERBATIM",
         "100",
         "93",
         "REPLACED STEERING WHEEL",
         "3",
         null,
         null,
         null,
         null,
         null,
         null,
         null
        ],
        [
         "CUSTOMER_VERBATIM",
         "100",
         "100",
         "STEERING WHEEL COMING APART",
         "1",
         null,
         null,
         null,
         null,
         null,
         null,
         null
        ],
        [
         "REPAIR_DATE",
         "100",
         "29",
         "02-02-2024",
         "9",
         null,
         null,
         null,
         null,
         null,
         null,
         null
        ],
        [
         "CAUSAL_PART_NM",
         "95",
         "18",
         "WHEEL ASM-STRG *JET BLACK",
         "45",
         null,
         null,
         null,
         null,
         null,
         null,
         null
        ],
        [
         "GLOBAL_LABOR_CODE_DESCRIPTION",
         "100",
         "4",
         "Steering Wheel Replacement",
         "78",
         null,
         null,
         null,
         null,
         null,
         null,
         null
        ],
        [
         "PLATFORM",
         "100",
         "11",
         "Full-Size Trucks",
         "52",
         null,
         null,
         null,
         null,
         null,
         null,
         null
        ],
        [
         "BODY_STYLE",
         "100",
         "6",
         "Crew Cab",
         "50",
         null,
         null,
         null,
         null,
         null,
         null,
         null
        ],
        [
         "VPPC",
         "100",
         "26",
         "T1CCF",
         "20",
         null,
         null,
         null,
         null,
         null,
         null,
         null
        ],
        [
         "PLANT",
         "99",
         "11",
         "SIL",
         "19",
         null,
         null,
         null,
         null,
         null,
         null,
         null
        ],
        [
         "BUILD_COUNTRY",
         "100",
         "3",
         "US",
         "73",
         null,
         null,
         null,
         null,
         null,
         null,
         null
        ],
        [
         "LAST_KNOWN_DLR_NAME",
         "100",
         "100",
         "Silverstone Motors",
         "1",
         null,
         null,
         null,
         null,
         null,
         null,
         null
        ],
        [
         "LAST_KNOWN_DLR_CITY",
         "100",
         "94",
         "SMITHTOWN",
         "2",
         null,
         null,
         null,
         null,
         null,
         null,
         null
        ],
        [
         "REPAIRING_DEALER_CODE",
         "100",
         "95",
         "11-46346/118677",
         "3",
         null,
         null,
         null,
         null,
         null,
         null,
         null
        ],
        [
         "DEALER_NAME",
         "100",
         "100",
         "Apex Auto Sales",
         "1",
         null,
         null,
         null,
         null,
         null,
         null,
         null
        ],
        [
         "REPAIR_DLR_CITY",
         "100",
         "93",
         "GRAND RAPIDS",
         "3",
         null,
         null,
         null,
         null,
         null,
         null,
         null
        ],
        [
         "STATE",
         "98",
         "39",
         "CA",
         "9",
         null,
         null,
         null,
         null,
         null,
         null,
         null
        ],
        [
         "DEALER_REGION",
         "100.0",
         null,
         null,
         null,
         "1.09",
         "0.514339823993296",
         "1.0",
         "1.0",
         "1.0",
         "1.0",
         "4.0"
        ],
        [
         "REPAIR_DLR_POSTAL_CD",
         "98",
         "92",
         "907551909",
         "3",
         null,
         null,
         null,
         null,
         null,
         null,
         null
        ],
        [
         "REPAIR_AGE",
         "100.0",
         null,
         null,
         null,
         "14.94",
         "12.367944882075623",
         "0.0",
         "5.0",
         "12.0",
         "21.0",
         "50.0"
        ],
        [
         "KM",
         "100",
         "100",
         "8,872",
         "1",
         null,
         null,
         null,
         null,
         null,
         null,
         null
        ],
        [
         "COMPLAINT_CD_CSI",
         "100.0",
         null,
         null,
         null,
         "0.0",
         "0.0",
         "0.0",
         "0.0",
         "0.0",
         "0.0",
         "0.0"
        ],
        [
         "COMPLAINT_CD",
         "100",
         "7",
         "0-0890",
         "40",
         null,
         null,
         null,
         null,
         null,
         null,
         null
        ],
        [
         "VEH_TEST_GRP",
         "98",
         "23",
         "T05.3386",
         "19",
         null,
         null,
         null,
         null,
         null,
         null,
         null
        ],
        [
         "COUNTRY_SALE_ISO",
         "100",
         "6",
         "US",
         "84",
         null,
         null,
         null,
         null,
         null,
         null,
         null
        ],
        [
         "ORD_SELLING_SRC_CD",
         "100.0",
         null,
         null,
         null,
         "24.59",
         "17.82297631846277",
         "11.0",
         "13.0",
         "13.0",
         "48.0",
         "72.0"
        ],
        [
         "OPTN_FAMLY_CERTIFICATION",
         "90",
         "3",
         "FE9",
         "62",
         null,
         null,
         null,
         null,
         null,
         null,
         null
        ],
        [
         "OPTF_FAMLY_EMISSIOF_SYSTEM",
         "95",
         "8",
         "FTB",
         "62",
         null,
         null,
         null,
         null,
         null,
         null,
         null
        ],
        [
         "GLOBAL_LABOR_CODE",
         "100.0",
         null,
         null,
         null,
         "251.9",
         "546.4517223401211",
         "20.0",
         "130.0",
         "130.0",
         "130.0",
         "2400.0"
        ],
        [
         "TRANSACTION_CATEGORY",
         "100",
         "2",
         "FREG",
         "89",
         null,
         null,
         null,
         null,
         null,
         null,
         null
        ],
        [
         "CAMPAIGN_NBR",
         "0.0",
         null,
         null,
         null,
         null,
         null,
         null,
         null,
         null,
         null,
         null
        ],
        [
         "REPORTING_COST",
         "100",
         "100",
         "370.03",
         "1",
         null,
         null,
         null,
         null,
         null,
         null,
         null
        ],
        [
         "TOTALCOST",
         "94",
         "94",
         "370.03",
         "1",
         null,
         null,
         null,
         null,
         null,
         null,
         null
        ],
        [
         "LBRCOST",
         "100",
         "99",
         "86.57",
         "2",
         null,
         null,
         null,
         null,
         null,
         null,
         null
        ],
        [
         "ENGINE",
         "100",
         "12",
         "L84",
         "24",
         null,
         null,
         null,
         null,
         null,
         null,
         null
        ],
        [
         "ENGINE_DESC",
         "100",
         "12",
         "GAS, 8 CYL, 5.3L, V8, DI, DFM, ALUM, GEN 5",
         "24",
         null,
         null,
         null,
         null,
         null,
         null,
         null
        ],
        [
         "TRANSMISSION",
         "100",
         "19",
         "MHS",
         "28",
         null,
         null,
         null,
         null,
         null,
         null,
         null
        ],
        [
         "TRANSMISSION_DESC",
         "100",
         "20",
         "BYT 10 SPD, 10L80, GRX, GEN 1, ATSS, ETRS, VAR 1",
         "28",
         null,
         null,
         null,
         null,
         null,
         null,
         null
        ],
        [
         "ENGINE_SOURCE_PLANT",
         "88",
         "9",
         "830107152",
         "15",
         null,
         null,
         null,
         null,
         null,
         null,
         null
        ],
        [
         "ENGINE_TRACE_NBR",
         "88",
         "88",
         "V2210281MFTX0488",
         "1",
         null,
         null,
         null,
         null,
         null,
         null,
         null
        ],
        [
         "TRANSMISSION_SOURCE_PLANT",
         "88.0",
         null,
         null,
         null,
         "167638281.38636363",
         "323753752.02327114",
         "287827.0",
         "287827.0",
         "8042172.0",
         "17749294.0",
         "828298448.0"
        ],
        [
         "TRANSMISSION_TRACE_NBR",
         "88",
         "88",
         "S2210121CNJX0941",
         "1",
         null,
         null,
         null,
         null,
         null,
         null,
         null
        ],
        [
         "SRC_TXN_ID",
         "100.0",
         null,
         null,
         null,
         "2815766825.61",
         "5790726.515719441",
         "2808841910.0",
         "2809435965.0",
         "2820096605.0",
         "2820879995.25",
         "2822999949.0"
        ],
        [
         "SRC_VER_NBR",
         "100.0",
         null,
         null,
         null,
         "5.72",
         "4.040402020201515",
         "2.0",
         "4.0",
         "4.0",
         "6.0",
         "26.0"
        ],
        [
         "TRANSACTION_CNTR",
         "100.0",
         null,
         null,
         null,
         "1.0",
         "0.0",
         "1.0",
         "1.0",
         "1.0",
         "1.0",
         "1.0"
        ],
        [
         "MEDIA_FLAG",
         "100",
         "2",
         "N",
         "62",
         null,
         null,
         null,
         null,
         null,
         null,
         null
        ],
        [
         "VIN_MODL_DESGTR",
         "100",
         "41",
         "CF10543",
         "15",
         null,
         null,
         null,
         null,
         null,
         null,
         null
        ],
        [
         "LINE_SERIES",
         "99",
         "22",
         "1500",
         "52",
         null,
         null,
         null,
         null,
         null,
         null,
         null
        ],
        [
         "LAST_KNOWN_DELVRY_TYPE_CD",
         "98.0",
         null,
         null,
         null,
         "14.13265306122449",
         "6.694570434394802",
         "10.0",
         "10.0",
         "10.0",
         "16.0",
         "37.0"
        ]
       ],
       "shape": {
        "columns": 11,
        "rows": 52
       }
      },
      "text/html": [
       "<div>\n",
       "<style scoped>\n",
       "    .dataframe tbody tr th:only-of-type {\n",
       "        vertical-align: middle;\n",
       "    }\n",
       "\n",
       "    .dataframe tbody tr th {\n",
       "        vertical-align: top;\n",
       "    }\n",
       "\n",
       "    .dataframe thead th {\n",
       "        text-align: right;\n",
       "    }\n",
       "</style>\n",
       "<table border=\"1\" class=\"dataframe\">\n",
       "  <thead>\n",
       "    <tr style=\"text-align: right;\">\n",
       "      <th></th>\n",
       "      <th>count</th>\n",
       "      <th>unique</th>\n",
       "      <th>top</th>\n",
       "      <th>freq</th>\n",
       "      <th>mean</th>\n",
       "      <th>std</th>\n",
       "      <th>min</th>\n",
       "      <th>25%</th>\n",
       "      <th>50%</th>\n",
       "      <th>75%</th>\n",
       "      <th>max</th>\n",
       "    </tr>\n",
       "  </thead>\n",
       "  <tbody>\n",
       "    <tr>\n",
       "      <th>VIN</th>\n",
       "      <td>100</td>\n",
       "      <td>98</td>\n",
       "      <td>3HRS9EED0LH255650</td>\n",
       "      <td>2</td>\n",
       "      <td>NaN</td>\n",
       "      <td>NaN</td>\n",
       "      <td>NaN</td>\n",
       "      <td>NaN</td>\n",
       "      <td>NaN</td>\n",
       "      <td>NaN</td>\n",
       "      <td>NaN</td>\n",
       "    </tr>\n",
       "    <tr>\n",
       "      <th>TRANSACTION_ID</th>\n",
       "      <td>100.0</td>\n",
       "      <td>NaN</td>\n",
       "      <td>NaN</td>\n",
       "      <td>NaN</td>\n",
       "      <td>13036.9</td>\n",
       "      <td>12.028166</td>\n",
       "      <td>13021.0</td>\n",
       "      <td>13027.75</td>\n",
       "      <td>13036.0</td>\n",
       "      <td>13041.25</td>\n",
       "      <td>13081.0</td>\n",
       "    </tr>\n",
       "    <tr>\n",
       "      <th>CORRECTION_VERBATIM</th>\n",
       "      <td>100</td>\n",
       "      <td>93</td>\n",
       "      <td>REPLACED STEERING WHEEL</td>\n",
       "      <td>3</td>\n",
       "      <td>NaN</td>\n",
       "      <td>NaN</td>\n",
       "      <td>NaN</td>\n",
       "      <td>NaN</td>\n",
       "      <td>NaN</td>\n",
       "      <td>NaN</td>\n",
       "      <td>NaN</td>\n",
       "    </tr>\n",
       "    <tr>\n",
       "      <th>CUSTOMER_VERBATIM</th>\n",
       "      <td>100</td>\n",
       "      <td>100</td>\n",
       "      <td>STEERING WHEEL COMING APART</td>\n",
       "      <td>1</td>\n",
       "      <td>NaN</td>\n",
       "      <td>NaN</td>\n",
       "      <td>NaN</td>\n",
       "      <td>NaN</td>\n",
       "      <td>NaN</td>\n",
       "      <td>NaN</td>\n",
       "      <td>NaN</td>\n",
       "    </tr>\n",
       "    <tr>\n",
       "      <th>REPAIR_DATE</th>\n",
       "      <td>100</td>\n",
       "      <td>29</td>\n",
       "      <td>02-02-2024</td>\n",
       "      <td>9</td>\n",
       "      <td>NaN</td>\n",
       "      <td>NaN</td>\n",
       "      <td>NaN</td>\n",
       "      <td>NaN</td>\n",
       "      <td>NaN</td>\n",
       "      <td>NaN</td>\n",
       "      <td>NaN</td>\n",
       "    </tr>\n",
       "    <tr>\n",
       "      <th>CAUSAL_PART_NM</th>\n",
       "      <td>95</td>\n",
       "      <td>18</td>\n",
       "      <td>WHEEL ASM-STRG *JET BLACK</td>\n",
       "      <td>45</td>\n",
       "      <td>NaN</td>\n",
       "      <td>NaN</td>\n",
       "      <td>NaN</td>\n",
       "      <td>NaN</td>\n",
       "      <td>NaN</td>\n",
       "      <td>NaN</td>\n",
       "      <td>NaN</td>\n",
       "    </tr>\n",
       "    <tr>\n",
       "      <th>GLOBAL_LABOR_CODE_DESCRIPTION</th>\n",
       "      <td>100</td>\n",
       "      <td>4</td>\n",
       "      <td>Steering Wheel Replacement</td>\n",
       "      <td>78</td>\n",
       "      <td>NaN</td>\n",
       "      <td>NaN</td>\n",
       "      <td>NaN</td>\n",
       "      <td>NaN</td>\n",
       "      <td>NaN</td>\n",
       "      <td>NaN</td>\n",
       "      <td>NaN</td>\n",
       "    </tr>\n",
       "    <tr>\n",
       "      <th>PLATFORM</th>\n",
       "      <td>100</td>\n",
       "      <td>11</td>\n",
       "      <td>Full-Size Trucks</td>\n",
       "      <td>52</td>\n",
       "      <td>NaN</td>\n",
       "      <td>NaN</td>\n",
       "      <td>NaN</td>\n",
       "      <td>NaN</td>\n",
       "      <td>NaN</td>\n",
       "      <td>NaN</td>\n",
       "      <td>NaN</td>\n",
       "    </tr>\n",
       "    <tr>\n",
       "      <th>BODY_STYLE</th>\n",
       "      <td>100</td>\n",
       "      <td>6</td>\n",
       "      <td>Crew Cab</td>\n",
       "      <td>50</td>\n",
       "      <td>NaN</td>\n",
       "      <td>NaN</td>\n",
       "      <td>NaN</td>\n",
       "      <td>NaN</td>\n",
       "      <td>NaN</td>\n",
       "      <td>NaN</td>\n",
       "      <td>NaN</td>\n",
       "    </tr>\n",
       "    <tr>\n",
       "      <th>VPPC</th>\n",
       "      <td>100</td>\n",
       "      <td>26</td>\n",
       "      <td>T1CCF</td>\n",
       "      <td>20</td>\n",
       "      <td>NaN</td>\n",
       "      <td>NaN</td>\n",
       "      <td>NaN</td>\n",
       "      <td>NaN</td>\n",
       "      <td>NaN</td>\n",
       "      <td>NaN</td>\n",
       "      <td>NaN</td>\n",
       "    </tr>\n",
       "    <tr>\n",
       "      <th>PLANT</th>\n",
       "      <td>99</td>\n",
       "      <td>11</td>\n",
       "      <td>SIL</td>\n",
       "      <td>19</td>\n",
       "      <td>NaN</td>\n",
       "      <td>NaN</td>\n",
       "      <td>NaN</td>\n",
       "      <td>NaN</td>\n",
       "      <td>NaN</td>\n",
       "      <td>NaN</td>\n",
       "      <td>NaN</td>\n",
       "    </tr>\n",
       "    <tr>\n",
       "      <th>BUILD_COUNTRY</th>\n",
       "      <td>100</td>\n",
       "      <td>3</td>\n",
       "      <td>US</td>\n",
       "      <td>73</td>\n",
       "      <td>NaN</td>\n",
       "      <td>NaN</td>\n",
       "      <td>NaN</td>\n",
       "      <td>NaN</td>\n",
       "      <td>NaN</td>\n",
       "      <td>NaN</td>\n",
       "      <td>NaN</td>\n",
       "    </tr>\n",
       "    <tr>\n",
       "      <th>LAST_KNOWN_DLR_NAME</th>\n",
       "      <td>100</td>\n",
       "      <td>100</td>\n",
       "      <td>Silverstone Motors</td>\n",
       "      <td>1</td>\n",
       "      <td>NaN</td>\n",
       "      <td>NaN</td>\n",
       "      <td>NaN</td>\n",
       "      <td>NaN</td>\n",
       "      <td>NaN</td>\n",
       "      <td>NaN</td>\n",
       "      <td>NaN</td>\n",
       "    </tr>\n",
       "    <tr>\n",
       "      <th>LAST_KNOWN_DLR_CITY</th>\n",
       "      <td>100</td>\n",
       "      <td>94</td>\n",
       "      <td>SMITHTOWN</td>\n",
       "      <td>2</td>\n",
       "      <td>NaN</td>\n",
       "      <td>NaN</td>\n",
       "      <td>NaN</td>\n",
       "      <td>NaN</td>\n",
       "      <td>NaN</td>\n",
       "      <td>NaN</td>\n",
       "      <td>NaN</td>\n",
       "    </tr>\n",
       "    <tr>\n",
       "      <th>REPAIRING_DEALER_CODE</th>\n",
       "      <td>100</td>\n",
       "      <td>95</td>\n",
       "      <td>11-46346/118677</td>\n",
       "      <td>3</td>\n",
       "      <td>NaN</td>\n",
       "      <td>NaN</td>\n",
       "      <td>NaN</td>\n",
       "      <td>NaN</td>\n",
       "      <td>NaN</td>\n",
       "      <td>NaN</td>\n",
       "      <td>NaN</td>\n",
       "    </tr>\n",
       "    <tr>\n",
       "      <th>DEALER_NAME</th>\n",
       "      <td>100</td>\n",
       "      <td>100</td>\n",
       "      <td>Apex Auto Sales</td>\n",
       "      <td>1</td>\n",
       "      <td>NaN</td>\n",
       "      <td>NaN</td>\n",
       "      <td>NaN</td>\n",
       "      <td>NaN</td>\n",
       "      <td>NaN</td>\n",
       "      <td>NaN</td>\n",
       "      <td>NaN</td>\n",
       "    </tr>\n",
       "    <tr>\n",
       "      <th>REPAIR_DLR_CITY</th>\n",
       "      <td>100</td>\n",
       "      <td>93</td>\n",
       "      <td>GRAND RAPIDS</td>\n",
       "      <td>3</td>\n",
       "      <td>NaN</td>\n",
       "      <td>NaN</td>\n",
       "      <td>NaN</td>\n",
       "      <td>NaN</td>\n",
       "      <td>NaN</td>\n",
       "      <td>NaN</td>\n",
       "      <td>NaN</td>\n",
       "    </tr>\n",
       "    <tr>\n",
       "      <th>STATE</th>\n",
       "      <td>98</td>\n",
       "      <td>39</td>\n",
       "      <td>CA</td>\n",
       "      <td>9</td>\n",
       "      <td>NaN</td>\n",
       "      <td>NaN</td>\n",
       "      <td>NaN</td>\n",
       "      <td>NaN</td>\n",
       "      <td>NaN</td>\n",
       "      <td>NaN</td>\n",
       "      <td>NaN</td>\n",
       "    </tr>\n",
       "    <tr>\n",
       "      <th>DEALER_REGION</th>\n",
       "      <td>100.0</td>\n",
       "      <td>NaN</td>\n",
       "      <td>NaN</td>\n",
       "      <td>NaN</td>\n",
       "      <td>1.09</td>\n",
       "      <td>0.51434</td>\n",
       "      <td>1.0</td>\n",
       "      <td>1.0</td>\n",
       "      <td>1.0</td>\n",
       "      <td>1.0</td>\n",
       "      <td>4.0</td>\n",
       "    </tr>\n",
       "    <tr>\n",
       "      <th>REPAIR_DLR_POSTAL_CD</th>\n",
       "      <td>98</td>\n",
       "      <td>92</td>\n",
       "      <td>907551909</td>\n",
       "      <td>3</td>\n",
       "      <td>NaN</td>\n",
       "      <td>NaN</td>\n",
       "      <td>NaN</td>\n",
       "      <td>NaN</td>\n",
       "      <td>NaN</td>\n",
       "      <td>NaN</td>\n",
       "      <td>NaN</td>\n",
       "    </tr>\n",
       "    <tr>\n",
       "      <th>REPAIR_AGE</th>\n",
       "      <td>100.0</td>\n",
       "      <td>NaN</td>\n",
       "      <td>NaN</td>\n",
       "      <td>NaN</td>\n",
       "      <td>14.94</td>\n",
       "      <td>12.367945</td>\n",
       "      <td>0.0</td>\n",
       "      <td>5.0</td>\n",
       "      <td>12.0</td>\n",
       "      <td>21.0</td>\n",
       "      <td>50.0</td>\n",
       "    </tr>\n",
       "    <tr>\n",
       "      <th>KM</th>\n",
       "      <td>100</td>\n",
       "      <td>100</td>\n",
       "      <td>8,872</td>\n",
       "      <td>1</td>\n",
       "      <td>NaN</td>\n",
       "      <td>NaN</td>\n",
       "      <td>NaN</td>\n",
       "      <td>NaN</td>\n",
       "      <td>NaN</td>\n",
       "      <td>NaN</td>\n",
       "      <td>NaN</td>\n",
       "    </tr>\n",
       "    <tr>\n",
       "      <th>COMPLAINT_CD_CSI</th>\n",
       "      <td>100.0</td>\n",
       "      <td>NaN</td>\n",
       "      <td>NaN</td>\n",
       "      <td>NaN</td>\n",
       "      <td>0.0</td>\n",
       "      <td>0.0</td>\n",
       "      <td>0.0</td>\n",
       "      <td>0.0</td>\n",
       "      <td>0.0</td>\n",
       "      <td>0.0</td>\n",
       "      <td>0.0</td>\n",
       "    </tr>\n",
       "    <tr>\n",
       "      <th>COMPLAINT_CD</th>\n",
       "      <td>100</td>\n",
       "      <td>7</td>\n",
       "      <td>0-0890</td>\n",
       "      <td>40</td>\n",
       "      <td>NaN</td>\n",
       "      <td>NaN</td>\n",
       "      <td>NaN</td>\n",
       "      <td>NaN</td>\n",
       "      <td>NaN</td>\n",
       "      <td>NaN</td>\n",
       "      <td>NaN</td>\n",
       "    </tr>\n",
       "    <tr>\n",
       "      <th>VEH_TEST_GRP</th>\n",
       "      <td>98</td>\n",
       "      <td>23</td>\n",
       "      <td>T05.3386</td>\n",
       "      <td>19</td>\n",
       "      <td>NaN</td>\n",
       "      <td>NaN</td>\n",
       "      <td>NaN</td>\n",
       "      <td>NaN</td>\n",
       "      <td>NaN</td>\n",
       "      <td>NaN</td>\n",
       "      <td>NaN</td>\n",
       "    </tr>\n",
       "    <tr>\n",
       "      <th>COUNTRY_SALE_ISO</th>\n",
       "      <td>100</td>\n",
       "      <td>6</td>\n",
       "      <td>US</td>\n",
       "      <td>84</td>\n",
       "      <td>NaN</td>\n",
       "      <td>NaN</td>\n",
       "      <td>NaN</td>\n",
       "      <td>NaN</td>\n",
       "      <td>NaN</td>\n",
       "      <td>NaN</td>\n",
       "      <td>NaN</td>\n",
       "    </tr>\n",
       "    <tr>\n",
       "      <th>ORD_SELLING_SRC_CD</th>\n",
       "      <td>100.0</td>\n",
       "      <td>NaN</td>\n",
       "      <td>NaN</td>\n",
       "      <td>NaN</td>\n",
       "      <td>24.59</td>\n",
       "      <td>17.822976</td>\n",
       "      <td>11.0</td>\n",
       "      <td>13.0</td>\n",
       "      <td>13.0</td>\n",
       "      <td>48.0</td>\n",
       "      <td>72.0</td>\n",
       "    </tr>\n",
       "    <tr>\n",
       "      <th>OPTN_FAMLY_CERTIFICATION</th>\n",
       "      <td>90</td>\n",
       "      <td>3</td>\n",
       "      <td>FE9</td>\n",
       "      <td>62</td>\n",
       "      <td>NaN</td>\n",
       "      <td>NaN</td>\n",
       "      <td>NaN</td>\n",
       "      <td>NaN</td>\n",
       "      <td>NaN</td>\n",
       "      <td>NaN</td>\n",
       "      <td>NaN</td>\n",
       "    </tr>\n",
       "    <tr>\n",
       "      <th>OPTF_FAMLY_EMISSIOF_SYSTEM</th>\n",
       "      <td>95</td>\n",
       "      <td>8</td>\n",
       "      <td>FTB</td>\n",
       "      <td>62</td>\n",
       "      <td>NaN</td>\n",
       "      <td>NaN</td>\n",
       "      <td>NaN</td>\n",
       "      <td>NaN</td>\n",
       "      <td>NaN</td>\n",
       "      <td>NaN</td>\n",
       "      <td>NaN</td>\n",
       "    </tr>\n",
       "    <tr>\n",
       "      <th>GLOBAL_LABOR_CODE</th>\n",
       "      <td>100.0</td>\n",
       "      <td>NaN</td>\n",
       "      <td>NaN</td>\n",
       "      <td>NaN</td>\n",
       "      <td>251.9</td>\n",
       "      <td>546.451722</td>\n",
       "      <td>20.0</td>\n",
       "      <td>130.0</td>\n",
       "      <td>130.0</td>\n",
       "      <td>130.0</td>\n",
       "      <td>2400.0</td>\n",
       "    </tr>\n",
       "    <tr>\n",
       "      <th>TRANSACTION_CATEGORY</th>\n",
       "      <td>100</td>\n",
       "      <td>2</td>\n",
       "      <td>FREG</td>\n",
       "      <td>89</td>\n",
       "      <td>NaN</td>\n",
       "      <td>NaN</td>\n",
       "      <td>NaN</td>\n",
       "      <td>NaN</td>\n",
       "      <td>NaN</td>\n",
       "      <td>NaN</td>\n",
       "      <td>NaN</td>\n",
       "    </tr>\n",
       "    <tr>\n",
       "      <th>CAMPAIGN_NBR</th>\n",
       "      <td>0.0</td>\n",
       "      <td>NaN</td>\n",
       "      <td>NaN</td>\n",
       "      <td>NaN</td>\n",
       "      <td>NaN</td>\n",
       "      <td>NaN</td>\n",
       "      <td>NaN</td>\n",
       "      <td>NaN</td>\n",
       "      <td>NaN</td>\n",
       "      <td>NaN</td>\n",
       "      <td>NaN</td>\n",
       "    </tr>\n",
       "    <tr>\n",
       "      <th>REPORTING_COST</th>\n",
       "      <td>100</td>\n",
       "      <td>100</td>\n",
       "      <td>370.03</td>\n",
       "      <td>1</td>\n",
       "      <td>NaN</td>\n",
       "      <td>NaN</td>\n",
       "      <td>NaN</td>\n",
       "      <td>NaN</td>\n",
       "      <td>NaN</td>\n",
       "      <td>NaN</td>\n",
       "      <td>NaN</td>\n",
       "    </tr>\n",
       "    <tr>\n",
       "      <th>TOTALCOST</th>\n",
       "      <td>94</td>\n",
       "      <td>94</td>\n",
       "      <td>370.03</td>\n",
       "      <td>1</td>\n",
       "      <td>NaN</td>\n",
       "      <td>NaN</td>\n",
       "      <td>NaN</td>\n",
       "      <td>NaN</td>\n",
       "      <td>NaN</td>\n",
       "      <td>NaN</td>\n",
       "      <td>NaN</td>\n",
       "    </tr>\n",
       "    <tr>\n",
       "      <th>LBRCOST</th>\n",
       "      <td>100</td>\n",
       "      <td>99</td>\n",
       "      <td>86.57</td>\n",
       "      <td>2</td>\n",
       "      <td>NaN</td>\n",
       "      <td>NaN</td>\n",
       "      <td>NaN</td>\n",
       "      <td>NaN</td>\n",
       "      <td>NaN</td>\n",
       "      <td>NaN</td>\n",
       "      <td>NaN</td>\n",
       "    </tr>\n",
       "    <tr>\n",
       "      <th>ENGINE</th>\n",
       "      <td>100</td>\n",
       "      <td>12</td>\n",
       "      <td>L84</td>\n",
       "      <td>24</td>\n",
       "      <td>NaN</td>\n",
       "      <td>NaN</td>\n",
       "      <td>NaN</td>\n",
       "      <td>NaN</td>\n",
       "      <td>NaN</td>\n",
       "      <td>NaN</td>\n",
       "      <td>NaN</td>\n",
       "    </tr>\n",
       "    <tr>\n",
       "      <th>ENGINE_DESC</th>\n",
       "      <td>100</td>\n",
       "      <td>12</td>\n",
       "      <td>GAS, 8 CYL, 5.3L, V8, DI, DFM, ALUM, GEN 5</td>\n",
       "      <td>24</td>\n",
       "      <td>NaN</td>\n",
       "      <td>NaN</td>\n",
       "      <td>NaN</td>\n",
       "      <td>NaN</td>\n",
       "      <td>NaN</td>\n",
       "      <td>NaN</td>\n",
       "      <td>NaN</td>\n",
       "    </tr>\n",
       "    <tr>\n",
       "      <th>TRANSMISSION</th>\n",
       "      <td>100</td>\n",
       "      <td>19</td>\n",
       "      <td>MHS</td>\n",
       "      <td>28</td>\n",
       "      <td>NaN</td>\n",
       "      <td>NaN</td>\n",
       "      <td>NaN</td>\n",
       "      <td>NaN</td>\n",
       "      <td>NaN</td>\n",
       "      <td>NaN</td>\n",
       "      <td>NaN</td>\n",
       "    </tr>\n",
       "    <tr>\n",
       "      <th>TRANSMISSION_DESC</th>\n",
       "      <td>100</td>\n",
       "      <td>20</td>\n",
       "      <td>BYT 10 SPD, 10L80, GRX, GEN 1, ATSS, ETRS, VAR 1</td>\n",
       "      <td>28</td>\n",
       "      <td>NaN</td>\n",
       "      <td>NaN</td>\n",
       "      <td>NaN</td>\n",
       "      <td>NaN</td>\n",
       "      <td>NaN</td>\n",
       "      <td>NaN</td>\n",
       "      <td>NaN</td>\n",
       "    </tr>\n",
       "    <tr>\n",
       "      <th>ENGINE_SOURCE_PLANT</th>\n",
       "      <td>88</td>\n",
       "      <td>9</td>\n",
       "      <td>830107152</td>\n",
       "      <td>15</td>\n",
       "      <td>NaN</td>\n",
       "      <td>NaN</td>\n",
       "      <td>NaN</td>\n",
       "      <td>NaN</td>\n",
       "      <td>NaN</td>\n",
       "      <td>NaN</td>\n",
       "      <td>NaN</td>\n",
       "    </tr>\n",
       "    <tr>\n",
       "      <th>ENGINE_TRACE_NBR</th>\n",
       "      <td>88</td>\n",
       "      <td>88</td>\n",
       "      <td>V2210281MFTX0488</td>\n",
       "      <td>1</td>\n",
       "      <td>NaN</td>\n",
       "      <td>NaN</td>\n",
       "      <td>NaN</td>\n",
       "      <td>NaN</td>\n",
       "      <td>NaN</td>\n",
       "      <td>NaN</td>\n",
       "      <td>NaN</td>\n",
       "    </tr>\n",
       "    <tr>\n",
       "      <th>TRANSMISSION_SOURCE_PLANT</th>\n",
       "      <td>88.0</td>\n",
       "      <td>NaN</td>\n",
       "      <td>NaN</td>\n",
       "      <td>NaN</td>\n",
       "      <td>167638281.386364</td>\n",
       "      <td>323753752.023271</td>\n",
       "      <td>287827.0</td>\n",
       "      <td>287827.0</td>\n",
       "      <td>8042172.0</td>\n",
       "      <td>17749294.0</td>\n",
       "      <td>828298448.0</td>\n",
       "    </tr>\n",
       "    <tr>\n",
       "      <th>TRANSMISSION_TRACE_NBR</th>\n",
       "      <td>88</td>\n",
       "      <td>88</td>\n",
       "      <td>S2210121CNJX0941</td>\n",
       "      <td>1</td>\n",
       "      <td>NaN</td>\n",
       "      <td>NaN</td>\n",
       "      <td>NaN</td>\n",
       "      <td>NaN</td>\n",
       "      <td>NaN</td>\n",
       "      <td>NaN</td>\n",
       "      <td>NaN</td>\n",
       "    </tr>\n",
       "    <tr>\n",
       "      <th>SRC_TXN_ID</th>\n",
       "      <td>100.0</td>\n",
       "      <td>NaN</td>\n",
       "      <td>NaN</td>\n",
       "      <td>NaN</td>\n",
       "      <td>2815766825.61</td>\n",
       "      <td>5790726.515719</td>\n",
       "      <td>2808841910.0</td>\n",
       "      <td>2809435965.0</td>\n",
       "      <td>2820096605.0</td>\n",
       "      <td>2820879995.25</td>\n",
       "      <td>2822999949.0</td>\n",
       "    </tr>\n",
       "    <tr>\n",
       "      <th>SRC_VER_NBR</th>\n",
       "      <td>100.0</td>\n",
       "      <td>NaN</td>\n",
       "      <td>NaN</td>\n",
       "      <td>NaN</td>\n",
       "      <td>5.72</td>\n",
       "      <td>4.040402</td>\n",
       "      <td>2.0</td>\n",
       "      <td>4.0</td>\n",
       "      <td>4.0</td>\n",
       "      <td>6.0</td>\n",
       "      <td>26.0</td>\n",
       "    </tr>\n",
       "    <tr>\n",
       "      <th>TRANSACTION_CNTR</th>\n",
       "      <td>100.0</td>\n",
       "      <td>NaN</td>\n",
       "      <td>NaN</td>\n",
       "      <td>NaN</td>\n",
       "      <td>1.0</td>\n",
       "      <td>0.0</td>\n",
       "      <td>1.0</td>\n",
       "      <td>1.0</td>\n",
       "      <td>1.0</td>\n",
       "      <td>1.0</td>\n",
       "      <td>1.0</td>\n",
       "    </tr>\n",
       "    <tr>\n",
       "      <th>MEDIA_FLAG</th>\n",
       "      <td>100</td>\n",
       "      <td>2</td>\n",
       "      <td>N</td>\n",
       "      <td>62</td>\n",
       "      <td>NaN</td>\n",
       "      <td>NaN</td>\n",
       "      <td>NaN</td>\n",
       "      <td>NaN</td>\n",
       "      <td>NaN</td>\n",
       "      <td>NaN</td>\n",
       "      <td>NaN</td>\n",
       "    </tr>\n",
       "    <tr>\n",
       "      <th>VIN_MODL_DESGTR</th>\n",
       "      <td>100</td>\n",
       "      <td>41</td>\n",
       "      <td>CF10543</td>\n",
       "      <td>15</td>\n",
       "      <td>NaN</td>\n",
       "      <td>NaN</td>\n",
       "      <td>NaN</td>\n",
       "      <td>NaN</td>\n",
       "      <td>NaN</td>\n",
       "      <td>NaN</td>\n",
       "      <td>NaN</td>\n",
       "    </tr>\n",
       "    <tr>\n",
       "      <th>LINE_SERIES</th>\n",
       "      <td>99</td>\n",
       "      <td>22</td>\n",
       "      <td>1500</td>\n",
       "      <td>52</td>\n",
       "      <td>NaN</td>\n",
       "      <td>NaN</td>\n",
       "      <td>NaN</td>\n",
       "      <td>NaN</td>\n",
       "      <td>NaN</td>\n",
       "      <td>NaN</td>\n",
       "      <td>NaN</td>\n",
       "    </tr>\n",
       "    <tr>\n",
       "      <th>LAST_KNOWN_DELVRY_TYPE_CD</th>\n",
       "      <td>98.0</td>\n",
       "      <td>NaN</td>\n",
       "      <td>NaN</td>\n",
       "      <td>NaN</td>\n",
       "      <td>14.132653</td>\n",
       "      <td>6.69457</td>\n",
       "      <td>10.0</td>\n",
       "      <td>10.0</td>\n",
       "      <td>10.0</td>\n",
       "      <td>16.0</td>\n",
       "      <td>37.0</td>\n",
       "    </tr>\n",
       "    <tr>\n",
       "      <th>NON_CAUSAL_PART_QTY</th>\n",
       "      <td>100.0</td>\n",
       "      <td>NaN</td>\n",
       "      <td>NaN</td>\n",
       "      <td>NaN</td>\n",
       "      <td>0.07</td>\n",
       "      <td>0.256432</td>\n",
       "      <td>0.0</td>\n",
       "      <td>0.0</td>\n",
       "      <td>0.0</td>\n",
       "      <td>0.0</td>\n",
       "      <td>1.0</td>\n",
       "    </tr>\n",
       "    <tr>\n",
       "      <th>SALES_REGION_CODE</th>\n",
       "      <td>100.0</td>\n",
       "      <td>NaN</td>\n",
       "      <td>NaN</td>\n",
       "      <td>NaN</td>\n",
       "      <td>1.09</td>\n",
       "      <td>0.51434</td>\n",
       "      <td>1.0</td>\n",
       "      <td>1.0</td>\n",
       "      <td>1.0</td>\n",
       "      <td>1.0</td>\n",
       "      <td>4.0</td>\n",
       "    </tr>\n",
       "  </tbody>\n",
       "</table>\n",
       "</div>"
      ],
      "text/plain": [
       "                               count unique  \\\n",
       "VIN                              100     98   \n",
       "TRANSACTION_ID                 100.0    NaN   \n",
       "CORRECTION_VERBATIM              100     93   \n",
       "CUSTOMER_VERBATIM                100    100   \n",
       "REPAIR_DATE                      100     29   \n",
       "CAUSAL_PART_NM                    95     18   \n",
       "GLOBAL_LABOR_CODE_DESCRIPTION    100      4   \n",
       "PLATFORM                         100     11   \n",
       "BODY_STYLE                       100      6   \n",
       "VPPC                             100     26   \n",
       "PLANT                             99     11   \n",
       "BUILD_COUNTRY                    100      3   \n",
       "LAST_KNOWN_DLR_NAME              100    100   \n",
       "LAST_KNOWN_DLR_CITY              100     94   \n",
       "REPAIRING_DEALER_CODE            100     95   \n",
       "DEALER_NAME                      100    100   \n",
       "REPAIR_DLR_CITY                  100     93   \n",
       "STATE                             98     39   \n",
       "DEALER_REGION                  100.0    NaN   \n",
       "REPAIR_DLR_POSTAL_CD              98     92   \n",
       "REPAIR_AGE                     100.0    NaN   \n",
       "KM                               100    100   \n",
       "COMPLAINT_CD_CSI               100.0    NaN   \n",
       "COMPLAINT_CD                     100      7   \n",
       "VEH_TEST_GRP                      98     23   \n",
       "COUNTRY_SALE_ISO                 100      6   \n",
       "ORD_SELLING_SRC_CD             100.0    NaN   \n",
       "OPTN_FAMLY_CERTIFICATION          90      3   \n",
       "OPTF_FAMLY_EMISSIOF_SYSTEM        95      8   \n",
       "GLOBAL_LABOR_CODE              100.0    NaN   \n",
       "TRANSACTION_CATEGORY             100      2   \n",
       "CAMPAIGN_NBR                     0.0    NaN   \n",
       "REPORTING_COST                   100    100   \n",
       "TOTALCOST                         94     94   \n",
       "LBRCOST                          100     99   \n",
       "ENGINE                           100     12   \n",
       "ENGINE_DESC                      100     12   \n",
       "TRANSMISSION                     100     19   \n",
       "TRANSMISSION_DESC                100     20   \n",
       "ENGINE_SOURCE_PLANT               88      9   \n",
       "ENGINE_TRACE_NBR                  88     88   \n",
       "TRANSMISSION_SOURCE_PLANT       88.0    NaN   \n",
       "TRANSMISSION_TRACE_NBR            88     88   \n",
       "SRC_TXN_ID                     100.0    NaN   \n",
       "SRC_VER_NBR                    100.0    NaN   \n",
       "TRANSACTION_CNTR               100.0    NaN   \n",
       "MEDIA_FLAG                       100      2   \n",
       "VIN_MODL_DESGTR                  100     41   \n",
       "LINE_SERIES                       99     22   \n",
       "LAST_KNOWN_DELVRY_TYPE_CD       98.0    NaN   \n",
       "NON_CAUSAL_PART_QTY            100.0    NaN   \n",
       "SALES_REGION_CODE              100.0    NaN   \n",
       "\n",
       "                                                                            top  \\\n",
       "VIN                                                           3HRS9EED0LH255650   \n",
       "TRANSACTION_ID                                                              NaN   \n",
       "CORRECTION_VERBATIM                                     REPLACED STEERING WHEEL   \n",
       "CUSTOMER_VERBATIM                                   STEERING WHEEL COMING APART   \n",
       "REPAIR_DATE                                                          02-02-2024   \n",
       "CAUSAL_PART_NM                                        WHEEL ASM-STRG *JET BLACK   \n",
       "GLOBAL_LABOR_CODE_DESCRIPTION                        Steering Wheel Replacement   \n",
       "PLATFORM                                                       Full-Size Trucks   \n",
       "BODY_STYLE                                                             Crew Cab   \n",
       "VPPC                                                                      T1CCF   \n",
       "PLANT                                                                       SIL   \n",
       "BUILD_COUNTRY                                                                US   \n",
       "LAST_KNOWN_DLR_NAME                                          Silverstone Motors   \n",
       "LAST_KNOWN_DLR_CITY                                                   SMITHTOWN   \n",
       "REPAIRING_DEALER_CODE                                           11-46346/118677   \n",
       "DEALER_NAME                                                     Apex Auto Sales   \n",
       "REPAIR_DLR_CITY                                                    GRAND RAPIDS   \n",
       "STATE                                                                        CA   \n",
       "DEALER_REGION                                                               NaN   \n",
       "REPAIR_DLR_POSTAL_CD                                                  907551909   \n",
       "REPAIR_AGE                                                                  NaN   \n",
       "KM                                                                        8,872   \n",
       "COMPLAINT_CD_CSI                                                            NaN   \n",
       "COMPLAINT_CD                                                             0-0890   \n",
       "VEH_TEST_GRP                                                           T05.3386   \n",
       "COUNTRY_SALE_ISO                                                             US   \n",
       "ORD_SELLING_SRC_CD                                                          NaN   \n",
       "OPTN_FAMLY_CERTIFICATION                                                    FE9   \n",
       "OPTF_FAMLY_EMISSIOF_SYSTEM                                                  FTB   \n",
       "GLOBAL_LABOR_CODE                                                           NaN   \n",
       "TRANSACTION_CATEGORY                                                       FREG   \n",
       "CAMPAIGN_NBR                                                                NaN   \n",
       "REPORTING_COST                                                           370.03   \n",
       "TOTALCOST                                                                370.03   \n",
       "LBRCOST                                                                   86.57   \n",
       "ENGINE                                                                      L84   \n",
       "ENGINE_DESC                          GAS, 8 CYL, 5.3L, V8, DI, DFM, ALUM, GEN 5   \n",
       "TRANSMISSION                                                                MHS   \n",
       "TRANSMISSION_DESC              BYT 10 SPD, 10L80, GRX, GEN 1, ATSS, ETRS, VAR 1   \n",
       "ENGINE_SOURCE_PLANT                                                   830107152   \n",
       "ENGINE_TRACE_NBR                                               V2210281MFTX0488   \n",
       "TRANSMISSION_SOURCE_PLANT                                                   NaN   \n",
       "TRANSMISSION_TRACE_NBR                                         S2210121CNJX0941   \n",
       "SRC_TXN_ID                                                                  NaN   \n",
       "SRC_VER_NBR                                                                 NaN   \n",
       "TRANSACTION_CNTR                                                            NaN   \n",
       "MEDIA_FLAG                                                                    N   \n",
       "VIN_MODL_DESGTR                                                         CF10543   \n",
       "LINE_SERIES                                                                1500   \n",
       "LAST_KNOWN_DELVRY_TYPE_CD                                                   NaN   \n",
       "NON_CAUSAL_PART_QTY                                                         NaN   \n",
       "SALES_REGION_CODE                                                           NaN   \n",
       "\n",
       "                              freq              mean               std  \\\n",
       "VIN                              2               NaN               NaN   \n",
       "TRANSACTION_ID                 NaN           13036.9         12.028166   \n",
       "CORRECTION_VERBATIM              3               NaN               NaN   \n",
       "CUSTOMER_VERBATIM                1               NaN               NaN   \n",
       "REPAIR_DATE                      9               NaN               NaN   \n",
       "CAUSAL_PART_NM                  45               NaN               NaN   \n",
       "GLOBAL_LABOR_CODE_DESCRIPTION   78               NaN               NaN   \n",
       "PLATFORM                        52               NaN               NaN   \n",
       "BODY_STYLE                      50               NaN               NaN   \n",
       "VPPC                            20               NaN               NaN   \n",
       "PLANT                           19               NaN               NaN   \n",
       "BUILD_COUNTRY                   73               NaN               NaN   \n",
       "LAST_KNOWN_DLR_NAME              1               NaN               NaN   \n",
       "LAST_KNOWN_DLR_CITY              2               NaN               NaN   \n",
       "REPAIRING_DEALER_CODE            3               NaN               NaN   \n",
       "DEALER_NAME                      1               NaN               NaN   \n",
       "REPAIR_DLR_CITY                  3               NaN               NaN   \n",
       "STATE                            9               NaN               NaN   \n",
       "DEALER_REGION                  NaN              1.09           0.51434   \n",
       "REPAIR_DLR_POSTAL_CD             3               NaN               NaN   \n",
       "REPAIR_AGE                     NaN             14.94         12.367945   \n",
       "KM                               1               NaN               NaN   \n",
       "COMPLAINT_CD_CSI               NaN               0.0               0.0   \n",
       "COMPLAINT_CD                    40               NaN               NaN   \n",
       "VEH_TEST_GRP                    19               NaN               NaN   \n",
       "COUNTRY_SALE_ISO                84               NaN               NaN   \n",
       "ORD_SELLING_SRC_CD             NaN             24.59         17.822976   \n",
       "OPTN_FAMLY_CERTIFICATION        62               NaN               NaN   \n",
       "OPTF_FAMLY_EMISSIOF_SYSTEM      62               NaN               NaN   \n",
       "GLOBAL_LABOR_CODE              NaN             251.9        546.451722   \n",
       "TRANSACTION_CATEGORY            89               NaN               NaN   \n",
       "CAMPAIGN_NBR                   NaN               NaN               NaN   \n",
       "REPORTING_COST                   1               NaN               NaN   \n",
       "TOTALCOST                        1               NaN               NaN   \n",
       "LBRCOST                          2               NaN               NaN   \n",
       "ENGINE                          24               NaN               NaN   \n",
       "ENGINE_DESC                     24               NaN               NaN   \n",
       "TRANSMISSION                    28               NaN               NaN   \n",
       "TRANSMISSION_DESC               28               NaN               NaN   \n",
       "ENGINE_SOURCE_PLANT             15               NaN               NaN   \n",
       "ENGINE_TRACE_NBR                 1               NaN               NaN   \n",
       "TRANSMISSION_SOURCE_PLANT      NaN  167638281.386364  323753752.023271   \n",
       "TRANSMISSION_TRACE_NBR           1               NaN               NaN   \n",
       "SRC_TXN_ID                     NaN     2815766825.61    5790726.515719   \n",
       "SRC_VER_NBR                    NaN              5.72          4.040402   \n",
       "TRANSACTION_CNTR               NaN               1.0               0.0   \n",
       "MEDIA_FLAG                      62               NaN               NaN   \n",
       "VIN_MODL_DESGTR                 15               NaN               NaN   \n",
       "LINE_SERIES                     52               NaN               NaN   \n",
       "LAST_KNOWN_DELVRY_TYPE_CD      NaN         14.132653           6.69457   \n",
       "NON_CAUSAL_PART_QTY            NaN              0.07          0.256432   \n",
       "SALES_REGION_CODE              NaN              1.09           0.51434   \n",
       "\n",
       "                                        min           25%           50%  \\\n",
       "VIN                                     NaN           NaN           NaN   \n",
       "TRANSACTION_ID                      13021.0      13027.75       13036.0   \n",
       "CORRECTION_VERBATIM                     NaN           NaN           NaN   \n",
       "CUSTOMER_VERBATIM                       NaN           NaN           NaN   \n",
       "REPAIR_DATE                             NaN           NaN           NaN   \n",
       "CAUSAL_PART_NM                          NaN           NaN           NaN   \n",
       "GLOBAL_LABOR_CODE_DESCRIPTION           NaN           NaN           NaN   \n",
       "PLATFORM                                NaN           NaN           NaN   \n",
       "BODY_STYLE                              NaN           NaN           NaN   \n",
       "VPPC                                    NaN           NaN           NaN   \n",
       "PLANT                                   NaN           NaN           NaN   \n",
       "BUILD_COUNTRY                           NaN           NaN           NaN   \n",
       "LAST_KNOWN_DLR_NAME                     NaN           NaN           NaN   \n",
       "LAST_KNOWN_DLR_CITY                     NaN           NaN           NaN   \n",
       "REPAIRING_DEALER_CODE                   NaN           NaN           NaN   \n",
       "DEALER_NAME                             NaN           NaN           NaN   \n",
       "REPAIR_DLR_CITY                         NaN           NaN           NaN   \n",
       "STATE                                   NaN           NaN           NaN   \n",
       "DEALER_REGION                           1.0           1.0           1.0   \n",
       "REPAIR_DLR_POSTAL_CD                    NaN           NaN           NaN   \n",
       "REPAIR_AGE                              0.0           5.0          12.0   \n",
       "KM                                      NaN           NaN           NaN   \n",
       "COMPLAINT_CD_CSI                        0.0           0.0           0.0   \n",
       "COMPLAINT_CD                            NaN           NaN           NaN   \n",
       "VEH_TEST_GRP                            NaN           NaN           NaN   \n",
       "COUNTRY_SALE_ISO                        NaN           NaN           NaN   \n",
       "ORD_SELLING_SRC_CD                     11.0          13.0          13.0   \n",
       "OPTN_FAMLY_CERTIFICATION                NaN           NaN           NaN   \n",
       "OPTF_FAMLY_EMISSIOF_SYSTEM              NaN           NaN           NaN   \n",
       "GLOBAL_LABOR_CODE                      20.0         130.0         130.0   \n",
       "TRANSACTION_CATEGORY                    NaN           NaN           NaN   \n",
       "CAMPAIGN_NBR                            NaN           NaN           NaN   \n",
       "REPORTING_COST                          NaN           NaN           NaN   \n",
       "TOTALCOST                               NaN           NaN           NaN   \n",
       "LBRCOST                                 NaN           NaN           NaN   \n",
       "ENGINE                                  NaN           NaN           NaN   \n",
       "ENGINE_DESC                             NaN           NaN           NaN   \n",
       "TRANSMISSION                            NaN           NaN           NaN   \n",
       "TRANSMISSION_DESC                       NaN           NaN           NaN   \n",
       "ENGINE_SOURCE_PLANT                     NaN           NaN           NaN   \n",
       "ENGINE_TRACE_NBR                        NaN           NaN           NaN   \n",
       "TRANSMISSION_SOURCE_PLANT          287827.0      287827.0     8042172.0   \n",
       "TRANSMISSION_TRACE_NBR                  NaN           NaN           NaN   \n",
       "SRC_TXN_ID                     2808841910.0  2809435965.0  2820096605.0   \n",
       "SRC_VER_NBR                             2.0           4.0           4.0   \n",
       "TRANSACTION_CNTR                        1.0           1.0           1.0   \n",
       "MEDIA_FLAG                              NaN           NaN           NaN   \n",
       "VIN_MODL_DESGTR                         NaN           NaN           NaN   \n",
       "LINE_SERIES                             NaN           NaN           NaN   \n",
       "LAST_KNOWN_DELVRY_TYPE_CD              10.0          10.0          10.0   \n",
       "NON_CAUSAL_PART_QTY                     0.0           0.0           0.0   \n",
       "SALES_REGION_CODE                       1.0           1.0           1.0   \n",
       "\n",
       "                                         75%           max  \n",
       "VIN                                      NaN           NaN  \n",
       "TRANSACTION_ID                      13041.25       13081.0  \n",
       "CORRECTION_VERBATIM                      NaN           NaN  \n",
       "CUSTOMER_VERBATIM                        NaN           NaN  \n",
       "REPAIR_DATE                              NaN           NaN  \n",
       "CAUSAL_PART_NM                           NaN           NaN  \n",
       "GLOBAL_LABOR_CODE_DESCRIPTION            NaN           NaN  \n",
       "PLATFORM                                 NaN           NaN  \n",
       "BODY_STYLE                               NaN           NaN  \n",
       "VPPC                                     NaN           NaN  \n",
       "PLANT                                    NaN           NaN  \n",
       "BUILD_COUNTRY                            NaN           NaN  \n",
       "LAST_KNOWN_DLR_NAME                      NaN           NaN  \n",
       "LAST_KNOWN_DLR_CITY                      NaN           NaN  \n",
       "REPAIRING_DEALER_CODE                    NaN           NaN  \n",
       "DEALER_NAME                              NaN           NaN  \n",
       "REPAIR_DLR_CITY                          NaN           NaN  \n",
       "STATE                                    NaN           NaN  \n",
       "DEALER_REGION                            1.0           4.0  \n",
       "REPAIR_DLR_POSTAL_CD                     NaN           NaN  \n",
       "REPAIR_AGE                              21.0          50.0  \n",
       "KM                                       NaN           NaN  \n",
       "COMPLAINT_CD_CSI                         0.0           0.0  \n",
       "COMPLAINT_CD                             NaN           NaN  \n",
       "VEH_TEST_GRP                             NaN           NaN  \n",
       "COUNTRY_SALE_ISO                         NaN           NaN  \n",
       "ORD_SELLING_SRC_CD                      48.0          72.0  \n",
       "OPTN_FAMLY_CERTIFICATION                 NaN           NaN  \n",
       "OPTF_FAMLY_EMISSIOF_SYSTEM               NaN           NaN  \n",
       "GLOBAL_LABOR_CODE                      130.0        2400.0  \n",
       "TRANSACTION_CATEGORY                     NaN           NaN  \n",
       "CAMPAIGN_NBR                             NaN           NaN  \n",
       "REPORTING_COST                           NaN           NaN  \n",
       "TOTALCOST                                NaN           NaN  \n",
       "LBRCOST                                  NaN           NaN  \n",
       "ENGINE                                   NaN           NaN  \n",
       "ENGINE_DESC                              NaN           NaN  \n",
       "TRANSMISSION                             NaN           NaN  \n",
       "TRANSMISSION_DESC                        NaN           NaN  \n",
       "ENGINE_SOURCE_PLANT                      NaN           NaN  \n",
       "ENGINE_TRACE_NBR                         NaN           NaN  \n",
       "TRANSMISSION_SOURCE_PLANT         17749294.0   828298448.0  \n",
       "TRANSMISSION_TRACE_NBR                   NaN           NaN  \n",
       "SRC_TXN_ID                     2820879995.25  2822999949.0  \n",
       "SRC_VER_NBR                              6.0          26.0  \n",
       "TRANSACTION_CNTR                         1.0           1.0  \n",
       "MEDIA_FLAG                               NaN           NaN  \n",
       "VIN_MODL_DESGTR                          NaN           NaN  \n",
       "LINE_SERIES                              NaN           NaN  \n",
       "LAST_KNOWN_DELVRY_TYPE_CD               16.0          37.0  \n",
       "NON_CAUSAL_PART_QTY                      0.0           1.0  \n",
       "SALES_REGION_CODE                        1.0           4.0  "
      ]
     },
     "metadata": {},
     "output_type": "display_data"
    }
   ],
   "source": [
    "print(\"\\nDescriptive Statistics:\")\n",
    "display(df.describe(include='all').transpose())"
   ]
  },
  {
   "cell_type": "markdown",
   "id": "65834c02",
   "metadata": {},
   "source": [
    "## 3. Column-wise Analysis"
   ]
  },
  {
   "cell_type": "code",
   "execution_count": 6,
   "id": "409653b7",
   "metadata": {},
   "outputs": [
    {
     "name": "stdout",
     "output_type": "stream",
     "text": [
      "\n",
      "Column: VIN\n",
      "Data type: object\n",
      "Unique values: 98\n",
      "\n",
      "Top 5 most frequent values:\n"
     ]
    },
    {
     "data": {
      "text/plain": [
       "VIN\n",
       "3HRS9EED0LH255650    2\n",
       "1HRFFHEL8RZ133325    2\n",
       "1HRFFEE8XSZ230636    1\n",
       "3HCFDDE89SH220903    1\n",
       "1HRFFHEL1RZ181474    1\n",
       "Name: count, dtype: int64"
      ]
     },
     "metadata": {},
     "output_type": "display_data"
    },
    {
     "name": "stdout",
     "output_type": "stream",
     "text": [
      "Missing values: 0 (0.00%)\n",
      "\n",
      "Column: TRANSACTION_ID\n",
      "Data type: int64\n",
      "Unique values: 32\n",
      "\n",
      "Value distribution:\n"
     ]
    },
    {
     "data": {
      "text/plain": [
       "count      100.000000\n",
       "mean     13036.900000\n",
       "std         12.028166\n",
       "min      13021.000000\n",
       "25%      13027.750000\n",
       "50%      13036.000000\n",
       "75%      13041.250000\n",
       "max      13081.000000\n",
       "Name: TRANSACTION_ID, dtype: float64"
      ]
     },
     "metadata": {},
     "output_type": "display_data"
    },
    {
     "name": "stdout",
     "output_type": "stream",
     "text": [
      "Missing values: 0 (0.00%)\n",
      "\n",
      "Column: CORRECTION_VERBATIM\n",
      "Data type: object\n",
      "Unique values: 93\n",
      "\n",
      "Top 5 most frequent values:\n"
     ]
    },
    {
     "data": {
      "text/plain": [
       "CORRECTION_VERBATIM\n",
       "REPLACED STEERING WHEEL                                                                                                                                                                                                                                                         3\n",
       "Steering Wheel Replacement                                                                                                                                                                                                                                                      3\n",
       "Replaced steering wheel                                                                                                                                                                                                                                                         3\n",
       "REPLACED STEERING WHEEL.                                                                                                                                                                                                                                                        2\n",
       "CHECKED - FOUND DTC'S U0229 - U1530 SET IN BCM. FOUND PIP5883J, VERIFI ED RPO OPTIONS. TESTED PER SI - WAS INCONCLUSIVE.TESTEDPERWIRING SC HEMATIC - ALL CIRCUITS TESTED OK. LOOKS LIKE FAULTY HEATED S-W MODULE. ORDERED NEW MODULE 9-26-23.1-2, REPLACEDHEATED S-W MODULE.    1\n",
       "Name: count, dtype: int64"
      ]
     },
     "metadata": {},
     "output_type": "display_data"
    },
    {
     "name": "stdout",
     "output_type": "stream",
     "text": [
      "Missing values: 0 (0.00%)\n",
      "\n",
      "Column: CUSTOMER_VERBATIM\n",
      "Data type: object\n",
      "Unique values: 100\n",
      "\n",
      "Top 5 most frequent values:\n"
     ]
    },
    {
     "data": {
      "text/plain": [
       "CUSTOMER_VERBATIM\n",
       "STEERING WHEEL COMING APART                                                                                              1\n",
       "CUSTOMER STATES HEATED STEERING WHEEL INOP                                                                               1\n",
       "OWNER REPORTS: THE SUPER CRUISE BAR ON THE STEERING WHEEL IS COMING OF F. CHECK AND ADVISE. ADVISOR RUNNING PRA TOOL.    1\n",
       "CUSTOMER STATES THE LETTERING AND FINISH ON THE STEERING WHEEL IS COMING OFF. Plant: SIL                                 1\n",
       "C/S: CUSTOMER STATES THE SERVICE DRIVER ASSIST SYSTEM MESSAGE IS ON. A DVISE                                             1\n",
       "Name: count, dtype: int64"
      ]
     },
     "metadata": {},
     "output_type": "display_data"
    },
    {
     "name": "stdout",
     "output_type": "stream",
     "text": [
      "Missing values: 0 (0.00%)\n",
      "\n",
      "Column: REPAIR_DATE\n",
      "Data type: object\n",
      "Unique values: 29\n",
      "\n",
      "Top 5 most frequent values:\n"
     ]
    },
    {
     "data": {
      "text/plain": [
       "REPAIR_DATE\n",
       "02-02-2024    9\n",
       "01-31-2024    7\n",
       "02-05-2024    7\n",
       "01-11-2024    6\n",
       "01-12-2024    6\n",
       "Name: count, dtype: int64"
      ]
     },
     "metadata": {},
     "output_type": "display_data"
    },
    {
     "name": "stdout",
     "output_type": "stream",
     "text": [
      "Missing values: 0 (0.00%)\n",
      "\n",
      "Column: CAUSAL_PART_NM\n",
      "Data type: object\n",
      "Unique values: 18\n",
      "\n",
      "Top 5 most frequent values:\n"
     ]
    },
    {
     "data": {
      "text/plain": [
       "CAUSAL_PART_NM\n",
       "WHEEL ASM-STRG *JET BLACK        45\n",
       "WHEEL ASM-STRG *BLACK            12\n",
       "WHEEL ASM-STRG *VERY DARK AT      7\n",
       "MODULE ASM-STRG WHL HT CONT       5\n",
       "WHEEL ASM-STRG *BACKEN BLACKK     5\n",
       "Name: count, dtype: int64"
      ]
     },
     "metadata": {},
     "output_type": "display_data"
    },
    {
     "name": "stdout",
     "output_type": "stream",
     "text": [
      "Missing values: 5 (5.00%)\n",
      "\n",
      "Column: GLOBAL_LABOR_CODE_DESCRIPTION\n",
      "Data type: object\n",
      "Unique values: 4\n",
      "\n",
      "Top 5 most frequent values:\n"
     ]
    },
    {
     "data": {
      "text/plain": [
       "GLOBAL_LABOR_CODE_DESCRIPTION\n",
       "Steering Wheel Replacement                               78\n",
       "Steering Wheel Spoke Cover Replacement                   11\n",
       "Heated Steering Wheel Module Replacement                  6\n",
       "Steering Wheel Horn Switch Wiring Harness Replacement     5\n",
       "Name: count, dtype: int64"
      ]
     },
     "metadata": {},
     "output_type": "display_data"
    },
    {
     "name": "stdout",
     "output_type": "stream",
     "text": [
      "Missing values: 0 (0.00%)\n",
      "\n",
      "Column: PLATFORM\n",
      "Data type: object\n",
      "Unique values: 11\n",
      "\n",
      "Top 5 most frequent values:\n"
     ]
    },
    {
     "data": {
      "text/plain": [
       "PLATFORM\n",
       "Full-Size Trucks             52\n",
       "Full-Size Utility            13\n",
       "Crossover SUV                11\n",
       "Global Gamma                  7\n",
       "Global Crossover Vehicles     7\n",
       "Name: count, dtype: int64"
      ]
     },
     "metadata": {},
     "output_type": "display_data"
    },
    {
     "name": "stdout",
     "output_type": "stream",
     "text": [
      "Missing values: 0 (0.00%)\n",
      "\n",
      "Column: BODY_STYLE\n",
      "Data type: object\n",
      "Unique values: 6\n",
      "\n",
      "Top 5 most frequent values:\n"
     ]
    },
    {
     "data": {
      "text/plain": [
       "BODY_STYLE\n",
       "Crew Cab          50\n",
       "4 Door Utility    37\n",
       "4 Door Sedan      10\n",
       "Single Cab         1\n",
       "Extended Cab       1\n",
       "Name: count, dtype: int64"
      ]
     },
     "metadata": {},
     "output_type": "display_data"
    },
    {
     "name": "stdout",
     "output_type": "stream",
     "text": [
      "Missing values: 0 (0.00%)\n",
      "\n",
      "Column: VPPC\n",
      "Data type: object\n",
      "Unique values: 26\n",
      "\n",
      "Top 5 most frequent values:\n"
     ]
    },
    {
     "data": {
      "text/plain": [
       "VPPC\n",
       "T1CCF    20\n",
       "T1CGF    17\n",
       "T1CGH     7\n",
       "C1UL      6\n",
       "T1CCH     6\n",
       "Name: count, dtype: int64"
      ]
     },
     "metadata": {},
     "output_type": "display_data"
    },
    {
     "name": "stdout",
     "output_type": "stream",
     "text": [
      "Missing values: 0 (0.00%)\n",
      "\n",
      "Column: PLANT\n",
      "Data type: object\n",
      "Unique values: 11\n",
      "\n",
      "Top 5 most frequent values:\n"
     ]
    },
    {
     "data": {
      "text/plain": [
       "PLANT\n",
       "SIL    19\n",
       "FTW    17\n",
       "SHT    15\n",
       "ARL    13\n",
       "FLT    11\n",
       "Name: count, dtype: int64"
      ]
     },
     "metadata": {},
     "output_type": "display_data"
    },
    {
     "name": "stdout",
     "output_type": "stream",
     "text": [
      "Missing values: 1 (1.00%)\n",
      "\n",
      "Column: BUILD_COUNTRY\n",
      "Data type: object\n",
      "Unique values: 3\n",
      "\n",
      "Top 5 most frequent values:\n"
     ]
    },
    {
     "data": {
      "text/plain": [
       "BUILD_COUNTRY\n",
       "US    73\n",
       "MX    23\n",
       "CA     4\n",
       "Name: count, dtype: int64"
      ]
     },
     "metadata": {},
     "output_type": "display_data"
    },
    {
     "name": "stdout",
     "output_type": "stream",
     "text": [
      "Missing values: 0 (0.00%)\n",
      "\n",
      "Column: LAST_KNOWN_DLR_NAME\n",
      "Data type: object\n",
      "Unique values: 100\n",
      "\n",
      "Top 5 most frequent values:\n"
     ]
    },
    {
     "data": {
      "text/plain": [
       "LAST_KNOWN_DLR_NAME\n",
       "Silverstone Motors       1\n",
       "Elite Auto Group         1\n",
       "CrossRoads Dealership    1\n",
       "Westwood Wheels          1\n",
       "LuxeAuto Sales           1\n",
       "Name: count, dtype: int64"
      ]
     },
     "metadata": {},
     "output_type": "display_data"
    },
    {
     "name": "stdout",
     "output_type": "stream",
     "text": [
      "Missing values: 0 (0.00%)\n",
      "\n",
      "Column: LAST_KNOWN_DLR_CITY\n",
      "Data type: object\n",
      "Unique values: 94\n",
      "\n",
      "Top 5 most frequent values:\n"
     ]
    },
    {
     "data": {
      "text/plain": [
       "LAST_KNOWN_DLR_CITY\n",
       "SMITHTOWN       2\n",
       "BOLINGBROOK     2\n",
       "SHERMAN OAKS    2\n",
       "HOUSTON         2\n",
       "GRAND RAPIDS    2\n",
       "Name: count, dtype: int64"
      ]
     },
     "metadata": {},
     "output_type": "display_data"
    },
    {
     "name": "stdout",
     "output_type": "stream",
     "text": [
      "Missing values: 0 (0.00%)\n",
      "\n",
      "Column: REPAIRING_DEALER_CODE\n",
      "Data type: object\n",
      "Unique values: 95\n",
      "\n",
      "Top 5 most frequent values:\n"
     ]
    },
    {
     "data": {
      "text/plain": [
       "REPAIRING_DEALER_CODE\n",
       "11-46346/118677    3\n",
       "13-11298/227245    2\n",
       "13-14819/243038    2\n",
       "11-45870/322530    2\n",
       "11-47556/116725    1\n",
       "Name: count, dtype: int64"
      ]
     },
     "metadata": {},
     "output_type": "display_data"
    },
    {
     "name": "stdout",
     "output_type": "stream",
     "text": [
      "Missing values: 0 (0.00%)\n",
      "\n",
      "Column: DEALER_NAME\n",
      "Data type: object\n",
      "Unique values: 100\n",
      "\n",
      "Top 5 most frequent values:\n"
     ]
    },
    {
     "data": {
      "text/plain": [
       "DEALER_NAME\n",
       "Apex Auto Sales        1\n",
       "SilverPeak Motors      1\n",
       "Quantum Car Traders    1\n",
       "Summit Drive Auto      1\n",
       "Horizon Motors         1\n",
       "Name: count, dtype: int64"
      ]
     },
     "metadata": {},
     "output_type": "display_data"
    },
    {
     "name": "stdout",
     "output_type": "stream",
     "text": [
      "Missing values: 0 (0.00%)\n",
      "\n",
      "Column: REPAIR_DLR_CITY\n",
      "Data type: object\n",
      "Unique values: 93\n",
      "\n",
      "Top 5 most frequent values:\n"
     ]
    },
    {
     "data": {
      "text/plain": [
       "REPAIR_DLR_CITY\n",
       "GRAND RAPIDS    3\n",
       "SIGNAL HILL     3\n",
       "BAY SHORE       2\n",
       "BOLINGBROOK     2\n",
       "HOUSTON         2\n",
       "Name: count, dtype: int64"
      ]
     },
     "metadata": {},
     "output_type": "display_data"
    },
    {
     "name": "stdout",
     "output_type": "stream",
     "text": [
      "Missing values: 0 (0.00%)\n",
      "\n",
      "Column: STATE\n",
      "Data type: object\n",
      "Unique values: 39\n",
      "\n",
      "Top 5 most frequent values:\n"
     ]
    },
    {
     "data": {
      "text/plain": [
       "STATE\n",
       "CA    9\n",
       "FL    9\n",
       "TX    8\n",
       "OH    6\n",
       "PA    5\n",
       "Name: count, dtype: int64"
      ]
     },
     "metadata": {},
     "output_type": "display_data"
    },
    {
     "name": "stdout",
     "output_type": "stream",
     "text": [
      "Missing values: 2 (2.00%)\n",
      "\n",
      "Column: DEALER_REGION\n",
      "Data type: int64\n",
      "Unique values: 2\n",
      "\n",
      "Value distribution:\n"
     ]
    },
    {
     "data": {
      "text/plain": [
       "count    100.00000\n",
       "mean       1.09000\n",
       "std        0.51434\n",
       "min        1.00000\n",
       "25%        1.00000\n",
       "50%        1.00000\n",
       "75%        1.00000\n",
       "max        4.00000\n",
       "Name: DEALER_REGION, dtype: float64"
      ]
     },
     "metadata": {},
     "output_type": "display_data"
    },
    {
     "name": "stdout",
     "output_type": "stream",
     "text": [
      "Missing values: 0 (0.00%)\n",
      "\n",
      "Column: REPAIR_DLR_POSTAL_CD\n",
      "Data type: object\n",
      "Unique values: 92\n",
      "\n",
      "Top 5 most frequent values:\n"
     ]
    },
    {
     "data": {
      "text/plain": [
       "REPAIR_DLR_POSTAL_CD\n",
       "907551909    3\n",
       "557444215    2\n",
       "604403522    2\n",
       "117061211    2\n",
       "770653605    2\n",
       "Name: count, dtype: int64"
      ]
     },
     "metadata": {},
     "output_type": "display_data"
    },
    {
     "name": "stdout",
     "output_type": "stream",
     "text": [
      "Missing values: 2 (2.00%)\n",
      "\n",
      "Column: REPAIR_AGE\n",
      "Data type: int64\n",
      "Unique values: 35\n",
      "\n",
      "Value distribution:\n"
     ]
    },
    {
     "data": {
      "text/plain": [
       "count    100.000000\n",
       "mean      14.940000\n",
       "std       12.367945\n",
       "min        0.000000\n",
       "25%        5.000000\n",
       "50%       12.000000\n",
       "75%       21.000000\n",
       "max       50.000000\n",
       "Name: REPAIR_AGE, dtype: float64"
      ]
     },
     "metadata": {},
     "output_type": "display_data"
    },
    {
     "name": "stdout",
     "output_type": "stream",
     "text": [
      "Missing values: 0 (0.00%)\n",
      "\n",
      "Column: KM\n",
      "Data type: object\n",
      "Unique values: 100\n",
      "\n",
      "Top 5 most frequent values:\n"
     ]
    },
    {
     "data": {
      "text/plain": [
       "KM\n",
       "8,872     1\n",
       "16,346    1\n",
       "8,887     1\n",
       "15,500    1\n",
       "8         1\n",
       "Name: count, dtype: int64"
      ]
     },
     "metadata": {},
     "output_type": "display_data"
    },
    {
     "name": "stdout",
     "output_type": "stream",
     "text": [
      "Missing values: 0 (0.00%)\n",
      "\n",
      "Column: COMPLAINT_CD_CSI\n",
      "Data type: int64\n",
      "Unique values: 1\n",
      "\n",
      "Value distribution:\n"
     ]
    },
    {
     "data": {
      "text/plain": [
       "count    100.0\n",
       "mean       0.0\n",
       "std        0.0\n",
       "min        0.0\n",
       "25%        0.0\n",
       "50%        0.0\n",
       "75%        0.0\n",
       "max        0.0\n",
       "Name: COMPLAINT_CD_CSI, dtype: float64"
      ]
     },
     "metadata": {},
     "output_type": "display_data"
    },
    {
     "name": "stdout",
     "output_type": "stream",
     "text": [
      "Missing values: 0 (0.00%)\n",
      "\n",
      "Column: COMPLAINT_CD\n",
      "Data type: object\n",
      "Unique values: 7\n",
      "\n",
      "Top 5 most frequent values:\n"
     ]
    },
    {
     "data": {
      "text/plain": [
       "COMPLAINT_CD\n",
       "0-0890    40\n",
       "0-0310    33\n",
       "0-0312    12\n",
       "0-0621     7\n",
       "0-0313     4\n",
       "Name: count, dtype: int64"
      ]
     },
     "metadata": {},
     "output_type": "display_data"
    },
    {
     "name": "stdout",
     "output_type": "stream",
     "text": [
      "Missing values: 0 (0.00%)\n",
      "\n",
      "Column: VEH_TEST_GRP\n",
      "Data type: object\n",
      "Unique values: 23\n",
      "\n",
      "Top 5 most frequent values:\n"
     ]
    },
    {
     "data": {
      "text/plain": [
       "VEH_TEST_GRP\n",
       "T05.3386    19\n",
       "T06.2375    17\n",
       "T03.6151    13\n",
       "D06.6385     8\n",
       "V00.0002     7\n",
       "Name: count, dtype: int64"
      ]
     },
     "metadata": {},
     "output_type": "display_data"
    },
    {
     "name": "stdout",
     "output_type": "stream",
     "text": [
      "Missing values: 2 (2.00%)\n",
      "\n",
      "Column: COUNTRY_SALE_ISO\n",
      "Data type: object\n",
      "Unique values: 6\n",
      "\n",
      "Top 5 most frequent values:\n"
     ]
    },
    {
     "data": {
      "text/plain": [
       "COUNTRY_SALE_ISO\n",
       "US    84\n",
       "CA    12\n",
       "IL     1\n",
       "KW     1\n",
       "MX     1\n",
       "Name: count, dtype: int64"
      ]
     },
     "metadata": {},
     "output_type": "display_data"
    },
    {
     "name": "stdout",
     "output_type": "stream",
     "text": [
      "Missing values: 0 (0.00%)\n",
      "\n",
      "Column: ORD_SELLING_SRC_CD\n",
      "Data type: int64\n",
      "Unique values: 7\n",
      "\n",
      "Value distribution:\n"
     ]
    },
    {
     "data": {
      "text/plain": [
       "count    100.000000\n",
       "mean      24.590000\n",
       "std       17.822976\n",
       "min       11.000000\n",
       "25%       13.000000\n",
       "50%       13.000000\n",
       "75%       48.000000\n",
       "max       72.000000\n",
       "Name: ORD_SELLING_SRC_CD, dtype: float64"
      ]
     },
     "metadata": {},
     "output_type": "display_data"
    },
    {
     "name": "stdout",
     "output_type": "stream",
     "text": [
      "Missing values: 0 (0.00%)\n",
      "\n",
      "Column: OPTN_FAMLY_CERTIFICATION\n",
      "Data type: object\n",
      "Unique values: 3\n",
      "\n",
      "Top 5 most frequent values:\n"
     ]
    },
    {
     "data": {
      "text/plain": [
       "OPTN_FAMLY_CERTIFICATION\n",
       "FE9    62\n",
       "NE1    19\n",
       "YF5     9\n",
       "Name: count, dtype: int64"
      ]
     },
     "metadata": {},
     "output_type": "display_data"
    },
    {
     "name": "stdout",
     "output_type": "stream",
     "text": [
      "Missing values: 10 (10.00%)\n",
      "\n",
      "Column: OPTF_FAMLY_EMISSIOF_SYSTEM\n",
      "Data type: object\n",
      "Unique values: 8\n",
      "\n",
      "Top 5 most frequent values:\n"
     ]
    },
    {
     "data": {
      "text/plain": [
       "OPTF_FAMLY_EMISSIOF_SYSTEM\n",
       "FTB    62\n",
       "FUC    16\n",
       "FF6     5\n",
       "FT7     4\n",
       "FUG     3\n",
       "Name: count, dtype: int64"
      ]
     },
     "metadata": {},
     "output_type": "display_data"
    },
    {
     "name": "stdout",
     "output_type": "stream",
     "text": [
      "Missing values: 5 (5.00%)\n",
      "\n",
      "Column: GLOBAL_LABOR_CODE\n",
      "Data type: int64\n",
      "Unique values: 4\n",
      "\n",
      "Value distribution:\n"
     ]
    },
    {
     "data": {
      "text/plain": [
       "count     100.000000\n",
       "mean      251.900000\n",
       "std       546.451722\n",
       "min        20.000000\n",
       "25%       130.000000\n",
       "50%       130.000000\n",
       "75%       130.000000\n",
       "max      2400.000000\n",
       "Name: GLOBAL_LABOR_CODE, dtype: float64"
      ]
     },
     "metadata": {},
     "output_type": "display_data"
    },
    {
     "name": "stdout",
     "output_type": "stream",
     "text": [
      "Missing values: 0 (0.00%)\n",
      "\n",
      "Column: TRANSACTION_CATEGORY\n",
      "Data type: object\n",
      "Unique values: 2\n",
      "\n",
      "Top 5 most frequent values:\n"
     ]
    },
    {
     "data": {
      "text/plain": [
       "TRANSACTION_CATEGORY\n",
       "FREG        89\n",
       "FREG_POL    11\n",
       "Name: count, dtype: int64"
      ]
     },
     "metadata": {},
     "output_type": "display_data"
    },
    {
     "name": "stdout",
     "output_type": "stream",
     "text": [
      "Missing values: 0 (0.00%)\n",
      "\n",
      "Column: CAMPAIGN_NBR\n",
      "Data type: float64\n",
      "Unique values: 0\n",
      "\n",
      "Value distribution:\n"
     ]
    },
    {
     "data": {
      "text/plain": [
       "count    0.0\n",
       "mean     NaN\n",
       "std      NaN\n",
       "min      NaN\n",
       "25%      NaN\n",
       "50%      NaN\n",
       "75%      NaN\n",
       "max      NaN\n",
       "Name: CAMPAIGN_NBR, dtype: float64"
      ]
     },
     "metadata": {},
     "output_type": "display_data"
    },
    {
     "name": "stdout",
     "output_type": "stream",
     "text": [
      "Missing values: 100 (100.00%)\n",
      "\n",
      "Column: REPORTING_COST\n",
      "Data type: object\n",
      "Unique values: 100\n",
      "\n",
      "Top 5 most frequent values:\n"
     ]
    },
    {
     "data": {
      "text/plain": [
       "REPORTING_COST\n",
       "370.03      1\n",
       "307.32      1\n",
       "2,457.45    1\n",
       "445.28      1\n",
       "1,439.65    1\n",
       "Name: count, dtype: int64"
      ]
     },
     "metadata": {},
     "output_type": "display_data"
    },
    {
     "name": "stdout",
     "output_type": "stream",
     "text": [
      "Missing values: 0 (0.00%)\n",
      "\n",
      "Column: TOTALCOST\n",
      "Data type: object\n",
      "Unique values: 94\n",
      "\n",
      "Top 5 most frequent values:\n"
     ]
    },
    {
     "data": {
      "text/plain": [
       "TOTALCOST\n",
       "370.03      1\n",
       "307.32      1\n",
       "3,205.45    1\n",
       "445.28      1\n",
       "1,439.65    1\n",
       "Name: count, dtype: int64"
      ]
     },
     "metadata": {},
     "output_type": "display_data"
    },
    {
     "name": "stdout",
     "output_type": "stream",
     "text": [
      "Missing values: 6 (6.00%)\n",
      "\n",
      "Column: LBRCOST\n",
      "Data type: object\n",
      "Unique values: 99\n",
      "\n",
      "Top 5 most frequent values:\n"
     ]
    },
    {
     "data": {
      "text/plain": [
       "LBRCOST\n",
       "86.57     2\n",
       "291.14    1\n",
       "61.46     1\n",
       "63.18     1\n",
       "136       1\n",
       "Name: count, dtype: int64"
      ]
     },
     "metadata": {},
     "output_type": "display_data"
    },
    {
     "name": "stdout",
     "output_type": "stream",
     "text": [
      "Missing values: 0 (0.00%)\n",
      "\n",
      "Column: ENGINE\n",
      "Data type: object\n",
      "Unique values: 12\n",
      "\n",
      "Top 5 most frequent values:\n"
     ]
    },
    {
     "data": {
      "text/plain": [
       "ENGINE\n",
       "L84    24\n",
       "L87    17\n",
       "EN0    12\n",
       "LGX    11\n",
       "L5P     9\n",
       "Name: count, dtype: int64"
      ]
     },
     "metadata": {},
     "output_type": "display_data"
    },
    {
     "name": "stdout",
     "output_type": "stream",
     "text": [
      "Missing values: 0 (0.00%)\n",
      "\n",
      "Column: ENGINE_DESC\n",
      "Data type: object\n",
      "Unique values: 12\n",
      "\n",
      "Top 5 most frequent values:\n"
     ]
    },
    {
     "data": {
      "text/plain": [
       "ENGINE_DESC\n",
       "GAS, 8 CYL, 5.3L, V8, DI, DFM, ALUM, GEN 5                   24\n",
       "GAS, 8 CYL, V8, 6.2L, DI, DFM, ALUM, GEN 5                   17\n",
       "NONE                                                         12\n",
       "GAS, 6 CYL, 3.6L, V6, DI, DOHC, VVT, ALUM, GEN 2             11\n",
       "DIESEL, 8 CYL, 6.6L, DI, V8, TURBO, DURAMAX, GEN 5 VAR. 1     9\n",
       "Name: count, dtype: int64"
      ]
     },
     "metadata": {},
     "output_type": "display_data"
    },
    {
     "name": "stdout",
     "output_type": "stream",
     "text": [
      "Missing values: 0 (0.00%)\n",
      "\n",
      "Column: TRANSMISSION\n",
      "Data type: object\n",
      "Unique values: 19\n",
      "\n",
      "Top 5 most frequent values:\n"
     ]
    },
    {
     "data": {
      "text/plain": [
       "TRANSMISSION\n",
       "MHS    28\n",
       "M3W    12\n",
       "MQC    11\n",
       "MGM     9\n",
       "MQB     7\n",
       "Name: count, dtype: int64"
      ]
     },
     "metadata": {},
     "output_type": "display_data"
    },
    {
     "name": "stdout",
     "output_type": "stream",
     "text": [
      "Missing values: 0 (0.00%)\n",
      "\n",
      "Column: TRANSMISSION_DESC\n",
      "Data type: object\n",
      "Unique values: 20\n",
      "\n",
      "Top 5 most frequent values:\n"
     ]
    },
    {
     "data": {
      "text/plain": [
       "TRANSMISSION_DESC\n",
       "BYT 10 SPD, 10L80, GRX, GEN 1, ATSS, ETRS, VAR 1    28\n",
       "TRANSMISSION BYT 9 SPD, 9T65, ETRS GEN 1            12\n",
       "BYT 10 SPD, 10L80, ATSS, ETRS, CPA, GEN 2           10\n",
       "BYT 10 SPD, 10R1000, GRX, GEN 1, VAR 1               9\n",
       "BYT, ELECTRIC, GM, GEM, GEN 2, DRIVE UNIT, X68F      7\n",
       "Name: count, dtype: int64"
      ]
     },
     "metadata": {},
     "output_type": "display_data"
    },
    {
     "name": "stdout",
     "output_type": "stream",
     "text": [
      "Missing values: 0 (0.00%)\n",
      "\n",
      "Column: ENGINE_SOURCE_PLANT\n",
      "Data type: object\n",
      "Unique values: 9\n",
      "\n",
      "Top 5 most frequent values:\n"
     ]
    },
    {
     "data": {
      "text/plain": [
       "ENGINE_SOURCE_PLANT\n",
       "830107152    15\n",
       "249196973    14\n",
       "2127157      12\n",
       "70628511     11\n",
       "37749264     11\n",
       "Name: count, dtype: int64"
      ]
     },
     "metadata": {},
     "output_type": "display_data"
    },
    {
     "name": "stdout",
     "output_type": "stream",
     "text": [
      "Missing values: 12 (12.00%)\n",
      "\n",
      "Column: ENGINE_TRACE_NBR\n",
      "Data type: object\n",
      "Unique values: 88\n",
      "\n",
      "Top 5 most frequent values:\n"
     ]
    },
    {
     "data": {
      "text/plain": [
       "ENGINE_TRACE_NBR\n",
       "V2210281MFTX0488    1\n",
       "V2210291MFTX0188    1\n",
       "N2210821MFYX0482    1\n",
       "N2212994MGPX0790    1\n",
       "A2212084MGSX0089    1\n",
       "Name: count, dtype: int64"
      ]
     },
     "metadata": {},
     "output_type": "display_data"
    },
    {
     "name": "stdout",
     "output_type": "stream",
     "text": [
      "Missing values: 12 (12.00%)\n",
      "\n",
      "Column: TRANSMISSION_SOURCE_PLANT\n",
      "Data type: float64\n",
      "Unique values: 6\n",
      "\n",
      "Value distribution:\n"
     ]
    },
    {
     "data": {
      "text/plain": [
       "count    8.800000e+01\n",
       "mean     1.676383e+08\n",
       "std      3.237538e+08\n",
       "min      2.878270e+05\n",
       "25%      2.878270e+05\n",
       "50%      8.042172e+06\n",
       "75%      1.774929e+07\n",
       "max      8.282984e+08\n",
       "Name: TRANSMISSION_SOURCE_PLANT, dtype: float64"
      ]
     },
     "metadata": {},
     "output_type": "display_data"
    },
    {
     "name": "stdout",
     "output_type": "stream",
     "text": [
      "Missing values: 12 (12.00%)\n",
      "\n",
      "Column: TRANSMISSION_TRACE_NBR\n",
      "Data type: object\n",
      "Unique values: 88\n",
      "\n",
      "Top 5 most frequent values:\n"
     ]
    },
    {
     "data": {
      "text/plain": [
       "TRANSMISSION_TRACE_NBR\n",
       "S2210121CNJX0941    1\n",
       "R2210881CNJX0287    1\n",
       "S1210822CKJX0291    1\n",
       "R2212982CKJX0282    1\n",
       "S2212992CKJX2842    1\n",
       "Name: count, dtype: int64"
      ]
     },
     "metadata": {},
     "output_type": "display_data"
    },
    {
     "name": "stdout",
     "output_type": "stream",
     "text": [
      "Missing values: 12 (12.00%)\n",
      "\n",
      "Column: SRC_TXN_ID\n",
      "Data type: int64\n",
      "Unique values: 100\n",
      "\n",
      "Value distribution:\n"
     ]
    },
    {
     "data": {
      "text/plain": [
       "count    1.000000e+02\n",
       "mean     2.815767e+09\n",
       "std      5.790727e+06\n",
       "min      2.808842e+09\n",
       "25%      2.809436e+09\n",
       "50%      2.820097e+09\n",
       "75%      2.820880e+09\n",
       "max      2.823000e+09\n",
       "Name: SRC_TXN_ID, dtype: float64"
      ]
     },
     "metadata": {},
     "output_type": "display_data"
    },
    {
     "name": "stdout",
     "output_type": "stream",
     "text": [
      "Missing values: 0 (0.00%)\n",
      "\n",
      "Column: SRC_VER_NBR\n",
      "Data type: int64\n",
      "Unique values: 10\n",
      "\n",
      "Value distribution:\n"
     ]
    },
    {
     "data": {
      "text/plain": [
       "count    100.000000\n",
       "mean       5.720000\n",
       "std        4.040402\n",
       "min        2.000000\n",
       "25%        4.000000\n",
       "50%        4.000000\n",
       "75%        6.000000\n",
       "max       26.000000\n",
       "Name: SRC_VER_NBR, dtype: float64"
      ]
     },
     "metadata": {},
     "output_type": "display_data"
    },
    {
     "name": "stdout",
     "output_type": "stream",
     "text": [
      "Missing values: 0 (0.00%)\n",
      "\n",
      "Column: TRANSACTION_CNTR\n",
      "Data type: int64\n",
      "Unique values: 1\n",
      "\n",
      "Value distribution:\n"
     ]
    },
    {
     "data": {
      "text/plain": [
       "count    100.0\n",
       "mean       1.0\n",
       "std        0.0\n",
       "min        1.0\n",
       "25%        1.0\n",
       "50%        1.0\n",
       "75%        1.0\n",
       "max        1.0\n",
       "Name: TRANSACTION_CNTR, dtype: float64"
      ]
     },
     "metadata": {},
     "output_type": "display_data"
    },
    {
     "name": "stdout",
     "output_type": "stream",
     "text": [
      "Missing values: 0 (0.00%)\n",
      "\n",
      "Column: MEDIA_FLAG\n",
      "Data type: object\n",
      "Unique values: 2\n",
      "\n",
      "Top 5 most frequent values:\n"
     ]
    },
    {
     "data": {
      "text/plain": [
       "MEDIA_FLAG\n",
       "N    62\n",
       "Y    38\n",
       "Name: count, dtype: int64"
      ]
     },
     "metadata": {},
     "output_type": "display_data"
    },
    {
     "name": "stdout",
     "output_type": "stream",
     "text": [
      "Missing values: 0 (0.00%)\n",
      "\n",
      "Column: VIN_MODL_DESGTR\n",
      "Data type: object\n",
      "Unique values: 41\n",
      "\n",
      "Top 5 most frequent values:\n"
     ]
    },
    {
     "data": {
      "text/plain": [
       "VIN_MODL_DESGTR\n",
       "CF10543    15\n",
       "TF10543    13\n",
       "TF20743     6\n",
       "6MB26       5\n",
       "1FG48       4\n",
       "Name: count, dtype: int64"
      ]
     },
     "metadata": {},
     "output_type": "display_data"
    },
    {
     "name": "stdout",
     "output_type": "stream",
     "text": [
      "Missing values: 0 (0.00%)\n",
      "\n",
      "Column: LINE_SERIES\n",
      "Data type: object\n",
      "Unique values: 22\n",
      "\n",
      "Top 5 most frequent values:\n"
     ]
    },
    {
     "data": {
      "text/plain": [
       "LINE_SERIES\n",
       "1500              52\n",
       "2500              11\n",
       "Premier            5\n",
       "Sport              5\n",
       "Premium Luxury     3\n",
       "Name: count, dtype: int64"
      ]
     },
     "metadata": {},
     "output_type": "display_data"
    },
    {
     "name": "stdout",
     "output_type": "stream",
     "text": [
      "Missing values: 1 (1.00%)\n",
      "\n",
      "Column: LAST_KNOWN_DELVRY_TYPE_CD\n",
      "Data type: float64\n",
      "Unique values: 11\n",
      "\n",
      "Value distribution:\n"
     ]
    },
    {
     "data": {
      "text/plain": [
       "count    98.000000\n",
       "mean     14.132653\n",
       "std       6.694570\n",
       "min      10.000000\n",
       "25%      10.000000\n",
       "50%      10.000000\n",
       "75%      16.000000\n",
       "max      37.000000\n",
       "Name: LAST_KNOWN_DELVRY_TYPE_CD, dtype: float64"
      ]
     },
     "metadata": {},
     "output_type": "display_data"
    },
    {
     "name": "stdout",
     "output_type": "stream",
     "text": [
      "Missing values: 2 (2.00%)\n",
      "\n",
      "Column: NON_CAUSAL_PART_QTY\n",
      "Data type: int64\n",
      "Unique values: 2\n",
      "\n",
      "Value distribution:\n"
     ]
    },
    {
     "data": {
      "text/plain": [
       "count    100.000000\n",
       "mean       0.070000\n",
       "std        0.256432\n",
       "min        0.000000\n",
       "25%        0.000000\n",
       "50%        0.000000\n",
       "75%        0.000000\n",
       "max        1.000000\n",
       "Name: NON_CAUSAL_PART_QTY, dtype: float64"
      ]
     },
     "metadata": {},
     "output_type": "display_data"
    },
    {
     "name": "stdout",
     "output_type": "stream",
     "text": [
      "Missing values: 0 (0.00%)\n",
      "\n",
      "Column: SALES_REGION_CODE\n",
      "Data type: int64\n",
      "Unique values: 2\n",
      "\n",
      "Value distribution:\n"
     ]
    },
    {
     "data": {
      "text/plain": [
       "count    100.00000\n",
       "mean       1.09000\n",
       "std        0.51434\n",
       "min        1.00000\n",
       "25%        1.00000\n",
       "50%        1.00000\n",
       "75%        1.00000\n",
       "max        4.00000\n",
       "Name: SALES_REGION_CODE, dtype: float64"
      ]
     },
     "metadata": {},
     "output_type": "display_data"
    },
    {
     "name": "stdout",
     "output_type": "stream",
     "text": [
      "Missing values: 0 (0.00%)\n"
     ]
    }
   ],
   "source": [
    "def analyze_column(column):\n",
    "    \"\"\"Function to analyze a single column\"\"\"\n",
    "    # Prints different information about the column\n",
    "    print(f\"\\nColumn: {column}\") # Prints the column name\n",
    "    print(f\"Data type: {df[column].dtype}\") # Prints the data type of the column\n",
    "    print(f\"Unique values: {df[column].nunique()}\") # Prints the number of unique values in the column\n",
    "    \n",
    "    # Check if the column is categorical or numerical and display statistics accordingly\n",
    "    if df[column].dtype in ['object', 'category']: # For categorical columns\n",
    "        print(\"\\nTop 5 most frequent values:\")\n",
    "        display(df[column].value_counts().head())\n",
    "    else: # For numerical columns\n",
    "        print(\"\\nValue distribution:\")\n",
    "        display(df[column].describe())\n",
    "    \n",
    "    # Prints the number of missing values and their percentage in the column\n",
    "    print(f\"Missing values: {df[column].isna().sum()} ({df[column].isna().mean()*100:.2f}%)\")\n",
    "\n",
    "# Analyzing each column in the dataframe\n",
    "for col in df.columns:\n",
    "    analyze_column(col)"
   ]
  },
  {
   "cell_type": "markdown",
   "id": "c0374aaa",
   "metadata": {},
   "source": [
    "## 4. Data Cleaning"
   ]
  },
  {
   "cell_type": "code",
   "execution_count": 7,
   "id": "a98851e0",
   "metadata": {},
   "outputs": [
    {
     "name": "stdout",
     "output_type": "stream",
     "text": [
      "Missing values before cleaning:\n"
     ]
    },
    {
     "data": {
      "text/plain": [
       "CAMPAIGN_NBR                     100\n",
       "ENGINE_SOURCE_PLANT               12\n",
       "TRANSMISSION_SOURCE_PLANT         12\n",
       "TRANSMISSION_TRACE_NBR            12\n",
       "ENGINE_TRACE_NBR                  12\n",
       "OPTN_FAMLY_CERTIFICATION          10\n",
       "TOTALCOST                          6\n",
       "OPTF_FAMLY_EMISSIOF_SYSTEM         5\n",
       "CAUSAL_PART_NM                     5\n",
       "REPAIR_DLR_POSTAL_CD               2\n",
       "LAST_KNOWN_DELVRY_TYPE_CD          2\n",
       "VEH_TEST_GRP                       2\n",
       "STATE                              2\n",
       "LINE_SERIES                        1\n",
       "PLANT                              1\n",
       "CUSTOMER_VERBATIM                  0\n",
       "PLATFORM                           0\n",
       "CORRECTION_VERBATIM                0\n",
       "TRANSACTION_ID                     0\n",
       "VIN                                0\n",
       "DEALER_REGION                      0\n",
       "REPAIR_DLR_CITY                    0\n",
       "REPAIRING_DEALER_CODE              0\n",
       "DEALER_NAME                        0\n",
       "LAST_KNOWN_DLR_CITY                0\n",
       "LAST_KNOWN_DLR_NAME                0\n",
       "VPPC                               0\n",
       "BUILD_COUNTRY                      0\n",
       "REPAIR_DATE                        0\n",
       "GLOBAL_LABOR_CODE_DESCRIPTION      0\n",
       "BODY_STYLE                         0\n",
       "COUNTRY_SALE_ISO                   0\n",
       "ORD_SELLING_SRC_CD                 0\n",
       "COMPLAINT_CD                       0\n",
       "REPAIR_AGE                         0\n",
       "KM                                 0\n",
       "ENGINE                             0\n",
       "LBRCOST                            0\n",
       "REPORTING_COST                     0\n",
       "TRANSACTION_CATEGORY               0\n",
       "GLOBAL_LABOR_CODE                  0\n",
       "COMPLAINT_CD_CSI                   0\n",
       "TRANSMISSION_DESC                  0\n",
       "TRANSMISSION                       0\n",
       "SRC_TXN_ID                         0\n",
       "ENGINE_DESC                        0\n",
       "SRC_VER_NBR                        0\n",
       "TRANSACTION_CNTR                   0\n",
       "VIN_MODL_DESGTR                    0\n",
       "MEDIA_FLAG                         0\n",
       "NON_CAUSAL_PART_QTY                0\n",
       "SALES_REGION_CODE                  0\n",
       "dtype: int64"
      ]
     },
     "metadata": {},
     "output_type": "display_data"
    }
   ],
   "source": [
    "#create a copy of the original dataframe for cleaning\n",
    "df_clean = df.copy()\n",
    "\n",
    "# counting missing values\n",
    "print(\"Missing values before cleaning:\")\n",
    "display(df_clean.isna().sum().sort_values(ascending=False))"
   ]
  },
  {
   "cell_type": "markdown",
   "id": "8de181eb",
   "metadata": {},
   "source": [
    "### 4.1 *Handle missing values*"
   ]
  },
  {
   "cell_type": "markdown",
   "id": "69cdf142",
   "metadata": {},
   "source": [
    "- Filling missing values in categorical columns"
   ]
  },
  {
   "cell_type": "code",
   "execution_count": 8,
   "id": "36ed3060",
   "metadata": {},
   "outputs": [
    {
     "name": "stderr",
     "output_type": "stream",
     "text": [
      "C:\\Users\\mudit\\AppData\\Local\\Temp\\ipykernel_12536\\2847191607.py:4: FutureWarning: A value is trying to be set on a copy of a DataFrame or Series through chained assignment using an inplace method.\n",
      "The behavior will change in pandas 3.0. This inplace method will never work because the intermediate object on which we are setting values always behaves as a copy.\n",
      "\n",
      "For example, when doing 'df[col].method(value, inplace=True)', try using 'df.method({col: value}, inplace=True)' or df[col] = df[col].method(value) instead, to perform the operation inplace on the original object.\n",
      "\n",
      "\n",
      "  df_clean[col].fillna('Unknown', inplace=True)\n",
      "C:\\Users\\mudit\\AppData\\Local\\Temp\\ipykernel_12536\\2847191607.py:7: FutureWarning: A value is trying to be set on a copy of a DataFrame or Series through chained assignment using an inplace method.\n",
      "The behavior will change in pandas 3.0. This inplace method will never work because the intermediate object on which we are setting values always behaves as a copy.\n",
      "\n",
      "For example, when doing 'df[col].method(value, inplace=True)', try using 'df.method({col: value}, inplace=True)' or df[col] = df[col].method(value) instead, to perform the operation inplace on the original object.\n",
      "\n",
      "\n",
      "  df_clean['TRANSMISSION_SOURCE_PLANT'].fillna('Unknown', inplace=True)\n",
      "C:\\Users\\mudit\\AppData\\Local\\Temp\\ipykernel_12536\\2847191607.py:7: FutureWarning: Setting an item of incompatible dtype is deprecated and will raise an error in a future version of pandas. Value 'Unknown' has dtype incompatible with float64, please explicitly cast to a compatible dtype first.\n",
      "  df_clean['TRANSMISSION_SOURCE_PLANT'].fillna('Unknown', inplace=True)\n"
     ]
    }
   ],
   "source": [
    "# Filling missing values with 'Unknown'\n",
    "categorical_cols = df_clean.select_dtypes(include={'object', 'category'}).columns\n",
    "for col in categorical_cols:\n",
    "    df_clean[col].fillna('Unknown', inplace=True)\n",
    "\n",
    "# Filling the missing values in categorical columns with int64 data type\n",
    "df_clean['TRANSMISSION_SOURCE_PLANT'].fillna('Unknown', inplace=True)"
   ]
  },
  {
   "cell_type": "code",
   "execution_count": 9,
   "id": "88e71fc1",
   "metadata": {},
   "outputs": [],
   "source": [
    "# Replace \"Unknown\" in TOTALCOST with adjacent REPORTING_COST values\n",
    "df_clean['TOTALCOST'] = df_clean['TOTALCOST'].where(df_clean['TOTALCOST'] != \"Unknown\", df_clean['REPORTING_COST'])"
   ]
  },
  {
   "cell_type": "code",
   "execution_count": null,
   "id": "c68c6ea3",
   "metadata": {},
   "outputs": [],
   "source": [
    "#DO NOT RUN NOT REQUIRED    \n",
    "#Coverting categorical columns to numerical as they contain int64 data type\n",
    "for col in ['REPORTING_COST', 'TOTALCOST']:\n",
    "    df_clean[col] = df_clean[col].str.replace(',', '', regex=True) #handling conversion as converting values with commas throws error and results in missing values\n",
    "    df_clean[col] = pd.to_numeric(df_clean[col], errors='coerce')"
   ]
  },
  {
   "cell_type": "markdown",
   "id": "30d03ea9",
   "metadata": {},
   "source": [
    "- Handle corrupted characters"
   ]
  },
  {
   "cell_type": "code",
   "execution_count": 10,
   "id": "f492a44e",
   "metadata": {},
   "outputs": [],
   "source": [
    "# Replace non-ASCII characters with 'corrupt values' while prevemting repeated replacements\n",
    "for col in df_clean.select_dtypes(include={'object', 'category'}).columns:\n",
    "    df_clean[col] = df_clean[col].apply(lambda x: 'Corrupt Value' if re.search(r'[^\\x00-\\x7F]', str(x)) else x)"
   ]
  },
  {
   "cell_type": "markdown",
   "id": "ba4caad0",
   "metadata": {},
   "source": [
    "- Filling missing values in numerical columns"
   ]
  },
  {
   "cell_type": "code",
   "execution_count": 11,
   "id": "57927dbe",
   "metadata": {},
   "outputs": [
    {
     "name": "stdout",
     "output_type": "stream",
     "text": [
      "                  VIN  TRANSACTION_ID                                                                                                                                                                                                                                                                                                                                                                                                                                                                                                                                                                                                                                                                                                                                                                                                                                                                                                                                                                                                                         CORRECTION_VERBATIM                                                                                                                                                                                                                                                                                                                                                                                                                                                                                                                                                                     CUSTOMER_VERBATIM REPAIR_DATE                                 CAUSAL_PART_NM                          GLOBAL_LABOR_CODE_DESCRIPTION                   PLATFORM      BODY_STYLE       VPPC    PLANT BUILD_COUNTRY      LAST_KNOWN_DLR_NAME  LAST_KNOWN_DLR_CITY REPAIRING_DEALER_CODE              DEALER_NAME    REPAIR_DLR_CITY    STATE  DEALER_REGION REPAIR_DLR_POSTAL_CD  REPAIR_AGE        KM  COMPLAINT_CD_CSI COMPLAINT_CD  VEH_TEST_GRP COUNTRY_SALE_ISO  ORD_SELLING_SRC_CD OPTN_FAMLY_CERTIFICATION OPTF_FAMLY_EMISSIOF_SYSTEM  GLOBAL_LABOR_CODE TRANSACTION_CATEGORY  CAMPAIGN_NBR REPORTING_COST TOTALCOST   LBRCOST ENGINE                                                           ENGINE_DESC TRANSMISSION                                                                           TRANSMISSION_DESC ENGINE_SOURCE_PLANT  ENGINE_TRACE_NBR TRANSMISSION_SOURCE_PLANT TRANSMISSION_TRACE_NBR  SRC_TXN_ID  SRC_VER_NBR  TRANSACTION_CNTR MEDIA_FLAG VIN_MODL_DESGTR     LINE_SERIES  LAST_KNOWN_DELVRY_TYPE_CD  NON_CAUSAL_PART_QTY  SALES_REGION_CODE\n",
      "0   3HCFDDE89SH220903           13021                                                                                                                                                                                                                                                                                                                                                                                                                                                                                                                                                                                                                                                                                                                                                                                                                                                                                                                                                                                                            REPLACED STEERING WHEEL NOW OKAY                                                                                                                                                                                                                                                                                                                                                                                                                                                                                                                                                           STEERING WHEEL COMING APART  01-02-2024                      WHEEL ASM-STRG *JET BLACK                             Steering Wheel Replacement           Full-Size Trucks        Crew Cab      T1CCF      SIL            MX       Silverstone Motors             ST JOHNS       13-13992/309484          Apex Auto Sales           ST JOHNS       MI              1            488799101           6     8,872                 0       0-0310      T03.0354               US                  13                      FE9                        FTB                130                 FREG           NaN         370.03    370.03     61.46    LZ0  DIESEL, 6 CYL, 3.0L, CRI, L6, DOHC, TURBO, VGT, ALUM, CSS50V, VAR. 2          MQC                                                   BYT 10 SPD, 10L80, ATSS, ETRS, CPA, GEN 2            70628511  V2210281MFTX0488                  287827.0       S2210121CNJX0941  2808908219            6                 1          N         CF10543            1500                       21.0                    0                  1\n",
      "1   1HRFFEE8XSZ230636           13028                                                                                                                                                                                                                                                                                                                                                                                                                                                                                                                                                                                                                                                                                                                                                                CHECKED - FOUND DTC'S U0229 - U1530 SET IN BCM. FOUND PIP5883J, VERIFI ED RPO OPTIONS. TESTED PER SI - WAS INCONCLUSIVE.TESTEDPERWIRING SC HEMATIC - ALL CIRCUITS TESTED OK. LOOKS LIKE FAULTY HEATED S-W MODULE. ORDERED NEW MODULE 9-26-23.1-2, REPLACEDHEATED S-W MODULE.                                                                                                                                                                                                                                                                                                                                                                                                                                                                                                                                            CUSTOMER STATES HEATED STEERING WHEEL INOP  01-03-2024                    MODULE ASM-STRG WHL HT CONT               Heated Steering Wheel Module Replacement           Full-Size Trucks        Crew Cab      T1CGF      FTW            US         Elite Auto Group              FISHERS       13-14819/243038        SilverPeak Motors       GRAND RAPIDS       MN              1            557444215           5    16,346                 0       0-0310      T03.0354               US                  48                      FE9                        FTB               2400                 FREG           NaN         307.32    307.32    291.14    LZ0  DIESEL, 6 CYL, 3.0L, CRI, L6, DOHC, TURBO, VGT, ALUM, CSS50V, VAR. 2          MQC                                                   BYT 10 SPD, 10L80, ATSS, ETRS, CPA, GEN 2            70628511  V2210291MFTX0188                17749294.0       R2210881CNJX0287  2808841910            6                 1          Y         TF10543            1500                       10.0                    0                  1\n",
      "2   1HYKSMRK6SZ000990           13035  APPROVED 4.9(OLH) FOR ADDED DIAGNOSTICS WITH TCSC TO FIGURE OUT AND CO MPLETE PROGRAMMING WHILE REPLACING THE STEERING WHEELASSEMBLY. ROB W. 1-2-24 3-31PM OLH FOR OPEN TAC CASE, CONTACT TCSC CASE # 9-1156925877 4 MULTIPLE TIMES AND COMPLETED DRIVE MOTORSOFTWARE UPDATE PROGRAMMING . PERFORMED SYSTEM CHECK AS PER CUSTOMERS CONCERN, STEERING WHEEL COMI NG APART. CONTACTED TAC CASE#9-11503916151 \" PLEASE BE AWARE IF A DEA LER RECEIVES A REPLACEMENT SUPER CRUISE STEERING WHEEL PART NUMBER 850 13816. ONCEINSTALLED THEY WILL NEED TO CONTACT TCSC AND REQUEST THIS BELOW. APPLIES TO 2023 AND 2024. ORDER AND REPLACED STEERING WHEEL, CONTACTED TCSC MANY TIMES AND ALSO GET ASSISTANCE FROM FSE BILL M. TO CO MPLETED PROGRAMMING. PER TCSC PROGRAMMED DRIVE MOTOR CONTROLMODULE 1 WCC-FDYZ196959052 PROG, SET UP WCC-0SYY196956992. AFTER PROGRAMMING CO MPLETED PERFORMED A DRIVE CYCLE AND CHECK STEERINGWHEEL OPERATION, OP ERATING NORMALLY AT THIS TIME. MILEAGE IN 5522, MILEAGE OUT 5532. CHAR GE VEHICLE SOON!!!                                                                                                                                                                                                                                                                                                                                                                                                                                                                 OWNER REPORTS: THE SUPER CRUISE BAR ON THE STEERING WHEEL IS COMING OF F. CHECK AND ADVISE. ADVISOR RUNNING PRA TOOL.  01-04-2024                  WHEEL ASM-STRG *BACKEN BLACKK                             Steering Wheel Replacement                        BEV  4 Door Utility  L233-LSOP      SHT            US    CrossRoads Dealership            SAN DIEGO       11-46466/119152      Quantum Car Traders          SAN DIEGO       CA              1            921083521           9     8,887                 0       0-0310      T00.0006               US                  12                      YF5                        FF6                130                 FREG           NaN       2,457.45  3,205.45  1,012.67    EN0                                                                  NONE          MF1                                                                                        NONE             Unknown           Unknown                   Unknown                Unknown  2809979441            4                 1          Y           6MB26           Lux-1                       10.0                    0                  1\n",
      "3   3HCFDFEL3SH241701           13021                                                                                                                                                                                                                                                                                                                                                                                                                                                                                                                                                                                                                                                                                                                                                                                                                                                                                                                                                                                                                  STEERING WHEEL REPLACEMENT                                                                                                                                                                                                                                                                                                                                                                                                                                                                                              CUSTOMER STATES THE LETTERING AND FINISH ON THE STEERING WHEEL IS COMING OFF. Plant: SIL  01-04-2024                      WHEEL ASM-STRG *JET BLACK                             Steering Wheel Replacement           Full-Size Trucks        Crew Cab      T1CCF  Unknown            MX          Westwood Wheels            MILWAUKEE       13-47099/113361        Summit Drive Auto            SLINGER       WI              1            530869027          10    15,500                 0       0-0890      T06.2375               US                  13                      FE9                        FTB                130                 FREG           NaN         445.28    445.28     63.18    L87                            GAS, 8 CYL, V8, 6.2L, DI, DFM, ALUM, GEN 5          MHS                                            BYT 10 SPD, 10L80, GRX, GEN 1, ATSS, ETRS, VAR 1           830107152  N2210821MFYX0482                  287827.0       S1210822CKJX0291  2808892288            6                 1          Y         CF10543            1500                       10.0                    0                  1\n",
      "4   1HRFFHEL1RZ181474           13021                                                                                                                                                                                                                                                                                                                                                                                                                                                                                                                                                                                                                                                                                                                                                                                                                                                                                                                                                                                               REPLACED STEERING MESSAGE NO LONGER DISPLAYED                                                                                                                                                                                                                                                                                                                                                                                                                                                                                                          C/S: CUSTOMER STATES THE SERVICE DRIVER ASSIST SYSTEM MESSAGE IS ON. A DVISE  01-05-2024                      WHEEL ASM-STRG *JET BLACK                             Steering Wheel Replacement           Full-Size Trucks        Crew Cab      T1CGF      FTW            US           LuxeAuto Sales              KELLOGG       11-47556/116725           Horizon Motors       LIBERTY LAKE       WA              1            990197623           0         8                 0       0-0621      T06.2375               US                  48                      NE1                        FUC                130                 FREG           NaN       1,439.65  1,439.65       136    L87                            GAS, 8 CYL, V8, 6.2L, DI, DFM, ALUM, GEN 5          MHS                                            BYT 10 SPD, 10L80, GRX, GEN 1, ATSS, ETRS, VAR 1           830107152  N2212994MGPX0790                17749294.0       R2212982CKJX0282  2808901882            8                 1          N         TF10543            1500                       10.0                    0                  1\n",
      "5   3HRFFHED7RH167541           13026                                                                                                                                                                                                                                                                                                                                                                                                                                                                                                                                                                                                                                                                                                                                                                                                                                                                                                                                                                                              Remove and replace steering wheel wire harness                                                                                                                                                                                                                                                                                                                                                                                                                                                                                                                                       Horn and steering wheel switches are inoperable  01-05-2024               HARNESS ASM-STRG WHL HORN SW WRG  Steering Wheel Horn Switch Wiring Harness Replacement           Full-Size Trucks        Crew Cab      T1CGF      SIL            MX           Horizon Motors                OMAHA       13-05637/165732          Prestige Wheels           COLUMBUS       NE              1            686012808           0        14                 0       0-0890      T05.3330               US                  48                      FE9                        FTB                 20                 FREG           NaN         216.75    216.75    139.84    L84                            GAS, 8 CYL, 5.3L, V8, DI, DFM, ALUM, GEN 5          MHS                                            BYT 10 SPD, 10L80, GRX, GEN 1, ATSS, ETRS, VAR 1           812040194  A2212084MGSX0089                  287827.0       S2212992CKJX2842  2809498122            6                 1          N         TF10543            1500                       16.0                    0                  1\n",
      "6   1HRFFHEL4RZ149960           13071                                                                                                                                                                                                                                                                                                                                                                                                                                                                                                                                                                                                                                                                                                                                                 ACCESSED, REMOVED AND REPLACED THE DRIVERS ASSISTANCE SYSTEMS MODULE. ACCESSED THE DIAGNOSTICPORTANDREPROGRAMMEDTHESYSTEMCALIBRATION USING THE MDI-2 WITH A WARRANTY CLAIM PROGRAMMING CODE OF FDYZ197418154. ROAD TESTEDTHEVEHICLETOVERIFYREPAIRS. THESYSTEM IS NOW OPERATING AS DESIGNED.                                                                                                                                                                                                                                                                                                                                                                                                                                                  CUST. STATES DRIVERS ASSIST LIGHT COMES ON DASH -SUPER CRUISE/LANE DEPARTURE WORKS INTERMITTENTLY-WAS DIAG. FORASTEERINGWHEELMODULE.  01-05-2024                      WHEEL ASM-STRG *JET BLACK                             Steering Wheel Replacement           Full-Size Trucks        Crew Cab      T1CGF      FTW            US       Apex Vehicle Sales            SMITHTOWN       13-02278/273131           UrbanEdge Auto          BAY SHORE       NY              1            117061211           2       856                 0       0-0621      T06.2375               US                  48                      NE1                        FUC                130                 FREG           NaN       1,488.94  1,488.94    150.03    L87                            GAS, 8 CYL, V8, 6.2L, DI, DFM, ALUM, GEN 5          MHS                                            BYT 10 SPD, 10L80, GRX, GEN 1, ATSS, ETRS, VAR 1           830107152  N2212914MGPX0299                17749294.0       R2212922CKJX0928  2809208122           24                 1          Y         TF10543            1500                       10.0                    0                  1\n",
      "7   3HCFDFED4SH352945           13021                                                                                                                                                                                                                                                                                                                                                                                                                                                                                                                                                                                                                                                                                                                                                                                                                                                                                                                                                                                                                     REPLACED STEERING WHEEL                                                                                                                                                                                                                                                                                                                                                                                                                                                                                                               Special Order Part [ steering wheel heated steering wheel not working ]  01-05-2024                      WHEEL ASM-STRG *JET BLACK                             Steering Wheel Replacement           Full-Size Trucks        Crew Cab      T1CCF      SIL            MX            Diamond Drive    SAINT CLAIRSVILLE       13-13858/113450     Diamond Auto Traders  SAINT CLAIRSVILLE       OH              1            439508512           3     4,065                 0       0-0310      T05.3386               US                  13                      NE1                        FUC                130                 FREG           NaN         427.08    427.08     57.61    L84                            GAS, 8 CYL, 5.3L, V8, DI, DFM, ALUM, GEN 5          MHS                                            BYT 10 SPD, 10L80, GRX, GEN 1, ATSS, ETRS, VAR 1           812040194  A2212881MF1X2422                  287827.0       S1212982CKJX2188  2808882287            4                 1          N         CF10543            1500                       15.0                    0                  1\n",
      "8   1HRF9CED6NZ221061           13021                                                                                                                                                                                                                                                                                                                                                                                                                                                                                                                                                                                                                                                                                                                                                                                                                                                                                                 TECHNICIAN FOUND THE STEERING COLUMN PLASTIC TRIM WAS NOT ALIGNED PROPERLY ADJUSTED TRIM AND FOUND THE CUSTOMER CONCERN IS NOLONGER PRESENT                                                                                                                                                                                                                                                                                                                                                                                                                                                                                         CUSTOMER STATES STEERING WHEEL IS MAKING A RUBBING NOISE WHEN TURING THE WHEEL LEFT AND RIGHT  01-08-2024                                        Unknown                 Steering Wheel Spoke Cover Replacement           Full-Size Trucks        Crew Cab      T1CGF      FTW            US      Summit Auto Traders              MADISON       13-28387/166196         Legacy Car Sales            MADISON       OH              1            440572570          21    31,611                 0       0-0313      T05.3386               US                  48                      FE9                        FTB                 50                 FREG           NaN          27.69     27.69     27.69    L84                            GAS, 8 CYL, 5.3L, V8, DI, DFM, ALUM, GEN 5          MQB                                                         BYT 10 SPD, 10L80, ATSS, CPA, GEN 2             2127157  T1220882JW9X2294                17749294.0       R2220422XKJX0272  2808998129            2                 1          N         TF18543            1500                       16.0                    0                  1\n",
      "9   1HRFFHEL8RZ133325           13074                                                                                                                                                                                                                                                                                                                                                                                                                                                                                                                                                                                                                                                                                                                                                                                                                                                                                                                                                                                                                  Steering Wheel Replacement                                                                                                                                                                                                                                                                                                                                                                                                                                                                            Customer states that they are getting a message on the dash saying driver assist message. Check and advise  01-09-2024                   WHEEL ASM-STRG *VERY DARK AT                             Steering Wheel Replacement           Full-Size Trucks        Crew Cab      T1CGF      FTW            US         TrueValue Motors           BELLEVILLE       11-40119/299131        PrimeDrive Motors         BELLEVILLE       IL              1            622263101           4     8,304                 0       0-0621      T06.2375               US                  48                      FE9                        FTB                130                 FREG           NaN       1,147.09  1,147.09    146.06    L87                            GAS, 8 CYL, V8, 6.2L, DI, DFM, ALUM, GEN 5          MHS                                            BYT 10 SPD, 10L80, GRX, GEN 1, ATSS, ETRS, VAR 1           830107152  N2212294MGPX0128                17749294.0       R2212112CKJX2084  2821988724            4                 1          Y         TF10543            1500                       10.0                    1                  1\n",
      "10  1HCFDHE86SZ274242           13023                                                                                                                                                                                                                                                                                                                                                                                                                                                                                                                                                                                                                                                                                          GAINED ACCESS AND REMOVED OLD STEERING WHEEL AFTER DISCONNECTING BATTERY NEGATIVE. INSTALLED NEW STEERING WHEEL, APPLIED LOCTITE TOBOLT THAT RETAINS STEERING WHEEL. TIGHTED BOLT. RE INSTALLED AIR BAG, RE INSTALLED TRIM. RE CONNECTED BATTERY, CHECKED FOR ANYPROTRUDING FROM STEERING WHEEL MOLDING, ALL OK NOW GM AUTHORIZATION# 490759800000                                                                                                                                                                                                                                                                                                                                        C/S: REMOVED STEERING WHEEL TO GAIN ACCESS TO BACK SIDE OF STEERING WHEEL WHERE TRIM IS THAT IS PROTRUDING AND REPLACED TRIM ANDSTILL IS PRETRUDING. ISSUE IS IN STEERING WHEEL ASSEMBLY reference ro# 82289 -- GM AUTHORIZATION# 490759800000  01-09-2024                      WHEEL ASM-STRG *JET BLACK                             Steering Wheel Replacement           Full-Size Trucks        Crew Cab      T1CCF      FTW            US            BlueSky Autos              PALMYRA       13-15377/118088          Platinum Wheels            PALMYRA       PA              1            170781909           8     6,204                 0       0-0890      T03.0354               US                  13                      NE1                        FUB                130                 FREG           NaN         476.16    476.16     63.99    LZ0  DIESEL, 6 CYL, 3.0L, CRI, L6, DOHC, TURBO, VGT, ALUM, CSS50V, VAR. 2          MQC                                                   BYT 10 SPD, 10L80, ATSS, ETRS, CPA, GEN 2            70628511  V2212221MFTX0298                17749294.0       R2212281CNJX0022  2809222210            6                 1          N         CF10543            1500                       10.0                    0                  1\n",
      "11  1HYKNDRS3MZ177921           13027                                                                                                                                                                                                                                                                                                                                                                                                                                                                                                                                                                                                                                                                                                                                                                                                                                                                                                                                                                                    TECH REPLACED STEERING WHEEL TO CORRECT PRA 487188600000                                                                                                                                                                                                                                                                                                                                                                                                                                                                                               C/S: CUSTOMER STATES THERE IS A PIECE OF THE STEERING WHEEL STICKING UP. SOP PART IS IN  01-10-2024                   WHEEL ASM-STRG *DARK TITANIU                             Steering Wheel Replacement  Global Crossover Vehicles  4 Door Utility       C1UL      SHT            US       Quantum Auto Sales               DAYTON       12-20769/119037         Redline Auto Co.         CINCINNATI       OH              1            452426498          35    70,354                 0       0-0310      T03.6151               US                  12                      FE9                        FTB                130                 FREG           NaN         322.13    322.13     53.46    LGX                      GAS, 6 CYL, 3.6L, V6, DI, DOHC, VVT, ALUM, GEN 2          M3W                                                    TRANSMISSION BYT 9 SPD, 9T65, ETRS GEN 1            37749264  W2220292JDPX0477               822972980.0       21220220KKBP0881  2809492824            4                 1          Y           6NH26  Premium Luxury                       37.0                    0                  1\n",
      "12  1HYKSMRK4SZ001121           13025                                                                                                                                                                                                                                                                                                                                                                                                                                                                                                                                                                                                                                                                                                                                                                                                                                                                                                                                                                                                                REPLACED STEERING WHEEL ASMY                                                                                                                                                                                                                                                                                                                                                                                                                                   (INSTALL SPECIAL ORDER PART) CUSTOMER STATES THE RIGHT SIDE STEERING WHEEL SUPER CRUISE PLASTIC COVER IS LIFTING UP AND NOT SECURE.PRA 491752600000  01-10-2024                  WHEEL ASM-STRG *BACKEN BLACKK                             Steering Wheel Replacement                        BEV  4 Door Utility  L233-LSOP      SHT            US      Velocity Auto Group            LAS VEGAS       13-20095/114568       LuxeCar Dealership            ONTARIO       CA              1            917644452           6    12,628                 0       0-0312      T00.0006               US                  12                      YF5                        FF6                130                 FREG           NaN       1,414.83  1,414.83      95.5    EN0                                                                  NONE          MF1                                                                                        NONE             Unknown           Unknown                   Unknown                Unknown  2809291177            6                 1          N           6MB26           Lux-1                       10.0                    0                  1\n",
      "13  1H6DS5RK6S0127345           13025                                                                                                                                                                                                                                                                                                                                                                                                                                                                                                                                                                                                                                                                                                                                                                                                                                                                                                                                                                                                              Replaced heated steering wheel                                                                                                                                                                                                                                                                                                                                                                                                                                                                                                                                    Customer states heated steering wheel isnt working  01-10-2024                          WHEEL ASM-STRG *BLACK                             Steering Wheel Replacement               Luxury Car-3    4 Door Sedan       A2LL      LGR            US        Redwood Motor Co.            JONESBORO       13-17211/111427          CityStar Motors       POPLAR BLUFF       MO              1            639015525          12    19,743                 0       0-0310      V02.0041               US                  12                      FE9                        FTB                130                 FREG           NaN          562.5     562.5     85.86    LSY            GAS, 4 CYL, L4, 2.0L, SIDI, DOHC, VVT, ALUM, TURB O, VAR 3          MQ2                                                 BYT 10 SPD, 10L60, GEN 1, ATSS, ETRS, VAR 1           830107152  N1221292JU7X2198                  287827.0       S1221112QRJX2178  2809244294           20                 1          Y           6DC79          Luxury                       10.0                    0                  1\n",
      "14  1HC4YSEY3RF110164           13023                                                                                                                                                                                                                                                                                                                                                                                                                                                                                                                                                                                                                                                                                                                                                                                                                                                                                  CHECKED AND VERIFIED CUSTOMER CONCERN AND FOUND TRIM PIECE LOOSE REMOV ED REPLACED TRIM PIECE ON THE BACK OF THE PASSENGER SIDE OFSTEERING W HEEL COMPLETE                                                                                                                                                                                                                                                                                                                                                                                                                                                                                    CUSTOMER STATES STEERING WHEEL CONROL PASSENGER SIDE REAR ON THE STEER ING WHEEL IS LOOSE SOP PART  01-10-2024      COVER-STRG WHL AIRBAG ACC HOLE *JET BLACK                 Steering Wheel Spoke Cover Replacement           Full-Size Trucks        Crew Cab      T1CCH      FLT            US               Titan Cars             CORTLAND       13-28690/113578   Velocity Vehicle Sales           CORTLAND       OH              1            444101448           9    17,675                 0       0-0316      D06.6385               US                  13                      NE1                        FUM                 50                 FREG           NaN           63.1      63.1     61.27    L5P             DIESEL, 8 CYL, 6.6L, DI, V8, TURBO, DURAMAX, GEN 5 VAR. 1          MGM                                                      BYT 10 SPD, 10R1000, GRX, GEN 1, VAR 1            79253428  R2210714JFHX0992                 8042172.0       Y0210111MKFX0928  2809282189            2                 1          N         CF20743            2500                       16.0                    0                  1\n",
      "15  1HKS1JKL0SR282668           13024                                                                                                                                                                                                                                                                                                                                                                                                                          VERIFIED CUSTOMER CONCERN ABOUT A HORN INOP. I FOLLOWED DOCUMENT 4374183 TO DIAGNOSE THIS CONCERN. I MONITORED SCAN TOOL DATA FORTHE HORN ACTIVATION WHILE PRESSING THE HORN AND IT WAS CHANGING INTERMITTENTLY. I THEN TESTED CIRCUITS 3287 AT THE STEERING WHEELFOR A SHORT AND ALL WAS OK, I THEN TESTED CIRCUIT 6051 AND GROUND CIRCUIT HAD NO HIGH RESISTANCE. I THEN TESTED TERMINAL TENSION ONTHE STEERING WHEEL HARNESS AND FOUND LOOSE TENSION ON THE HORN CONNECTION AND REQUIRED A HARNESS REPLACEMENT I THEN REPLACED THESTEERING WHEEL HARNESS. AFTER REPAIRS, THE VEHICLE IS NOW HONKING AS DESIGNED                                                                                                                                                                                                                                                                                                                                                                                                                                                                                    CUSTOMER STATES CK HORN ON THE STEERING WHEEL ONLY WORKS IN THE MIDDLE ON THE SIDE IT DOES NO WORK  01-11-2024               HARNESS ASM-STRG WHL HORN SW WRG  Steering Wheel Horn Switch Wiring Harness Replacement          Full-Size Utility  4 Door Utility      T1YGF      ARL            US      UrbanCar Dealership      RIO GRANDE CITY       13-30014/114870           Crestwood Auto    RIO GRANDE CITY       TX              1            785824821          10    21,295                 0       0-0310      T06.2375               US                  48                      FE9                        FTB                 20                 FREG           NaN         275.55    275.55    202.67    L87                            GAS, 8 CYL, V8, 6.2L, DI, DFM, ALUM, GEN 5          MHS                                            BYT 10 SPD, 10L80, GRX, GEN 1, ATSS, ETRS, VAR 1           249196973  K2210291MFYX0999                  287827.0       S2210212CCJX0718  2809298492            2                 1          N         TC10906            1500                       10.0                    0                  1\n",
      "16  1HC4Y9EY2MF192148           13026                                                                                                                                                                                                                                                                                                                                                                                                                                                                                                                                                                                                                                                                                                                                                                                                                                                                                                                                                                                                                  Steering Wheel Replacement                                                                                                                                                                                                                                                                                                                                                                                                                                                                                                                                                                         Corrupt Value  01-11-2024                      WHEEL ASM-STRG *JET BLACK                             Steering Wheel Replacement           Full-Size Trucks        Crew Cab      T1CCH      FLT            US        Regal Ride Motors                  LOD       72-73421/159921        GoldenRoad Motors         KIRYAT GAT  Unknown              4              Unknown          33  1,07,905                 0       0-0890      D06.6385               IL                  72                      FE9                        FTB                130             FREG_POL           NaN         221.83    221.83        28    L5P             DIESEL, 8 CYL, 6.6L, DI, V8, TURBO, DURAMAX, GEN 5 VAR. 1          MGM                                                      BYT 10 SPD, 10R1000, GRX, GEN 1, VAR 1            79253428  R2220282JRHX0409                 8042172.0       Y0220280MKFX0292  2809489112            2                 1          N         CF20743            2500                       18.0                    0                  4\n",
      "17  1H1FZ6S00N4109597           13025                                                                                                                                                                                                                                                                                                                                                                                                                                                                                                                                                                                                                                                                                                                                                                                                                                                                                                                                                                                                  REPLACE STEERING WHEEL CHECK OK 1699-,0130                                                                                                                                                                                                                                                                                                                                                                                HEATED STEERING WHEEL INOP. WHEN YOU HIT THE BUTTON ON IT TURNS OFF IMMEDIATELY. WHEN REMOTE STARTING IT, IT WILL TURN LIGHT ON BUTNEVER HEAT UP. - RO 6124563 - RO 6126117 - DAVE - PRA #495554400000  01-11-2024                      WHEEL ASM-STRG *JET BLACK                             Steering Wheel Replacement               Global Gamma    4 Door Sedan       C121      ORI            US      Capital Car Dealers              DAVISON       13-44014/115093           TrueDrive Auto          CLARKSTON       MI              1                48348          17    42,079                 0       0-0890      V00.0002               US                  13                      FE9                        FT7                130                 FREG           NaN         411.47    457.47     62.02    EN0                                                                  NONE          MMF                                             BYT, ELECTRIC, GM, GEM, GEN 2, DRIVE UNIT, X68F             Unknown           Unknown                   Unknown                Unknown  2809122794            4                 1          N           1FG48         Premier                       21.0                    0                  1\n",
      "18  1HNEVKKW6SJ216435           13025                                                                                                                                                                                                                                                                                                                                                                                                                                                                                                                                                                                                                                                                                                                                                                                                                                                                                                                                                       INSTALLED SPECIAL ORDERED STEERING WHEEL DUE TO THREADS FRAYING ON WHE EL 0130 .4 629                                                                                                                                                                                                                                                                                                                                                                                                                                                                                                                                                   STEERING WHEEL FRAYING PARTS ARE IN  01-11-2024                     WHEEL ASM-STRG * JET BLACK                             Steering Wheel Replacement              Crossover SUV  4 Door Utility       C1YC      DEL            US          Prestige Wheels              SAGINAW       13-44196/300736       Titan Motors Group            SAGINAW       MI              1            486031297          10    17,774                 0       0-0890      T03.6151               US                  13                      FE9                        FTB                130                 FREG           NaN         395.44    395.44     50.27    LFY                        GAS, 6 CYL, V6, 3.6L, SIDI, DOHC, ATSS, GEN 1+          M3V                                                                      BYT 9 SPD, 9T65, GEN 1                   K         210490972               822972980.0       21210129IKBP0429  2809298112            4                 1          N           1NX56         Premier                       21.0                    0                  1\n",
      "19  1HR49WEY2NF322460           13024                                                                                                                                                                                                                                                                                                                                                                                                                                                                                                                                                                                                                                                                                                                                                                                                                                                                                                                                                                                                     Reconnected horn checked operation, ok.                                                                                                                                                                                                                                                                                                                                                                                         Added Operation horn doesnt work hasnt worked since brand new Tech Cause horn connector not fully seated on harn assembly anddisconnected Tech Comments Reconnected horn checked operation ok  01-11-2024                                        Unknown  Steering Wheel Horn Switch Wiring Harness Replacement           Full-Size Trucks        Crew Cab      T1CGH      FLT            US           GoldStar Autos             EDMONTON       14-82489/320243       BlueSky Auto Sales           EDMONTON       AB              1               T5E4C7          20    34,161                 0       0-0621      D06.6385               CA                  14                      FE9                        FTB                 20                 FREG           NaN          30.09      31.6      31.6    L5P             DIESEL, 8 CYL, 6.6L, DI, V8, TURBO, DURAMAX, GEN 5 VAR. 1          MGM                                                      BYT 10 SPD, 10R1000, GRX, GEN 1, VAR 1            79253428  R2222412MU9X0781                 8042172.0       Y0222190MKFX0498  2809222282            2                 1          N         TF30743            3500                       18.0                    0                  1\n",
      "20  3HRFFCER3NH528824           13025                                                                                                                                                                                                                                                                                                                                                                                                                                                                                                                                                                                                                                                                                                                                                                                                                                                                                                                  PRA APPROVED, PRA #495794600000 FOUND THE STEERING WHEEL TO BE COMING APART. REPLACED THE STEERING WHEEL. VERIFIED REPAIR.                                                                                                                                                                                                                                                                                                                                                                                                                                                                                                       CUSTOMER STATES STITCHING ON STEERING WHEEL IS COMING UNDONE ON THE RI GHT SIDE  01-11-2024                          WHEEL ASM-STRG *BLACK                             Steering Wheel Replacement           Full-Size Trucks        Crew Cab      T1CGF      SIL            MX          Infinite Motors            HENDERSON       11-11457/116555          MetroMax Motors             DALLAS       TX              1            752093016          22    34,260                 0       0-0890      T03.0353               US                  48                      FE9                        FTB                130                 FREG           NaN         621.34    621.34    107.28    LM2         DIESEL, 6 CYL, 3.0L, CRI, L6, DOHC, TURBO, VGT, AL UM, CSS50V          MQC                                                   BYT 10 SPD, 10L80, ATSS, ETRS, CPA, GEN 2            70628511  V2220472CVCX0021                  287827.0       S1220791CNJX0210  2809294191            4                 1          N         TF10543            1500                       10.0                    0                  1\n",
      "21  1HYKNDR46NZ151056           13025                                                                                                                                                                                                                                                                                                                                                                                                                                                                                                                                                                                                                                                                                                                                                                                                                                                                                                                                                                                                           replaced steering wheel trim ring                                                                                                                                                                                                                                                                                                                                                                                                                                                                                                                              customer states chrome trim on steering wheel is cracked  01-12-2024            COVER-STRG WHL SPOKE *LINEAR GALAXD                 Steering Wheel Spoke Cover Replacement  Global Crossover Vehicles  4 Door Utility       C1UL      SHT            US        Platinum Auto Co.              INDIANA       12-20573/117099       Crystal Drive Auto            INDIANA       PA              1            157012061          21    24,129                 0       0-0313      T02.0500               US                  12                      NE1                        FUG                 50                 FREG           NaN         386.62    386.62     51.75    LSY            GAS, 4 CYL, L4, 2.0L, SIDI, DOHC, VVT, ALUM, TURB O, VAR 3          M3G                                                                 BYT 9 SPD, 9T60, ETRS GEN 1           830107152  N2220942JUHX0982               822972980.0       21220170VHBP0421  2809179492           26                 1          N           6NH26  Premium Luxury                       10.0                    0                  1\n",
      "22  1HNEVNKW4SJ144359           13025                                                                                                                                                                                                                                                                                                                                                                                                                                                                                                                                                                                                                                                                                                                                                                                                                                                                                                                                                      LEATHER PULLING AWAY FROM WHEEL 0130 0.40 REPLACEDSTEERING WHEEL PRE AUTH 488737400000                                                                                                                                                                                                                                                                                                                                                                                                                                                                                                               CUSTOMER STATES THE LEATHER ON STEERING WHEEL IS COMING APART - SOPHERE  01-12-2024                     WHEEL ASM-STRG * JET BLACK                             Steering Wheel Replacement              Crossover SUV  4 Door Utility       C1YC      DEL            US         SwiftCar Traders          WEATHERFORD       13-07367/112288       EliteStreet Motors        WEATHERFORD       TX              1            760878773          15    35,914                 0       0-0312      T03.6151               US                  13                  Unknown                        FTB                130                 FREG           NaN          436.5     436.5     56.87    LFY                        GAS, 6 CYL, V6, 3.6L, SIDI, DOHC, ATSS, GEN 1+          M3V                                                                      BYT 9 SPD, 9T65, GEN 1                   K         222940921               822972980.0       22222109IKBP2899  2809184401            4                 1          Y           1NX56    High Country                       10.0                    0                  1\n",
      "23  3HRS9EED0LH255650           13025                                                                                                                                                                                                                                                                                                                                                                                                                                                                                                                                                                                                                                                                                                                                                                                                                                                                                                                                                    Steering Wheel Spoke Cover, PER GOODWILL ASSISTANCE, CUSTOMER HAS A DEDUCTIBLE OF $86.45                                                                                                                                                                                                                                                                                                                                                                                                                                                                                                                                  CUSTOMER STATES THE STEERING WHEEL BEZEL IS PEELING.  01-12-2024     APPLIQUE ASM-STRG WHL TR SPOKE CVR *VULCAN                 Steering Wheel Spoke Cover Replacement           Full-Size Trucks        Crew Cab      T1CGF      SIL            MX           NextGen Motors             VALDOSTA       13-26192/159183         LibertyRide Auto           VALDOSTA       GA              1            316026802          47    59,192                 0       0-0890  LGMXT05.3386               US                  48                      FE9                        FTB                 50             FREG_POL           NaN          214.4     214.4        78    L84                            GAS, 8 CYL, 5.3L, V8, DI, DFM, ALUM, GEN 5          MQB                                                         BYT 10 SPD, 10L80, ATSS, CPA, GEN 2           812040194  A2200220HGUX2088                  287827.0       S2200210BKJX2982  2809182089            8                 1          Y         TF10543            1500                       10.0                    0                  1\n",
      "24  1HKS2JKR2NR336997           13073                                                                                                                                                                                                                                                                                                                                                                                                                                                                                                                                                                                                                                                                                                                                                                                                                                                                                                                                                                                         replaced steering wheel no further action required.                                                                                                                                                                                                                                                                                                                                                                                                                                                                                                                                 CUSTOMER STATES STEERING WHEELS STICHING COMING APART  01-12-2024                   WHEEL ASM-STRG *VERY DARK AT                             Steering Wheel Replacement          Full-Size Utility  4 Door Utility      T1YGF      ARL            US            Liberty Drive                MIAMI       13-26329/312777     Highlander Car Sales          HOMESTEAD       FL              1            330341829          18    32,616                 0       0-0890      T03.0353               US                  48                      FE9                        FTB                130                 FREG           NaN         454.63    454.63     73.62    LM2         DIESEL, 6 CYL, 3.0L, CRI, L6, DOHC, TURBO, VGT, AL UM, CSS50V          MQC                                                   BYT 10 SPD, 10L80, ATSS, ETRS, CPA, GEN 2            70628511  V2222922CVCX0009                  287827.0       S1222471CNJX0228  2821704292            8                 1          N         TF10906            1500                       10.0                    0                  1\n",
      "25  1HCFDEED3SZ308171           13037                                                                                                                                                                                                                                                                                                                                                                                                                                                                                                                                                                                                                                                                                                                                                                                                                                                                                                                                                                                                                     Replaced steering wheel                                                                                                                                                                                                                                                                                                                                                                                                                                                                                                             WRAP ON THE STEEERING WHEEL IS PEELING ***NEED PRA DONE BY MANAGEMENT****  01-12-2024                      WHEEL ASM-STRG *JET BLACK                             Steering Wheel Replacement           Full-Size Trucks        Crew Cab      T1CCF      FTW            US           DreamCars Auto          GRAND FORKS       13-04703/111708         HorizonView Auto        GRAND FORKS       ND              1            582016720           4     8,678                 0       0-0312      T05.3386               US                  13                      FE9                        FTB                130                 FREG           NaN         456.98    456.98     69.06    L84                            GAS, 8 CYL, 5.3L, V8, DI, DFM, ALUM, GEN 5          MHS                                            BYT 10 SPD, 10L80, GRX, GEN 1, ATSS, ETRS, VAR 1             2127157  T2212491MF1X0970                17749294.0       R2210822CKJX0278  2820422129            4                 1          Y         CF10543            1500                       10.0                    0                  1\n",
      "26  1HYKNHRS1LZ157005           13025                                                                                                                                                                                                                                                                                                                                                                                                                                                                                                                                                                                                                                                                                                                                                                                                                                                                                                                                                                   REPLACE STEERING WHEEL SWITCH TRIM (SOP PART BEFORE WARRANTY EXPIRATIO N)                                                                                                                                                                                                                                                                                                                                                                                                                                                                                                                    C/S CARBON FIBER APPLIQUE ON STEERING WHEEL IS PEELING OFF. SOP IN  01-12-2024             COVER-STRG WHL SPOKE *HI GLOSS V-C                 Steering Wheel Spoke Cover Replacement  Global Crossover Vehicles  4 Door Utility       C1UL      SHT            US     Legacy Vehicle Sales           CLEARWATER       12-21098/169196         RapidRoad Motors      PINELLAS PARK       FL              1            337812655          50    56,575                 0       0-0312  LGMXT03.6151               US                  12                      FE9                        FTB                 50             FREG_POL           NaN          695.8     695.8     57.26    LGX                      GAS, 6 CYL, 3.6L, V6, DI, DOHC, VVT, ALUM, GEN 2          M3W                                                    TRANSMISSION BYT 9 SPD, 9T65, ETRS GEN 1            37749264  W2291470HYBX0492               822972980.0       22291280KKBP2422  2809272972            4                 1          Y           6NJ26           Sport                       37.0                    0                  1\n",
      "27  1HRFFHEL8RZ133325           13048                                                                                                                                                                                                                                                                                                                                                                                                                                                                                                                                                                                                                                                                                                                                                                                                   TECH WAS ABLE TO VERIFY CUSTOMERS CONCERN OF HEATED STEERING WHEEL INOP. TECH CHECKED CONNECTION TO THESTEERINGWHEELANDFOUNDHEATING STEERING WHEEL HAS INTERNAL MALFUNCTION AT HARNESS(BROKEN), ORDERED/INSTALLED NEW STERRING WHEEL, OAD                                                                                                                                                                                                                                                                                                                                                                                                                                    CUST STS THE HEATED STEERING WHEEL WILL TURN ON AT TIMES AND THE TURN OFF ON ITS OWN AND NOT WORK. MOST OF THE TIMETHEWHEELWILLNOTTURN ON AND WORK  01-15-2024                      WHEEL ASM-STRG *JET BLACK                             Steering Wheel Replacement           Full-Size Trucks        Crew Cab      T1CCF      OS2            CA     Horizon Drive Motors            WESTVILLE       13-15262/161175         SilverStone Auto          WESTVILLE       NJ              1             80931325           1       583                 0       0-0890      T05.3330               US                  13                      NE1                        FUG                130                 FREG           NaN          592.1  1,006.10    165.58    L84                            GAS, 8 CYL, 5.3L, V8, DI, DFM, ALUM, GEN 5          MHS                                            BYT 10 SPD, 10L80, GRX, GEN 1, ATSS, ETRS, VAR 1           249196973  K2212844MGSX2298                17749294.0       R2212792CKJX2218  2809440924           14                 1          Y         CF10543            1500                       15.0                    0                  1\n",
      "28  1HCFYEED6NZ182017           13040                                                                                                                                                                                                                                                                                                                                                                                                                                                                                                                                                                                                                                                                                                                                                                                                                                                                                                                                                  0130 Labor 0.4 -Removed and replaced steering wheel with correct unit. Verified operation.                                                                                                                                                                                                                                                                                                                                                                                                                                           TRIM OR MOULDING DIAGNOSIS TRIM OR MOULDING DIAGNOSIS - C/S: CUSTOMER REQUEST ED TO INSTALL CORRECT STEERING WHEEL PER SOP - PREVRO 6012971  01-15-2024                      WHEEL ASM-STRG *JET BLACK                             Steering Wheel Replacement           Full-Size Trucks        Crew Cab      T1CCF      FTW            US       Summit Car Trading          CASTLE ROCK       13-36101/314339      CrownCar Dealership        CASTLE ROCK       CO              1            801041922          23    24,983                 0       0-0312      T05.3386               US                  13                      FE9                        FTB                130                 FREG           NaN         299.77    299.77      91.4    L84                            GAS, 8 CYL, 5.3L, V8, DI, DFM, ALUM, GEN 5          MQE                                                           BYT 8 SPD, 8L90, ATSS, CPA, GEN 1           249196973  K2220222JW9X1892                 8042172.0       B2220222XNLX9720  2809401941            6                 1          N         CF18543            1500                       10.0                    0                  1\n",
      "29  1HCFDEED5SZ117691           13025                                                                                                                                                                                                                                                                                                                                                                                                                                                                                                                                                                                                                                                                                                                                                                                                                                                                                                                                                                            PER LAST REPAIR ORDER, REPLACED STEERING WHEEL. PRA#493156300000                                                                                                                                                                                                                                                                                                                                                                                                                                                                                                              INSTALL SOP. CUSTOMER STATES STITCHING ON STEERING WHEEL IS COMING APART  01-15-2024                      WHEEL ASM-STRG *JET BLACK                             Steering Wheel Replacement           Full-Size Trucks        Crew Cab      T1CCF      FTW            US           Oakwood Motors          BOLINGBROOK       13-11298/227245         NorthStar Wheels        BOLINGBROOK       IL              1            604403522          12    24,925                 0       0-0890      T05.3386               US                  13                  Unknown                        FTB                130                 FREG           NaN         432.68    432.68    113.09    L84                            GAS, 8 CYL, 5.3L, V8, DI, DFM, ALUM, GEN 5          MHS                                            BYT 10 SPD, 10L80, GRX, GEN 1, ATSS, ETRS, VAR 1             2127157  T1222871MF1X0294                17749294.0       R2222892CKJX0778  2809189012            4                 1          N         CF10543            1500                       10.0                    0                  1\n",
      "30  3HNKBHRS8SS220860           13029                                                                                                                                                                                                                                                                                                                                                                                                                                                                                                                                                                                                                                                                                                                                                                                                                                                       TECH DUPLICATED C-C. FOUND THERE TO BE A DEFECT IN THE LEATHER WRAP ON THE TOP OF THE STEERING WHEEL. RECOMMEND REPLACING STEERINGWHEEL TO FIX CONCERN. TECH REPLACED STEERING WHEEL.                                                                                                                                                                                                                                                                                                                                                                                                                                                                  -C/C BACK OF THE STEERING WHEEL HAS A BUMP THAT CATCHES THE HAND WHENE VER YOU STEER THE WHEEL - PARTS IN SOR M19630  01-15-2024                      WHEEL ASM-STRG *JET BLACK                             Steering Wheel Replacement              Crossover SUV  4 Door Utility       C1UC      RAM            MX      PremiumAuto Traders           SUMMERSIDE       14-87095/121126           UrbanPeak Auto         SUMMERSIDE       PE              1               C1N4T8           7    12,782                 0       0-0890      T03.6151               CA                  14                      FE9                        FTB                130                 FREG           NaN         249.69    249.69     61.57    LGX                      GAS, 6 CYL, 3.6L, V6, DI, DOHC, VVT, ALUM, GEN 2          M3V                                                                      BYT 9 SPD, 9T65, GEN 1            37749264  W2212292JDRX0490               822972980.0       22212299CKBP2994  2809172799            4                 1          N           1NR26             2LT                       16.0                    0                  1\n",
      "31  1HR49SE7XRF103023           13026                                                                                                                                                                                                                                                                                                                                                                                                                                                                                                                                                                                                                                                                                                                                                                                                                                                                                                                  INSPECTED STEERING WHEEL, FOUND LEATHER PEELING AT BOTTOM OFSTEERING WHEEL DUE TO FAILED ADHESIVE, REPLACED STEERING WHEEL                                                                                                                                                                                                                                                                                                                                                                                                                                                                                                                           CUST STATES STEERING WHEEL MATERUIAL DELAMINATION AT BOTTOM  01-15-2024                      WHEEL ASM-STRG *JET BLACK                             Steering Wheel Replacement           Full-Size Trucks        Crew Cab      T1CGH      FLT            US         UrbanDrive Sales         WEST CHESTER       13-18721/318683      Redwood Car Traders          BRIDGETON       NJ              1             83021210          10    29,910                 0       0-0890      D06.6230               US                  48                      NE1                        FUM                130                 FREG           NaN         487.54    487.54     71.41    L8T                                GAS, 8 CYL, 6.6L, SIDI, VVT, CAST IRON          MKM  BYT 10 SPD, RWD 4.54 1ST, 2.86 2ND, 2.06 3RD, 1.7 1 4TH, 1.48 5TH, 1.26 6TH, 1.00 7TH, 10L             2127157  T2210924MGUX2424                 8042172.0       Y0210881MSFX0080  2809417819            4                 1          Y         TF20743            2500                       10.0                    0                  1\n",
      "32  3HRFFEE82RH175165           13029                                                                                                                                                                                                                                                                                                                                                                                                                                                                                                                                                                                                                                                                                                                                                                                                                                                                                                                                                                       REPLACE STEERING WHEEL ASSEMBLY CHECK OPERATION OK PRA # 496439500000                                                                                                                                                                                                                                                                                                                                                                                                                                                                                 CUSTOMER STATES STEERING WHEEL DOES NOT HEAT, BUTTON PUSHED AND TURNS OFF IMMEDIATELY, PARTS ORDERED.  01-16-2024                      WHEEL ASM-STRG *JET BLACK                             Steering Wheel Replacement           Full-Size Trucks        Crew Cab      T1CGF      SIL            MX      Nova Car Dealership            ROSEVILLE       11-44425/117433    MetroDrive Auto Sales            MANKATO       MN              1            560015400           2     1,996                 0       0-0310      T03.0354               US                  48                      FE9                        FTB                130                 FREG           NaN         511.39    511.39     72.57    LZ0  DIESEL, 6 CYL, 3.0L, CRI, L6, DOHC, TURBO, VGT, ALUM, CSS50V, VAR. 2          MQC                                                   BYT 10 SPD, 10L80, ATSS, ETRS, CPA, GEN 2            70628511  V2212994M8UX0120                  287827.0       S1211071CNJX2104  2809889290            4                 1          N         TF10743            1500                       10.0                    0                  1\n",
      "33  3HCND9ED5SH144160           13027                                                                                                                                                                                                                                                                                                                                                                                                                                                                                                                                                                                                                                                                                                                                                                                                                                                                                                                                                                                                                    REPLACED STEERING WHEEL.                                                                                                                                                                                                                                                                                                                                                                                                                                                                                                                                                        Steering wheel strings loose .  01-16-2024                   WHEEL ASM-STRG *VERY DARK AT                             Steering Wheel Replacement           Full-Size Trucks      Single Cab      T1RCF      SIL            MX          CityWide Motors          KUWAIT CITY       72-32325/122620         BlueRidge Motors        KUWAIT CITY  Unknown              4              Unknown           4     4,421                 0       0-0312       Unknown               KW                  72                  Unknown                        FTB                130                 FREG           NaN         297.03    297.03        20    L84                            GAS, 8 CYL, 5.3L, V8, DI, DFM, ALUM, GEN 5          MHS                                            BYT 10 SPD, 10L80, GRX, GEN 1, ATSS, ETRS, VAR 1           812040194  A2221281MF1X2447                  287827.0       S2221212CKJX0718  2809421088            4                 1          N         CF10703            1500                       15.0                    0                  4\n",
      "34  1HYKSSRL1RZ101481           13039                                                                                                                                                                                                                                                                                                                                                                                                                                                                                                                                                                                                                                                                                                                                                                                                                                                                                                                                                                                                         REMOVED AND REPLACED STEERING WHEEL                                                                                                                                                                                                                                                                                                                                                                                                                                                                                                                   CUSTOMER STATES THE STEERING WHEEL IS BUBBLING ON INSIDE LEF T SIDE  01-16-2024                  WHEEL ASM-STRG *BACKEN BLACKK                             Steering Wheel Replacement                        BEV  4 Door Utility       L233      SHT            US          GrandView Autos            SMITHTOWN       13-02015/169651      SwiftRoad Car Sales          BAY SHORE       NY              1            117061211           7     7,199                 0       0-0312      J00.0017               US                  12                      NE1                        FF6                130                 FREG           NaN         737.49    737.49     84.22    EN0                                                                  NONE          MF1                                                                                        NONE             Unknown           Unknown                   Unknown                Unknown  2809907807           16                 1          Y           6MB26          Tech-2                       10.0                    0                  1\n",
      "35  1HR49REY4SF251024           13029                                                                                                                                                                                                                                                                                                                                                                                                                                                                                                                                                                                                                                                                                                                                                                                                                                                                                  INSPECTED AND CONFIRMED STEERING WHEEL LEATHER COMING APART. SUBMITTED PRA AND WAS APPROVED. NECESSARY TO REMOVE ANDREPLACESTEERINGWHEEL PRA# 495602900000                                                                                                                                                                                                                                                                                                                                                                                                                                         C/S: CUST STATES LEATER AT THE BOTTOM OF THE STEERING WHEELE IS COMING APART PLEASE SEE HISTORY FOR APPROVED PRA ONPREVIOUSROPRA#495602900000  01-16-2024                      WHEEL ASM-STRG *JET BLACK                             Steering Wheel Replacement           Full-Size Trucks        Crew Cab      T1CGH      FLT            US          AutoMax Traders         JACKSONVILLE       11-29473/309845      Vanguard Auto Group    SAINT AUGUSTINE       FL              1            320864239          10    22,629                 0       0-0310      D06.6385               US                  48                      FE9                        FTB                130                 FREG           NaN         521.02    521.02     90.02    L5P             DIESEL, 8 CYL, 6.6L, DI, V8, TURBO, DURAMAX, GEN 5 VAR. 1          MGM                                                      BYT 10 SPD, 10R1000, GRX, GEN 1, VAR 1            79253428  R2210481MRAX0489                 8042172.0       Y0222780MKFX0277  2809880890            8                 1          N         TF20743            2500                       18.0                    0                  1\n",
      "36  3HCFDFED5SH364828           13030                                                                                                                                                                                                                                                                                                                                                                                                                                                                                                                                                                                                                                                                                                                                                                                                                                                                              REMOVED AND REPLACED HEATED STEERING WHEEL MODULE. CLEAR CODES RECHECK OK. HEATED STEERING WHEEL NOW OPERATING AS DESIGNED.2400---------.6 DIAG------------1.0                                                                                                                                                                                                                                                                                                                                                                                                                                                                        CUSTOMER STATES STEERING HEATING BUTTON TURNS OFF AFTER 1 MINUTE AND CANNOT BE TURN BACK ON - CHECK AND ADVISE  01-16-2024                                        Unknown               Heated Steering Wheel Module Replacement           Full-Size Trucks        Crew Cab      T1CCF      SIL            MX       Horizon Auto Sales              VENTURA       13-20488/318645          IronClad Wheels            VENTURA       CA              1            930038585           1       697                 0       0-0890      T05.3386               US                  13                      YF5                        FUC               2400                 FREG           NaN         330.16    468.16    330.16    L84                            GAS, 8 CYL, 5.3L, V8, DI, DFM, ALUM, GEN 5          MHS                                            BYT 10 SPD, 10L80, GRX, GEN 1, ATSS, ETRS, VAR 1           812040194  A2212791MF1X2247                  287827.0       S1212242CKJX0982  2809782877            2                 1          N         CF10543            1500                       18.0                    0                  1\n",
      "37  2HC4YSEY1S1701193           13030                                                                                                                                                                                                                                                                                                                                                                                                                                                                                                                                                                                                                                                                                                                                                                                                                                                                                                                                                                            REPLACED HEATED STEERING WHEEL MODULE. VERIFIED PROPER OPERATION                                                                                                                                                                                                                                                                                                                                                                                                                                                                                                                                   CUSTOMER STATES HEATED STEERING WHEEL INOP SOP HERE  01-16-2024                    MODULE ASM-STRG WHL HT CONT               Heated Steering Wheel Module Replacement           Full-Size Trucks        Crew Cab      T1CCH      OS2            CA      Liberty Lane Motors           COTTONDALE       13-08499/193576       LegacyAuto Traders         COTTONDALE       AL              1            354534327          12    26,487                 0       0-0890      D06.6385               US                  13                  Unknown                        FTB               2400                 FREG           NaN          227.2     227.2    131.06    L5P             DIESEL, 8 CYL, 6.6L, DI, V8, TURBO, DURAMAX, GEN 5 VAR. 1          MGM                                                      BYT 10 SPD, 10R1000, GRX, GEN 1, VAR 1            79253428  R1222721MRAX0207                 8042172.0       Y0222910MKFX0172  2809784288            2                 1          N         CF20743            2500                       23.0                    0                  1\n",
      "38  1HKS2JKL9MR285352           13030                                                                                                                                                                                                                                                                                                                                                                                                                                                                                                                                                                                                                                                                                                                                                                                                                                                                                                                                                  WHEEL COMING APART AT STITCHING. REPLACE STEERING WHEEL 0130 0.4 PR A ATTACH #483410100000                                                                                                                                                                                                                                                                                                                                                                                                                                                                                                                        CUSTOMER STATES THAT THE STEERING WHEEL COVER IS COMING APART.  01-17-2024                      WHEEL ASM-STRG *JET BLACK                             Steering Wheel Replacement          Full-Size Utility  4 Door Utility      T1YGF      ARL            US            Redline Autos          SIGNAL HILL       11-46346/118677       CrystalPeak Motors        SIGNAL HILL       CA              1            907551909          35    28,635                 0       0-0890      T06.2375               US                  48                      YF5                        FUF                130                 FREG           NaN         519.97    519.97     86.57    L87                            GAS, 8 CYL, V8, 6.2L, DI, DFM, ALUM, GEN 5          MQC                                                   BYT 10 SPD, 10R80, ATSS, ETRS, CPA, GEN 2           249196973  K2220292CU8X1719                  287827.0       S2220492CFJX2190  2809782194            4                 1          N         TF10906            1500                       10.0                    0                  1\n",
      "39  1HNSKRKD0RR120386           13030                                                                                                                                                                                                                                                                                                                                                                                                                                                                                                                                                                                                                                                                                                                                                                                    ACCESSED, REMOVED AND REPLACED THE STEERING WHEEL WITH ALL OTHER RELATED NEW SEALS GASKETS AND/OR NON-REUSABLE HARDWARE ANDREINSTALLED ALL COMPONENTS REMOVED FOR REPAIRS IN THE REVERSE ORDER OF REMOVAL. THE SYSTEM IS NOW OPERATING AS DESIGNED.,0130                                                                                                                                                                                                                                                                                                                                                                                                                                    STEERING WHEEL DAMAGED IN TRANSIT - TEAR/RIP ON RIGHT HAND SIDE ABOVE HAND CONTROLS FOR DIC - REFERENCE PDI RO WHERE DAMAGE WASCAUGHT RO IS 567382  01-17-2024                      WHEEL ASM-STRG *JET BLACK                             Steering Wheel Replacement          Full-Size Utility  4 Door Utility      T1UCF      ARL            US       Velocity Car Sales          SAINT CLOUD       13-04248/111492         RedRock Auto Co.        SAINT CLOUD       MN              1            563013832           0         3                 0       0-0890      T05.3386               US                  13                      FE9                        FTB                130                 FREG           NaN         411.41    411.41     62.06    L84                            GAS, 8 CYL, 5.3L, V8, DI, DFM, ALUM, GEN 5          MHS                                            BYT 10 SPD, 10L80, GRX, GEN 1, ATSS, ETRS, VAR 1           249196973  K2211181MF1X0909                  287827.0       S2211222CKJX2978  2809712980            6                 1          Y         CF10706            1500                       10.0                    0                  1\n",
      "40  1HCFDEER5NZ580922           13026                                                                                                                                                                                                                                                                                                                                                                                                                                                                                                                                                                                                                                                                                                                                                                                                                                                                                                                                                                                              tech 573 Replaced heated steering wheel module                                                                                                                                                                                                                                                                                                                                                                                                                                                                                                                                                            HEATED STEERING WHEEL INOP  01-17-2024                    MODULE ASM-STRG WHL HT CONT               Heated Steering Wheel Module Replacement           Full-Size Trucks        Crew Cab      T1CCF      FTW            US      EliteCar Dealership            CRANBROOK       14-82077/120490        PrestigeCar Sales          CRANBROOK       BC              1               V1C3T1          10    35,617                 0       0-0310       Unknown               CA                  14                      FE9                        FTB               2400                 FREG           NaN         270.52    284.04    206.58    LM2         DIESEL, 6 CYL, 3.0L, CRI, L6, DOHC, TURBO, VGT, AL UM, CSS50V          MQC                                                   BYT 10 SPD, 10L80, ATSS, ETRS, CPA, GEN 2            70628511  V2222782CVCX0429                17749294.0       R2222781CNJX0092  2809492491            2                 1          N         CF10543            1500                       16.0                    0                  1\n",
      "41  1HRS9EED3MZ313803           13035                                                                                                                                                                                                                                                                                                                                                                                                                                                                                                                                                                                                                   TESTED AND VERIFIED HEATED STEERING WHEEL INOP. LIGHT TURNS ON BUT WHE EL WILL NOT GET WARM. CHECKED FOR CODES- NO CODES. CHECKEDFOR BULLETI NS - NONE RELATED. TESTED AS PER SI DIAGNOSIS - INTERNAL HEATING ELEME NT HAS FAILED. WILL NEED TO REPLACE STEERINGWHEEL. SUBMITTED PRA AND GOT APPROVAL FOR WHEEL REPLACEMENT. REPLACED STEERING WHEEL AND TESTED - ALL OK. PRA AUTH CODE-496425100000 LOC 0130 (BASE+DIAG)                                                                                                                                                                                                                                                                                                                                                                                                                                                                                                                           INSPECT AND ADVISE........HEATED STEERING WHEEL IS NON-OPP.  01-18-2024                          WHEEL ASM-STRG *BLACK                             Steering Wheel Replacement           Full-Size Trucks        Crew Cab      T1CGF      FTW            US        Silvercrest Autos               SURREY       14-81004/234107        TitanDrive Motors         ABBOTSFORD       BC              1               V2T5M1          32    45,624                 0       0-0310      T05.3386               CA                  14                      FE9                        FTB                130                 FREG           NaN         423.92    445.12      74.2    L84                            GAS, 8 CYL, 5.3L, V8, DI, DFM, ALUM, GEN 5          MQB                                                         BYT 10 SPD, 10L80, ATSS, CPA, GEN 2             2127157  T2222012CU7X2279                17749294.0       R2222042BKJX0249  2820049088            6                 1          N         TF10543            1500                       10.0                    0                  1\n",
      "42  2HCFDEED4R1147650           13030                                                                                                                                                                                                                                                                                                                                                                                                                                                                                                                                                                                                                                                                                                                                                                                                                                                                                                                                                    removed air bag, replaced steering wheel, reinstalled airbag. no further action required                                                                                                                                                                                                                                                                                                                                                                                                                CUSTOMER STATES THE STEERING WHEEL IS PEELING, REFERENCE PREVIOUS REPAIR ORDER 6140479, MANAGER SUBMITTED FOR PREAUTHORIZATION AND RECEIVED APPROVAL CODE 493245700000  01-18-2024                   WHEEL ASM-STRG *VERY DARK AT                             Steering Wheel Replacement           Full-Size Trucks        Crew Cab      T1CCF      OS2            CA        MetroAuto Traders           STILLWATER       13-05361/112424      DreamCar Auto Sales         STILLWATER       OK              1            740741552           3     4,566                 0       0-0890      T05.3330               US                  13                      FE9                        FTB                130                 FREG           NaN         500.38    500.38     74.99    L84                            GAS, 8 CYL, 5.3L, V8, DI, DFM, ALUM, GEN 5          MHS                                            BYT 10 SPD, 10L80, GRX, GEN 1, ATSS, ETRS, VAR 1           249196973  K2212844MGSX0749                17749294.0       R2212822CKJX0791  2809788409            4                 1          Y         CF10543            1500                       34.0                    0                  1\n",
      "43  1HR49XEY0RF190021           13028                                                                                                                                                                                                                                                                                                                                                                                                                                                                                                                                                                                                                                                                                                                                                                                                                                                                                                                                                                              NECESSARY TO REPLACE STEERING WHEEL SPOKE COVER AND RETEST. OK                                                                                                                                                                                                                                                                                                                                                                                                                                                                                                                                          STEERING WHEEL TRIM AS PER LAST REPAIR ORDER  01-18-2024  APPLIQUE ASM-STRG WHL TR SPOKE CVR *JET BLACK                 Steering Wheel Spoke Cover Replacement           Full-Size Trucks        Crew Cab      T1CGH      FLT            US         Riverside Motors         LAKE CHARLES       48-51076/308210        SummitStar Motors       LAKE CHARLES       LA              1            706073232           5    10,261                 0       0-0890      D06.6385               US                  48                      FE9                        FTB                 50                 FREG           NaN         315.63    403.63     86.79    L5P             DIESEL, 8 CYL, 6.6L, DI, V8, TURBO, DURAMAX, GEN 5 VAR. 1          MGM                                                      BYT 10 SPD, 10R1000, GRX, GEN 1, VAR 1            79253428  R4212824JFHX0082                 8042172.0       Y0212221MKFX0187  2809929908            2                 1          N         TF20743            2500                       18.0                    1                  1\n",
      "44  1HR19SEY5RF265525           13054                                                                                                                                                                                                                                                                                                                                                                                                                                                                                                                                                                                                                                                                                                                                                                                                                                                                                                  DIAGNOSIS OF OPEN CIRCUIT INSIDE WHEEL. REPLACE STEERING WHEEL ( 0130 .3+ .4= .7 HRS ),Steering Wheel Replacement GM PREAUTH# 498654000000                                                                                                                                                                                                                                                                                                                                                                                                                                                                              CHECK AND REPORT STEERING WHEEL ONLY STAYS LUKE WARM, AND DOESNT WORK AFTER 5 MIN OR SO-it won't turn on  01-19-2024                      WHEEL ASM-STRG *JET BLACK                             Steering Wheel Replacement           Full-Size Trucks        Crew Cab      T1CGH      FLT            US      Sterling Auto Group             WINNIPEG       14-95298/171152        VelocityEdge Auto        MISSISSAUGA       ON              1               L4W2M7           1     9,021                 0       0-0310      D06.6375               CA                  14                      FE9                        FTB                130                 FREG           NaN         405.29    457.98     83.26    L5P             DIESEL, 8 CYL, 6.6L, DI, V8, TURBO, DURAMAX, GEN 5 VAR. 1          MGM                                                      BYT 10 SPD, 10R1000, GRX, GEN 1, VAR 1            79253428  R2212894JFHX0788                 8042172.0       Y0212891MKFX2099  2822999949            4                 1          N         TF20743            2500                       23.0                    0                  1\n",
      "45  1HCFYEEL0NZ210174           13056                                                                                                                                                                                                                                                                                                                                                                                                                                                                                                                                                                                                                                                                                                                                                                                                                                                                                                                                                                                    REMOVE AND REPLACE STEERING WHEEL DUE TO LEATHER DEFECT.                                                                                                                                                                                                                                                                                                                                                                                                                                                                                                                                             STEERING WHEEL LEATHER IS LOOSE ON BOTTOM  01-20-2024                      WHEEL ASM-STRG *JET BLACK                             Steering Wheel Replacement           Full-Size Trucks        Crew Cab      T1CCF      FTW            US      Sapphire Auto Sales         GRAND RAPIDS       13-44044/115181          TruePeak Motors       GRAND RAPIDS       MI              1            495121613          23    35,452                 0       0-0316      T06.2375               US                  13                      FE9                        FTB                130                 FREG           NaN         259.93    787.93     66.47    L87                            GAS, 8 CYL, V8, 6.2L, DI, DFM, ALUM, GEN 5          MQB                                                         BYT 10 SPD, 10L80, ATSS, CPA, GEN 2             2127157  T2220122JW4X0820                17749294.0       R2220182XKJX0922  2820898281            6                 1          Y         CF18543            1500                       37.0                    0                  1\n",
      "46  1HCFDEED0NZ543303           13030                                                                                                                                                                                                                                                                                                                                                                                                                                                                                                                                                                                                                                                                                                                                                                                                                                                                                                                                                                                               REMOVED AND REPLACED STEERING WHEEL ASSEMBLY.                                                                                                                                                                                                                                                                                                                                                                                                                                                                                         C/S: CLIENT STATES STEERING WHEEL PULLING APART INSTALL SOPSTEERING WHEEL PRE AUTH IN HISTORY  01-22-2024                      WHEEL ASM-STRG *JET BLACK                             Steering Wheel Replacement           Full-Size Trucks        Crew Cab      T1CCF      FTW            US        PowerDrive Motors           NEW CASTLE       13-15248/260637    Sterling Auto Traders         NEW CASTLE       DE              1            197203125          15    35,201                 0       0-0312      T05.3386               US                  13                      NE1                        FUC                130                 FREG           NaN            514       514      77.1    L84                            GAS, 8 CYL, 5.3L, V8, DI, DFM, ALUM, GEN 5          MHS                                            BYT 10 SPD, 10L80, GRX, GEN 1, ATSS, ETRS, VAR 1           249196973  K2222122JW9X0288                17749294.0       R2220972CKJX0987  2809777780            4                 1          N         CF10543            1500                       15.0                    0                  1\n",
      "47  1HCRYDED2NZ208869           13037                                                                                                                                                                                                                                                                                                                                                                                                                                                                     TEST DROVE AND CONFIRMED CUSTOMER COMPLAINT BROUGHT IN SCANNED AND CHE CKED BULLETINS REQUIRE MORE TIME TO REMOVE AIR BAG ANDLOOKAT STEERIN G WHEEL AUTH C. J. 1327 JAN 23 2023 ST APPROX 1.0 DISABLED SRS SYSTEM REMOVED AIR BAG AND STEERING WHEEL FOUNDSTEERINGWHEEL IS OFF CENTER REPAIRED SPLINES IN ORDER TO GET STEERING WHEEL LINED UP LINED STEERIN G WHEEL UP WITH WHERE STEERINGWHEEL ISKEYED PUT BACK ON TORQUED TO S PECIFICATION PUT AIR BAG BACK TEST DROVE AND CONFIRMED STEERING WHEEL IS NOW STRAIT NOT ASSTRAITON SOME ROADS DEPENDING ON ROAD CROWN                                                                                                                                                                                                                                                                                                                                                                                                                                                                         CUSTOMER REPORTS AFTER HEATED STEERING WHEEL RETROFIT, STEERING WHEEL IS OFF CENTRE NOW. CHECK AND ADVISE / /  01-23-2024                                        Unknown                             Steering Wheel Replacement           Full-Size Trucks    Extended Cab      T1ECF      FTW            US       Summit Ridge Autos              KELOWNA       14-81160/292281            NovaCar Sales            KELOWNA       BC              1               V1X4H8          23    26,802                 0       0-0315      T05.3386               CA                  14                      FE9                        FTB                130                 FREG           NaN         121.88    127.98    127.98    L84                            GAS, 8 CYL, 5.3L, V8, DI, DFM, ALUM, GEN 5          MQE                                                           BYT 8 SPD, 8L90, ATSS, CPA, GEN 1             2127157  T2220422JW9X0999                 8042172.0       C2241802XNLX0099  2809889909            6                 1          Y         CF18753            1500                       18.0                    0                  1\n",
      "48  5HAERBKW0LJ197079           13033                                                                                                                                                                                                                                                                                                                                                                                                                                                                                                                                                                                                                                                                                                                                                                                                                                                                                                                                                                                                                     REPLACED STEERING WHEEL                                                                                                                                                                                                                                                                                                                                                                                                                                                                                                       C.S STEERING WHEEL STITCHING SEEMS TO BE COMING APART ON TOP RIGHT HAN D CORNER  01-23-2024                          WHEEL ASM-STRG *BLACK                             Steering Wheel Replacement              Crossover SUV  4 Door Utility       C1YB      DEL            US       Golden Peak Motors              HOUSTON       11-45870/322530       Crestline Auto Co.            HOUSTON       TX              1            770653605          49    39,870                 0       0-0890  LGMXT03.6151               US                  11                      FE9                        FTB                130             FREG_POL           NaN            200       200     68.86    LFY                        GAS, 6 CYL, V6, 3.6L, SIDI, DOHC, ATSS, GEN 1+          M3W                                                    TRANSMISSION BYT 9 SPD, 9T65, ETRS GEN 1                   K         291800792                 8042172.0       22291809FKBY0282  2809912981            6                 1          Y           4NB56         Essence                       10.0                    0                  1\n",
      "49  1HYKSDRS0SZ164445           13033                                                                                                                                                                                                                                                                                                                                                                                                                                                                                                                                                                                                                                                                                                                                                                                                                                                                                                           PRE APPROVAL NUMBER 496720400000 HEATED STEERING WHEEL LIGHT NOT WORKI NG TRACE TO FAULTY LIGHT IN SWITCH REPLACE STEERING WHEEL.                                                                                                                                                                                                                                                                                                                                                                                                                                                                                                                                              CUSTOMER STATES INSTALLED STEERING WHEEL  01-24-2024                          WHEEL ASM-STRG *BLACK                             Steering Wheel Replacement  Global Crossover Vehicles  4 Door Utility       C1TL      SHT            US         Crown Auto Sales           WILMINGTON       12-22145/119070        GoldenGate Motors         WILMINGTON       DE              1            198064018           9     9,090                 0       0-0310      T03.6151               US                  12                      NE1                        FUC                130                 FREG           NaN       1,712.85  1,712.85     81.85    LGX                      GAS, 6 CYL, 3.6L, V6, DI, DOHC, VVT, ALUM, GEN 2          M3W                                                    TRANSMISSION BYT 9 SPD, 9T65, ETRS GEN 1            37749264  W2222842MSTX0042               822972980.0       22221282SKBP2184  2809970894            6                 1          N           6NW26  Premium Luxury                       10.0                    0                  1\n",
      "50  1H1JD5SB0L4142407           13039                                                                                                                                                                                                                                                                                                                                                                                                                                                                                                                                                                                                                                                                                                                                                                                                                                                                                                                                                                                             replace steering wheel sop ordered on ro 412613                                                                                                                                                                                                                                                                                                                                                                                                                                                                                                        CS THE STEERING WHEEL IS PEALING AND SEPARATING-INSTALL SOP REFER TO RO 412613  01-25-2024                      WHEEL ASM-STRG *JET BLACK                             Steering Wheel Replacement      Global Gamma Vehicles    4 Door Sedan       G1SC      ORI            US    Highlander Auto Sales         WEST MIFFLIN       13-13143/113496            LuxeLine Auto       WEST MIFFLIN       PA              1            151222555          39     9,109                 0       0-0890  LGMXV01.4099               US                  13                      NE1                        FUB                130             FREG_POL           NaN         412.41    412.41      62.4    LUV            GAS, 4 CYL, 1.4L, MFI, DOHC, TURBO, VVT, ALUM, GME E85 MAX          MH8                                                                        BYT 6 SPD, HMD, X23F                   5         0292F0482               249299971.0       928ZGWK0222A0928  2820019979            8                 1          Y           1JV69   LT(Automatic)                       10.0                    0                  1\n",
      "51  1HYKN9RS3NZ156257           13034                                                                                                                                                                                                                                                                                                                                                                                                                                                                                                                                                                                                                                                                                                                                                                                                                                                                                                                                                                  STEERING WHEEL COVER REPLACEMENT PART IN BACKORDER, ORDER CONTROL 36683082                                                                                                                                                                                                                                                                                                                                                                                                                                                                                                                                                       STEERING WHEEL MOLDING CAME OFF  01-25-2024             COVER-STRG WHL SPOKE *HI GLOSS V-C                 Steering Wheel Spoke Cover Replacement  Global Crossover Vehicles  4 Door Utility       C1UL      SHT            US      Classic Car Traders  QUERETARO QUERETARO       23-05528/211854     Riverstone Car Sales               LEON       GJ              1                37120          13    29,915                 0       0-0890         DUMMI               MX                  23                      FE9                        FTB                 50                 FREG           NaN         828.34    960.87     22.93    LGX                      GAS, 6 CYL, 3.6L, V6, DI, DOHC, VVT, ALUM, GEN 2          M3W                                                    TRANSMISSION BYT 9 SPD, 9T65, ETRS GEN 1            37749264  W2220922JDRX0189               822972980.0       22220842SKBP2444  2820029101            4                 1          Y           6NJ26     Export Only                       10.0                    0                  1\n",
      "52  1HRS9EED9MZ268771           13037                                                                                                                                                                                                                                                                                                                                                                                                                                                                                                                                                                                                                                                                                                                                                                                                                                                                                                                                                                       REPLACED STEERING WHEEL ASSEMBLY. CUSTOMER TO PAY WARRANTY DEDUCTIBLE                                                                                                                                                                                                                                                                                                                                                                                                                                                           C/S THE STEERING WHEEL IS PEELING IN SOME AREAS. CUSTOMER REQUEST ASSI STANCE TO REPLACE STEERING WHEEL. APPROVED, SOP HERE  01-25-2024                          WHEEL ASM-STRG *BLACK                             Steering Wheel Replacement           Full-Size Trucks        Crew Cab      T1CGF      FTW            US         TrueDrive Motors                TAMPA       11-40142/318112         PrimeEdge Motors         CLEARWATER       FL              1            337646513          35    80,805                 0       0-0312      T05.3386               US                  48                      FE9                        FTB                130             FREG_POL           NaN         143.68    143.68     70.76    L84                            GAS, 8 CYL, 5.3L, V8, DI, DFM, ALUM, GEN 5          MQB                                                         BYT 10 SPD, 10L80, ATSS, CPA, GEN 2             2127157  T2220982CU7X0748                17749294.0       R2220912BKJX0288  2809914920            8                 1          Y         TF10543            1500                       10.0                    0                  1\n",
      "53  1HKS2JKL7SR422793           13033                                                                                                                                                                                                                                                                                                                                                                                                                                                                                                                                                                                                                                                                                                                                                                                                                                                                                                                                                                                                                     Replaced steering wheel                                                                                                                                                                                                                                                                                                                                                                                                                                                                                                        CUST STATES THE STITCHING ON STEERING WHEEL IS LOOSE, PLEASE CHECK AND ADVISE.  01-26-2024                           WHEEL ASM-STRG *FAWN                             Steering Wheel Replacement          Full-Size Utility  4 Door Utility      T1YGF      ARL            US      Blackstone Auto Co.               TAYLOR       11-88570/298121       Platinum Peak Auto             TAYLOR       MI              1            481804639           5    12,323                 0       0-0310      T06.2375               US                  48                      FE9                        FTB                130                 FREG           NaN         963.92    963.92     56.55    L87                            GAS, 8 CYL, V8, 6.2L, DI, DFM, ALUM, GEN 5          MHS                                            BYT 10 SPD, 10L80, GRX, GEN 1, ATSS, ETRS, VAR 1           830107152  N2212971MFYX0212                  287827.0       S2212922CKJX2091  2820007922            4                 1          N         TF10906            1500                       21.0                    0                  1\n",
      "54  1HYKNHRS5NZ163005           13034                                                                                                                                                                                                                                                                                                                                                                                                                                                                                                                                                                                                                                                                                                                                                                                                                                                                                                                                                                                                                              REPLACED COVER                                                                                                                                                                                                                                                                                                                                                                                                                                                                                        CUSTOMER STATE BEZEL ON STEERING WHEEL IS COMING APART. PART ORDERED A ND IN STOCK FOR INSTALL  01-26-2024             COVER-STRG WHL SPOKE *HI GLOSS V-C                 Steering Wheel Spoke Cover Replacement  Global Crossover Vehicles  4 Door Utility       C1UL      SHT            US        Platinum Wheelers            FAIRFIELD       12-20802/117233       SilverRidge Motors          FAIRFIELD       OH              1            450144205          16    26,760                 0       0-0890      T03.6151               US                  12                      FE9                        FTB                 50                 FREG           NaN         697.51    697.51     65.86    LGX                      GAS, 6 CYL, 3.6L, V6, DI, DOHC, VVT, ALUM, GEN 2          M3W                                                    TRANSMISSION BYT 9 SPD, 9T65, ETRS GEN 1            37749264  W2220982JDRX0999               822972980.0       22220922SKBP2889  2820229149            2                 1          N           6NJ26           Sport                       15.0                    0                  1\n",
      "55  3HCFYHED7NH206711           13034                                                                                                                                                                                                                                                                                                                                                                                                                                                                                                                                                                                                                                                                                                                                                                                                                                                                                                                  REPLACED STEERING WHEEL AND RETESTED OPERATION, VERIFIED ALL STEERING WHEEL SWITCHES OPERATING AS INTENDED. 19547-19550 MT  CUSTOMER STATES THAT THE CRUISE CONTROL IS NOT WORKING, CUSTOMER STATES THAT THEY WILL ENABLE THE CRUISE CONTROL USING THE BUTTONBUT THE VEHICLE WILL NOT HOLD THE SPEED. PLEASE ADVISE OK PART WARRANTY REFER TO PREVIOUS REPAIR ORDER 27724 1.16.24 @ 19373 MILES.OK REPLACEMENT OF COMPLETE STEERING WHEEL VS. SWITCH ONLY REPLACEMENT TO ENSURE INTEGRITY OF REPAIR MIKE A. 1.26.24 @ 11:04 AM PRASUBMITTED AND APPORVED FOR REPLACEMENT OF STEERING WHEEL PRA # 496887800000 MIKE A. 1.26.24 @ 11:48 AM OK R AUTHORIZATION FORREPEAT REPAIR, PART CONCERN NO TECH ERROR MIKE A.  01-26-2024                      WHEEL ASM-STRG *JET BLACK                             Steering Wheel Replacement           Full-Size Trucks        Crew Cab      T1CCF      SIL            MX     PrimeAuto Dealership            ESCONDIDO       13-20322/114691     WestBay Auto Traders           TEMECULA       CA              1            925914602          21    31,458                 0       0-0310      T05.3386               US                  13                      YF5                        FUC                130                 FREG           NaN         250.47    250.47     77.69    L84                            GAS, 8 CYL, 5.3L, V8, DI, DFM, ALUM, GEN 5          MQE                                                           BYT 8 SPD, 8L90, ATSS, CPA, GEN 1           812040194  A2220292JW9X2202               828298448.0       S2220212XNL20712  2820202794            4                 1          N         CF18543            1500                       10.0                    0                  1\n",
      "56  1H1FW6S02N4102661           13054                                                                                                                                                                                                                                                                                                                                                                                                                                                                                                                                                                                                                                                                                                                                                                                                                                                                                                                                                                                                              REPLACE HEATED STEERING MODULE                                                                                                                                                                                                                                                                                                                                                                                                                                                                                                                HEATED VOLAN DEVARQUE BY ITSELF INTERMITTENT CUSTOMER MUST RETURN THEM  01-26-2024                    MODULE ASM-STRG WHL HT CONT               Heated Steering Wheel Module Replacement               Global Gamma    4 Door Sedan       C110      ORI            US        Blue Ridge Motors       TROIS-RIVIERES       14-86590/120963       SunsetDrive Motors      BERTHIERVILLE       PQ              1               J0K1A0          31    59,355                 0       0-0621      V00.0002               CA                  14                      FE9                        FT7               2400                 FREG           NaN         108.35    124.57    102.14    EN0                                                                  NONE          MMF                                             BYT, ELECTRIC, GM, GEM, GEN 2, DRIVE UNIT, X68F             Unknown           Unknown                   Unknown                Unknown  2822027490            2                 1          N           1FB48             1LT                       10.0                    0                  1\n",
      "57  1HYFZFR46SF102560           13034                                                                                                                                                                                                                                                                                                                                                                                                                                                                                                                                                                                                                                                                                                                                                                                                                                                                                                                                                      installed steering wheel from last visit, tested all functions, everything is fine now                                                                                                                                                                                                                                                                                                   #UPDATE#CUSTOMER STATES VEHICLE'S STEERING WHEEL WAS SMOKING OUT OF THERIGHT SIDE OF WHEEL AND AFTER STEERING WHEEL HEATER WAS SHUTOFF SMOKING STOPPED. PLEASE CHECK AND ADVISE.C/S: SOP INSTALL PARTS HERE PER DREW H. - HISTORY RO 431014 - STEERING WHEEL -CUSTOMERTO SEE ROB C.  01-26-2024                      WHEEL ASM-STRG *JET BLACK                             Steering Wheel Replacement          GLOBAL EPSILON II  4 Door Utility       E2UL      FAI            US     Crestview Auto Sales                 RENO       11-47777/319306     EagleWing Auto Sales               RENO       NV              1            895022018          16    24,304                 0       0-0310      T02.0500               US                  12                  Unknown                        FUG                130                 FREG           NaN         394.32    394.32    201.15    LSY            GAS, 4 CYL, L4, 2.0L, SIDI, DOHC, VVT, ALUM, TURB O, VAR 3          M3H                                                                 BYT 9 SPD, 9T50, ETRS GEN 1           830107152  N2222722JUHX0782               822972980.0       22222412IRBP0492  2820282072            6                 1          Y           6ZE26           Sport                       10.0                    0                  1\n",
      "58  1H1FZ6S01N4111553           13043                                                                                                                                                                                                                                                                                                                                                                                                                                                                                                                                                                           DIAGNOSE HEATED STEERING WHEEL DOES NOT GET WARM WITH NO CODES SETTING . TEST AND FOUND BUTTON LIGHTS WHEN DEPRESSED AND GOES OFFRIGHT AWAY. VERIFY FUSE F26DA IS GETTING POWER. REMOVE AIRBAG ASSEMBLY AND VERIFY POWER TO HEATED STEERING MODULE. DISSASEMLBEAND TEST CIRCUITS FOR ST EERING WHEEL HEATER AND FOUND HEATER CIRCUIT OPEN. REASSEMBLE AND ORDE R NEW STEERING WHEEL ASSEMBLY.INSTALL NEW STEERING WHEEL AT 2ND VISIT AND VERIFY PROPER OPERATION.                                                                                                                                                                                                                                                                                                                                                                                                                                                                                                                                  CUSTOMER STATES HEATED STEERING WHEEL IS NOT WORKING  01-26-2024                      WHEEL ASM-STRG *JET BLACK                             Steering Wheel Replacement               Global Gamma    4 Door Sedan       C121      ORI            US         NorthStar Motors            LANCASTER       13-15446/292145     RoadKing Car Traders          LANCASTER       PA              1            176010000          17    40,734                 0       0-0890      V00.0002               US                  13                      NE1                    Unknown                130                 FREG           NaN         579.72    603.59    191.16    EN0                                                                  NONE          MMF                                             BYT, ELECTRIC, GM, GEM, GEN 2, DRIVE UNIT, X68F             Unknown           Unknown                   Unknown                Unknown  2820027898            6                 1          Y           1FG48         Premier                       10.0                    0                  1\n",
      "59  1H1FZ6S08N4104213           13081                                                                                                                                                                                                                                                                                                                                                                                                                                                                                                                                                                                                                                                               C-S SUPER CRUISE INOP. VERIFIED SUPER CRUISE IS INOP. SCAN DTC'S. B290 A FLOW CHART DOC ID #4862361 - VERIFIED NO OTHER DTC'S SETINACTIVE S AFETY CONTROL MODULE, AND HAS COMMUNICATION. CLEARED DTC. DTC B290A RE SETS. REPLACE STEERING WHEEL. CLEAR DTC TESTDROVE.NO DTCS SETTING AT THIS TIME. CRUISE IS WORKING. NOT IN AN AREA FOR SUPERCRUISE. DIAGNOS IS ON RO 142670                                                                                                                                                                                                                                                                                                                                                                                                                                                                                                                       CUSTOMER STATES SUPERCRUISE DOES NOT WORK. DIAGNOSE AND ADVISE.  01-27-2024                      WHEEL ASM-STRG *JET BLACK                             Steering Wheel Replacement               Global Gamma    4 Door Sedan       C121      ORI            US       Titan Auto Traders           VILLA PARK       13-11109/172215         NovaDrive Motors         VILLA PARK       IL              1            601813509          19    24,507                 0       0-0310      V00.0002               US                  13                      FE9                        FT7                130                 FREG           NaN       1,655.49  1,656.85    151.92    EN0                                                                  NONE          MMF                                             BYT, ELECTRIC, GM, GEM, GEN 2, DRIVE UNIT, X68F             Unknown           Unknown                   Unknown                Unknown  2822884894            6                 1          Y           1FG48         Premier                       10.0                    1                  1\n",
      "60  1HC4YSEY6SF164779           13042                                                                                                                                                                                                                                                                                                                                                                                                                                                                                                                                                                                                                                                                                                                                                                                                                                                                                                                                                                                         0130/0.4/0.3 total/0.7 replace steering.wontheat up                                                                                                                                                                                                                                                                                                                                                                                                                                                                                                                                                         ck heated steering wheel inop  01-29-2024                   WHEEL ASM-STRG *VERY DARK AT                             Steering Wheel Replacement           Full-Size Trucks        Crew Cab      T1CCH      FLT            US           Eclipse Wheels          SIMI VALLEY       13-20701/295507     GrandView Auto Sales        SIMI VALLEY       CA              1            930651930          14    16,932                 0       0-0310      D06.6385               US                  13                  Unknown                    Unknown                130                 FREG           NaN         513.95    513.95    158.65    L5P             DIESEL, 8 CYL, 6.6L, DI, V8, TURBO, DURAMAX, GEN 5 VAR. 1          MGM                                                      BYT 10 SPD, 10R1000, GRX, GEN 1, VAR 1            79253428  R2222881MRAX0788                 8042172.0       Y0222790MKFX0888  2820991444            6                 1          Y         CF20743            2500                       23.0                    0                  1\n",
      "61  3HNKBKRSXSS106498           13035                                                                                                                                                                                                                                                                                                                                                                                                                                                                                                                                                                                                                                                                                                                                                                                                                                                                                                                                                                                                            1replaced steering wheel, all ok                                                                                                                                                                                                                                                                                                                                                                                                                                                                                                                             Customer Complaint Steering wheel has buble under leather  01-29-2024                          WHEEL,STRG *JET BLACK                             Steering Wheel Replacement              Crossover SUV  4 Door Utility       C1UC      RAM            MX      Grand Street Motors              TIMMINS       14-96214/169118          ApexStreet Auto        KAPUSKASING       ON              1               P5N2X2           4     5,248                 0       0-0890      T03.6151               CA                  14                  Unknown                        FTB                130                 FREG           NaN         320.96    362.69     40.15    LGX                      GAS, 6 CYL, 3.6L, V6, DI, DOHC, VVT, ALUM, GEN 2          M3V                                                                      BYT 9 SPD, 9T65, GEN 1            37749264  W2222182JDRX0921               822972980.0       22222929CKBP0192  2820228982            4                 1          N           1NS26              RS                       10.0                    0                  1\n",
      "62  1H1FF1R79N0134651           13034                                                                                                                                                                                                                                                                                                                                                                                                                                                                                                                                                                                                                                                                                                                                                                                                                                                                                                                                                                                       REPLACED STEERING WHEEL FOR COVER BEING LOOSE INSIDE.                                                                                                                                                                                                                                                                                                                                                                                                                                                                                                                                            C/S STEERING WHEEL COVER LOOSE AND MOVING.  01-29-2024                      WHEEL ASM-STRG *JET BLACK                             Steering Wheel Replacement                      Alpha    2 Door Coupe       A1BC      LGR            US        Pioneer Car Sales     NEW SMYRNA BEACH       13-29801/267093        UrbanShore Motors            SANFORD       FL              1            327717435          18    16,169                 0       0-0310      V06.2090               US                  13                      FE9                        FTB                130                 FREG           NaN         687.11    687.11    244.54    LT1                        GAS, 8 CYL, 6.2L, DI, AFM, VVT, HO, ALUM, GMNA          MI2                                                        BYT 10 SPD, 10L80, GRX, VAR 1, GEN 1           249196973  K2222972JWNX0182                17749294.0       R22229222HJX0489  2820244727            4                 1          N           1AJ37  1SS(Automatic)                       10.0                    0                  1\n",
      "63  1HYS4RKL3SR469754           13048                                                                                                                                                                                                                                                                                                                                                                                 Diagnose and report rear wipers inop test and found dtcs u1134u0131u1615b19f2 u1103 u1132 Check lin bus value fixed at 6 voltsnottoggling --remove rear panels and disconnect rear 3 row seat not working and rear wiper still has lin bus issue ---recheckvoltagestill stuck at 6 volts ---called tac opened case 9-11734286785 spoke with josh ---after following diagnostics for b19f2 sym00 itsaid follow other dtcs first ----he corrected issue by saying to diagnose b19f2 first ---diagnosis lead to replacement ofheatedsteering wheel ---order part ---re assemble all loose panels ----install steering wheel and clear dtcs test all acc all ok                                                                                                                                                                                                                                                                                                                               Rear wiper not working cust thawed out veh and jiggled the control arm a couple times then it worked after trying several timescustthinks signal is not getting fromn front to back wiring Cust has a video of the process he performed Diagnose report  01-29-2024                          WHEEL ASM-STRG *BLACK                             Steering Wheel Replacement          Full-Size Utility  4 Door Utility      T1YLF      ARL            US         Monarch Auto Co.            THORNHILL       14-96304/121504    BlueLine Auto Traders           PEMBROKE       ON              1               K8A7M3           2     3,801                 0       0-0621      T06.2375               CA                  14                      FE9                        FTB                130                 FREG           NaN       1,181.54  1,335.14     61.95    L87                            GAS, 8 CYL, V8, 6.2L, DI, DFM, ALUM, GEN 5          MHS                                            BYT 10 SPD, 10L80, GRX, GEN 1, ATSS, ETRS, VAR 1           249196973  K2212981MFYX2807                  287827.0       S2212092CKJX0788  2822088824            8                 1          N         6F10906            1500                       18.0                    0                  1\n",
      "64  3HRFFHEL3SH345370           13036                                                                                                                                                                                                                                                                                                                                                                                                                                                                                                                                                                                                                                                                                                                                                                                                                                                                                                                                                        REPLACED STEERING WHEEL ASSEMBLY UNDER WARRANTY DUE TO MANFACTURER DEFECT. COMPLETE.                                                                                                                                                                                                                                                                                                                                                                                                                                                                                                    CUST STATES THE STEERING WHEEL STITCHING IS COMING APART, PLEASE CHECK AND ADVISE.  01-29-2024                   WHEEL ASM-STRG *VERY DARK AT                             Steering Wheel Replacement           Full-Size Trucks        Crew Cab      T1CGF      SIL            MX           RedRock Motors               CONWAY       11-40749/188183      SwiftEdge Car Sales             CONWAY       AR              1            720324732           4     4,004                 0       0-0312      T06.2375               US                  48                      FE9                        FTB                130                 FREG           NaN         474.01    474.01     72.84    L87                            GAS, 8 CYL, V8, 6.2L, DI, DFM, ALUM, GEN 5          MHS                                            BYT 10 SPD, 10L80, GRX, GEN 1, ATSS, ETRS, VAR 1           830107152  N2212841MFYX0042                  287827.0       S1212792CKJX0848  2820212298            4                 1          N         TF10543            1500                       18.0                    0                  1\n",
      "65  3HRF9EER4MH149522           13035                                                                                                                                                                                                                                                                                                                                                                                                                                                                                                                                                                                                                                                                                                                                                                                                                                                                                                                                                                                        VERIFIED CONCERN REPLACED STEERING WHEEL SPOKE COVER                                                                                                                                                                                                                                                                                                                                                                                                                                                                                                            GUEST STATES STEERING WHEEL INSERTS RIGHT AND LEFT ARE PEELING (SOP HE RE)  01-30-2024     APPLIQUE ASM-STRG WHL TR SPOKE CVR *VULCAN                 Steering Wheel Spoke Cover Replacement           Full-Size Trucks        Crew Cab      T1CGF      SIL            MX       Diamond Peak Autos       PEMBROKE PINES       13-26215/165673        RoyalAuto Traders            SUNRISE       FL              1            333233202          39    61,234                 0       0-0890      T03.0351               US                  48                      FE9                        FTB                 50             FREG_POL           NaN         389.71    389.71    135.54    LM2         DIESEL, 6 CYL, 3.0L, CRI, L6, DOHC, TURBO, VGT, AL UM, CSS50V          MQB                                                         BYT 10 SPD, 10L80, ATSS, CPA, GEN 2            70628511  V2202999GUGX0422                  287827.0       S1201012BNJX2209  2820289728            4                 1          N         TF10543            1500                       10.0                    0                  1\n",
      "66  1HRS8DED5MZ161956           13042                                                                                                                                                                                                                                                                                                                                                                                                                                                                                                                                                                                                                                                                                                                                                                                    Replaced Steering Wheel Horn Switch Wiring Harness and clock spring and Steering Wheel Airbag Coil Verified thatsteeringwheelvolumeand radio controls were working and they are now working as designed Customers concern was addressed LABOR CODE0020ST                                                                                                                                                                                                                                                                                                                                                                             ELECTRICAL SYSTEM C S CUSTOMER STATES CRUZE CON TROL DOES NOT WORK PROPERLY YOU CAN T SEE HOW MUC H SPEED YOU AREADDINGORDECREASINGAS WELL VEH ICLE DOES NOT ADJUST SPEED WHILE HAVING A VEHICLE IN FRONT  01-30-2024               HARNESS ASM-STRG WHL HORN SW WRG  Steering Wheel Horn Switch Wiring Harness Replacement           Full-Size Trucks        Crew Cab      T1CGF      FTW            US         SpeedStar Motors               BOERNE       11-56790/117717        CrestRidge Motors             LAREDO       TX              1            780410006          33    38,285                 0       0-0310      T05.3386               US                  48                      FE9                        FTB                 20                 FREG           NaN         674.27    674.27    500.07    L84                            GAS, 8 CYL, 5.3L, V8, DI, DFM, ALUM, GEN 5          MQE                                                           BYT 8 SPD, 8L90, ATSS, CPA, GEN 1           249196973  K2201282CU7X1170                 8042172.0       B2201042XMLX9188  2820479011           10                 1          N         TC10543            1500                       10.0                    1                  1\n",
      "67  1HNSKDKD4NR281286           13035                                                                                                                                                                                                                                                                                                                                                                                                                                                                                                                                                                                                                                                                                                                                                                                                                                                                                                                                                                                                                     replaced loose applique                                                                                                                                                                                                                                                                                                                                                                                                                                                                     8 INFO: INFORMATION Customer states vehicle steering wheel is making a clicking noise and rattling while driving.  01-31-2024  APPLIQUE ASM-STRG WHL TR SPOKE CVR *SYNTHESIS                 Steering Wheel Spoke Cover Replacement          Full-Size Utility  4 Door Utility      T1YCF      ARL            US      Crestwood Car Sales             FLORENCE       13-24061/312143        HorizonWheel Auto           METAIRIE       LA              1            700036852          21    55,915                 0       0-0313      T05.3386               US                  13                      FE9                        FTB                 50                 FREG           NaN         121.14    121.14     96.36    L84                            GAS, 8 CYL, 5.3L, V8, DI, DFM, ALUM, GEN 5          MHS                                            BYT 10 SPD, 10L80, GRX, GEN 1, ATSS, ETRS, VAR 1           812040194  A2220992JW9X2090                  287827.0       S1220922CKJX0199  2820191899            2                 1          N         CF10906            1500                       10.0                    0                  1\n",
      "68  3HRFFCER2NH609121           13043                                                                                                                                                                                                                                                                                                                                                                                                                                                                                                                                                                                                                                                                                                                                                                                                                                                                                                                      REMOVED OLD STEERING WHEEL AND INSTALLED NEW ONE. TRIED NEW STEERING WHEEL AND NEW ONE HEATS PROPERLY. ALL OKAY NOW...                                                                                                                                                                                                                                                                                                                                                                                                                                                                                                                     CUSTOMER STATES HEATED STEERING WHEEL ONLY GETS LUKEWARM NOT HOT.  01-31-2024                          WHEEL ASM-STRG *BLACK                             Steering Wheel Replacement           Full-Size Trucks        Crew Cab      T1CGF      SIL            MX       LuxuryAuto Traders              SUDBURY       14-95472/121394        BlueStream Motors            SUDBURY       ON              1               P3A5K3          15    42,217                 0       0-0310      T03.0353               CA                  14                      FE9                        FTB                130                 FREG           NaN         474.12    535.75     90.83    LM2         DIESEL, 6 CYL, 3.0L, CRI, L6, DOHC, TURBO, VGT, AL UM, CSS50V          MQC                                                   BYT 10 SPD, 10L80, ATSS, ETRS, CPA, GEN 2            70628511  V2222282CVCX0127                  287827.0       S2222991CNJX0889  2820492289            4                 1          N         TF10743            1500                       16.0                    0                  1\n",
      "69  1H6DC5RK2L0132064           13036                                                                                                                                                                                                                                                                                                                                                                                                                                                                                                                                                                                                                                                                                                                                                                                                                                                                                                                                                                                                         CORR- (0130) REPLACE STEERING WHEEL                                                                                                                                                                                                                                                                                                                                                                                                                                                                              SOP IS IN PER CUSTOMER THE LEATHER WRAP ON THE BACK OF STEERING WHEEL IS LOOSE SOP IS IN APPROVED BY PRA  01-31-2024                      WHEEL ASM-STRG *JET BLACK                             Steering Wheel Replacement               Luxury Car-2    4 Door Sedan       A2SL      LGR            US    Greenfield Auto Sales             CHANDLER       12-36154/279625   LibertyPeak Auto Sales           GLENDALE       AZ              1            853080000          46    13,580                 0       0-0310  LGMXV02.0041               US                  12                      FE9                        FTB                130                 FREG           NaN         394.83    394.83       108    LSY            GAS, 4 CYL, L4, 2.0L, SIDI, DOHC, VVT, ALUM, TURB O, VAR 3          M5N                                                                       BYT 8 SPD, 8L45, BAS+           830107152  N2200440CLWX0224                 8042172.0       C2200240NELX0047  2820144122            4                 1          N           6DD69           Sport                       32.0                    0                  1\n",
      "70  5HAERDKW8SJ224112           13039                                                                                                                                                                                                                                                                                                                                                                                                                                                                                                                                                                                                                                                                                                                                                                                                                                                                                                                                                                                                                     REPLACED STEERING WHEEL                                                                                                                                                                                                                                                                                                                                                                                                                                                                                                      Customer states STEERING WHEEL COVER COMING OFF ON BOTTOM SIDE OF STEERING WHEEL  01-31-2024                      WHEEL ASM-STRG *JET BLACK                             Steering Wheel Replacement              Crossover SUV  4 Door Utility       C1YB      DEL            US      WestEnd Car Dealers               LUFKIN       11-45441/256599    Platinum Road Traders             LUFKIN       TX              1            759015601           3     4,728                 0       0-0890      T03.6151               US                  11                      FE9                        FTB                130                 FREG           NaN         608.01    608.01     58.43    LFY                        GAS, 6 CYL, V6, 3.6L, SIDI, DOHC, ATSS, GEN 1+          M3W                                                    TRANSMISSION BYT 9 SPD, 9T65, ETRS GEN 1                   K         210900289                 8042172.0       22221892QKBY1909  2820982891            4                 1          Y           4ND56          Avenir                       10.0                    0                  1\n",
      "71  1HKS2CKL2NR279082           13036                                                                                                                                                                                                                                                                                                                                                                                                                                                                                                                                                                                                                                                                                                                                                                                                                            CHECKED AND FOUND CODE -B1A4C-92-HEATED STEERING WHEEL - PERFORMANCE. CHECKED AND FOUND POWER GROUND AND SIGNAL GOING TO HEATEDSTEERING WHE EL. REMOVED AND REPLACED STEERING WHEEL CLEARED CODES AND RECHECKED.                                                                                                                                                                                                                                                                                                                                                CUSTOMER STATES THAT THE HEATED STEERING WHEEL INTERMITTENTLY DOES NOT WORK / STATES THAT THE LIGHT DOES NOT ILLUMINATE AT ALL ANDTHE STEER ING WHEEL DOES NOT HEAT---PLEASE ADVISE (CUSTOMER SHOWED ADVISOR A VID EO OF IT HAPPENING)  01-31-2024                                 WHEEL ASM,STRG                             Steering Wheel Replacement          Full-Size Utility  4 Door Utility      T1UGF      ARL            US         MetroStar Motors           SCOTTSDALE       13-39017/162639      CityEdge Auto Sales         SCOTTSDALE       AZ              1            852601901          21    55,638                 0       0-0310      T06.2375               US                  48                      YF5                        FUC                130                 FREG           NaN         365.36    365.36    129.06    L87                            GAS, 8 CYL, V8, 6.2L, DI, DFM, ALUM, GEN 5          MHS                                            BYT 10 SPD, 10L80, GRX, GEN 1, ATSS, ETRS, VAR 1           249196973  K2220892JW4X1979                  287827.0       S2220782CKJX0921  2820194999            4                 1          N         TF10706            1500                       10.0                    0                  1\n",
      "72  3HRFFCER0NH647253           13037                                                                                                                                                                                                                                                                                                                                                                                                                                                                                                                                                                                                                                                                                                                                                                                                                                                                                                                                           replaced steering wheel and retest system operating as designed at this time preauth 494643400000                                                                                                                                                                                                                                                                                                                                                                                                                                                                                                     CUST STATES STEERING WHEEL DOES NOT HEAT UP COMPLETELY ONLY ONE SMALL SPOT SOP IN  01-31-2024                      WHEEL ASM-STRG *JET BLACK                             Steering Wheel Replacement           Full-Size Trucks        Crew Cab      T1CGF      SIL            MX      Ironclad Auto Sales         JACKSONVILLE       11-40020/184564          GoldStar Motors            ORLANDO       FL              1            328087999          17    56,950                 0       0-0890      T03.0353               US                  48                      FE9                        FTB                130                 FREG           NaN         551.25    551.25    100.17    LM2         DIESEL, 6 CYL, 3.0L, CRI, L6, DOHC, TURBO, VGT, AL UM, CSS50V          MQC                                                   BYT 10 SPD, 10L80, ATSS, ETRS, CPA, GEN 2            70628511  V2222992CVCX0222                  287827.0       S1222081CNJX2982  2820198294            6                 1          N         TF10543            1500                       10.0                    0                  1\n",
      "73  3HCFDHEL2SH305075           13038                                                                                                                                                                                                                                                                                                                                                                                                                                                                                                                                                                                                                                                                                                                                                                                                                                                                                                                                                                                                                               Corrupt Value                                                                                                                                                                                                                                                                                                                                                                                                                                                                                                                                     LEATHER ON STEERING WHEEL COMING LOOSE ON BOTTOM.  01-31-2024                      WHEEL ASM-STRG *JET BLACK                             Steering Wheel Replacement           Full-Size Trucks        Crew Cab      T1CCF      SIL            MX      AllStar Car Traders               JOPLIN       13-37632/308259    SummitDrive Car Sales             JOPLIN       MO              1            648044415           7     2,428                 0       0-0890      T06.2375               US                  13                      FE9                        FTB                130                 FREG           NaN         475.85    475.85     64.71    L87                            GAS, 8 CYL, V8, 6.2L, DI, DFM, ALUM, GEN 5          MHS                                            BYT 10 SPD, 10L80, GRX, GEN 1, ATSS, ETRS, VAR 1           830107152  N2212221MFYX0227                  287827.0       S2212292CKJX0982  2820191222            4                 1          N         CF10543            1500                       18.0                    0                  1\n",
      "74  1H1FY6S0XN4126832           13060                                                                                                                                                                                                                                                                                                                                                                                                                                                                                                                                                                                                                                                                                                                                                                                                                                                                                                                                                                                                                     Replaced steering wheel                                                                                                                                                                                                                                                                                                                                                                                                                                                                                                                               Customer states the heated steering wheel does not work  02-01-2024                    MODULE ASM-STRG WHL HT CONT               Heated Steering Wheel Module Replacement               Global Gamma    4 Door Sedan       C121      ORI            US        Silverline Motors              MEDFORD       13-19071/114392        Redstone Auto Co.              SALEM       OR              1            973010000          18    25,178                 0       0-0310      V00.0002               US                  13                      YF5                    Unknown               2400                 FREG           NaN         126.63    126.63     42.62    EN0                                                                  NONE          MMF                                             BYT, ELECTRIC, GM, GEM, GEN 2, DRIVE UNIT, X68F             Unknown           Unknown                   Unknown                Unknown  2822121929            4                 1          N           1FF48              LT                       10.0                    0                  1\n",
      "75  1HCFDEEL5SZ298766           13040                                                                                                                                                                                                                                                                                                                                                                                                                                                                                                                                                                                                                                                                                                                                                                         PERFORMED CIRCUIT/ SYSTEM VERIFICATION AND TESTING PER DOC ID-5316968. LEAD TO REPLACE STEERING WHEEL HEATER, SERVICE ASSTEERINGWHEEL ASSEMBLY. REMOVE AND REPLACE STEERING WHEEL ASSEMBLY, CLEARED DTCS AND VERIFIED OPERATION OF THE STEERING WHEELHEATER.0130 .5                                                                                                                                                                                                                                                                                                                                                                                                                                                                                                                CUSTOMER STATES HEATED STEERING WHEEL WONT HEAT UP, LIGHT WONT TURN ON  02-01-2024                   WHEEL ASM-STRG *VERY DARK AT                             Steering Wheel Replacement           Full-Size Trucks        Crew Cab      T1CCF      FTW            US       GoldRush Car Sales             SANDUSKY       13-28178/113620         EaglePeak Motors           SANDUSKY       OH              1            448705358           3     8,991                 0       0-0310      T06.2375               US                  13                      NE1                        FUC                130                 FREG           NaN         484.24    622.24      88.8    L87                            GAS, 8 CYL, V8, 6.2L, DI, DFM, ALUM, GEN 5          MHS                                            BYT 10 SPD, 10L80, GRX, GEN 1, ATSS, ETRS, VAR 1             2127157  T1212811MFYX0082                17749294.0       R2212842CKJX0091  2820890742            6                 1          N         CF10543            1500                       16.0                    0                  1\n",
      "76  3HCFDHELXSH293533           13037                                                                                                                                                                                                                                                                                                                                                                                                                                                                                                                                                                                                                                                                                                                                                                                                                                         Removed steering wheel following service information procedure and replaced steering wheel with new assembly and confirmed allfunctions work as designed Labor code 0130 Labor time .5 no diag time                                                                                                                                                                                                                                                                                                                                                                                                                                                                                                      C/S: steering wheel bubbling please refrence ro 400375 for pra auth 494226600000  02-01-2024                      WHEEL ASM-STRG *JET BLACK                             Steering Wheel Replacement           Full-Size Trucks        Crew Cab      T1CCF      SIL            MX       Summit Peak Motors              NORFOLK       13-14117/113725      Westwood Auto Sales            NORFOLK       VA              1            235022856           5    15,886                 0       0-0890      T06.2375               US                  13                      FE9                        FTB                130                 FREG           NaN         490.17    490.17     79.12    L87                            GAS, 8 CYL, V8, 6.2L, DI, DFM, ALUM, GEN 5          MHS                                            BYT 10 SPD, 10L80, GRX, GEN 1, ATSS, ETRS, VAR 1           830107152  N2212221MFYX0420                  287827.0       S1212082CKJX0018  2820199228            4                 1          N         CF10543            1500                       35.0                    0                  1\n",
      "77  5HAERAKW0MJ183761           13039                                                                                                                                                                                                                                                                                                                                                                                                                                                                                                                                                                                                                                                                                                                                                                                                                                                                                                                ACCESSED, REMOVED AND REPLACED THE STEERING WHEEL. THE SYSTEM IS NOW OPERATING AS DESIGNED. LABOR OP0130 TIME UNITS (TU) .7.                                                                                                                                                                                                                                                                                                                                                                                                                                                                                                                Customer states right side of steering is peeling, auth # 494344600000  02-02-2024                          WHEEL ASM-STRG *BLACK                             Steering Wheel Replacement              Crossover SUV  4 Door Utility       C1YB      DEL            US     Evergreen Auto Group         SHERMAN OAKS       11-46213/119157         TitanEdge Motors       SHERMAN OAKS       CA              1            914232681          34    59,272                 0       0-0310      T03.6151               US                  11                      YF5                        FUC                130             FREG_POL           NaN         402.06    440.06     91.88    LFY                        GAS, 6 CYL, V6, 3.6L, SIDI, DOHC, ATSS, GEN 1+          M3W                                                    TRANSMISSION BYT 9 SPD, 9T65, ETRS GEN 1                   K         220890799                 8042172.0       22220809FKBY1982  2820879994           10                 1          N           4NF56       Preferred                       10.0                    0                  1\n",
      "78  2HC4YFE74R1152517           13038                                                                                                                                                                                                                                                                                                                                                                                                                                                                                                                                                                                                                                                                                                                                                                                                                                                                                                                                                                                                                    REPLACED STEERING WHEEL.                                                                                                                                                                                                                                                                                                                                                                                                                                                                                                                                        CUSTOMER STATES STEERING WHEEL BOTTOM IS LOOSE  02-02-2024                      WHEEL ASM-STRG *JET BLACK                             Steering Wheel Replacement           Full-Size Trucks        Crew Cab      T1CCH      OS2            CA      Victory Car Dealers         GRAND RAPIDS       13-14819/243038       CrystalWheels Auto       GRAND RAPIDS       MN              1            557444215           2     6,428                 0       0-0890      D06.6230               US                  13                      FE9                        FTB                130                 FREG           NaN         319.43    319.43     55.46    L8T                                GAS, 8 CYL, 6.6L, SIDI, VVT, CAST IRON          MKM  BYT 10 SPD, RWD 4.54 1ST, 2.86 2ND, 2.06 3RD, 1.7 1 4TH, 1.48 5TH, 1.26 6TH, 1.00 7TH, 10L             2127157  T1212894MGUX2872                 8042172.0       Y0212941MSFX0844  2820499119            4                 1          N         CF30743            3500                       18.0                    0                  1\n",
      "79  3HCSY9EL8NH181074           13044                                                                                                                                                                                                                                                                                                                                                                                                                                                                                                                                                                                                                                                                                                                                                                                                                                                                                                                                                                                                           remove and replace steering wheel                                                                                                                                                                                                                                                                                                                                                                                                                                                                                                                                          Customer states steering wheel de-laminating  02-02-2024                      WHEEL ASM-STRG *JET BLACK                             Steering Wheel Replacement           Full-Size Trucks        Crew Cab      T1CCF      SIL            MX  Royal Wheels Auto Sales        SOMERTON PARK       AU-61501/316061      VictoryDrive Motors      SOMERTON PARK       SA              4                 5044          17    48,548                 0       0-0315      T06.2375               AU                  72                      FE9                        FTB                130                 FREG           NaN         458.56    458.56     68.66    L87                            GAS, 8 CYL, V8, 6.2L, DI, DFM, ALUM, GEN 5          MQB                                                         BYT 10 SPD, 10L80, ATSS, CPA, GEN 2           830107152  N2221892JW4X0124                  287827.0       S2221442XKJX0910  2822088042            2                 1          N         CF18543            1500                       10.0                    1                  4\n",
      "80  1H1FZ6S06N4112021           13044                                                                                                                                                                                                                                                                                                                                                                                                                                                                                                                                                                                                                                                                                                                                                                                                                                                                                                                                  REPLACED STEERING WHEEL AND TORQUED ALL BOLTS TO SPEC. CHECKED OPEATION AND HEATED WHEEL NOW IS OPERATION.                                                                                                                                                                                                                                                                                                                                                                                                                                                                                                             CUSTOMER STATES HEATED STEERING WHEEL IS NOT WORKING, INSPECT AND ADVISE.  02-02-2024                      WHEEL ASM-STRG *JET BLACK                             Steering Wheel Replacement               Global Gamma    4 Door Sedan       C121      ORI            US    Prestige Drive Motors           POST FALLS       13-36275/114456  SilverShore Car Traders         POST FALLS       ID              1            838545365          15    27,882                 0       0-0310      V00.0002               US                  13                      NE1                    Unknown                130                 FREG           NaN         512.28    512.28     100.1    EN0                                                                  NONE          MMF                                             BYT, ELECTRIC, GM, GEM, GEN 2, DRIVE UNIT, X68F             Unknown           Unknown                   Unknown                Unknown  2822087199            4                 1          Y           1FG48         Premier                       10.0                    0                  1\n",
      "81  1HNSKRKL5SR469158           13038                                                                                                                                                                                                                                                                                                                                                                                                                                                                                                                                                                                                                                                                                                                                                                                                                                                                                                                                                                                                                         R&R STEERING WHEEL.                                                                                                                                                                                                                                                                                                                                                                                                                                                  INSTALL SOP. Customer states THE STITCHING ON THE STEERING WHEEL IS COMING LOOSE. PRA ACCEPTED PRE-AUTHORIZATION NUMBER 493070000000  02-02-2024                      WHEEL ASM-STRG *JET BLACK                             Steering Wheel Replacement          Full-Size Utility  4 Door Utility      T1UCF      ARL            US        Apex Auto Traders          BOLINGBROOK       13-11298/227245         DiamondEdge Auto        BOLINGBROOK       IL              1            604403522           5       491                 0       0-0890      T06.2375               US                  13                      FE9                        FTB                130                 FREG           NaN         388.02    388.02     96.93    L87                            GAS, 8 CYL, V8, 6.2L, DI, DFM, ALUM, GEN 5          MHS                                            BYT 10 SPD, 10L80, GRX, GEN 1, ATSS, ETRS, VAR 1           249196973  K2212981MFYX2092                17749294.0       R2212882CKJX0981  2820480799            6                 1          Y         CF10706            1500                       10.0                    0                  1\n",
      "82  1HKS2JKL0SR471303           13038                                                                                                                                                                                                                                                                                                                                                                                                                                                                                                                                   test drove and duplicated customers concern. found super cruise inop. found dtc b19f2 00 heated steering wheel module code in imageprocessing module. found doc id 6270800 found code was current and would not clear. found new wheel will be needed. reached out totac and found issue to be steering wheel/module. part on order. PRA 495999100000 2/2/2024 replaced steering wheel/module andcleared codes. performed test drive on i-95 and found super cruise to be fully functional after repairs.                                                                                                                                                                                                                                                                                                                                                                                                                                                                                                                                             CUSTOMER STATES SUPER CRUISE INOPERATIVE.  02-02-2024                      WHEEL ASM-STRG *JET BLACK                             Steering Wheel Replacement          Full-Size Utility  4 Door Utility      T1YGF      ARL            US       Coastal Auto Sales              DANVERS       48-06248/316810         LuxeWheel Motors            DANVERS       MA              1             19233197           3     3,246                 0       0-0310      T06.2375               US                  48                      NE1                        FUC                130                 FREG           NaN       1,268.82  1,268.82      69.8    L87                            GAS, 8 CYL, V8, 6.2L, DI, DFM, ALUM, GEN 5          MHS                                            BYT 10 SPD, 10L80, GRX, GEN 1, ATSS, ETRS, VAR 1           830107152  N2212081MFYX0422                  287827.0       S2212092CKJX1212  2820809208            4                 1          N         TF10906            1500                       16.0                    0                  1\n",
      "83  1HYKSMRK4SZ003287           13039                                                                                                                                                                                                                                                                                                                                                                                                                                                                                                                                                                                                                                                                                                                                                                                                                                                                                                                                                      REPLACE STEERING WHEEL CLAIM TYPE B 0130 0.5 PRE-REPAIR AUTHORIZATI ON ID-497269600000                                                                                                                                                                                                                                                                                                                                                                                                                                                                                                                CUSTOMER STATESBURR ON RIGHT SIDE OF STEERING WHEEL, STICH COMING OFF.  02-02-2024                  WHEEL ASM-STRG *BACKEN BLACKK                             Steering Wheel Replacement                        BEV  4 Door Utility  L233-LSOP      SHT            US         StarDrive Motors             CARLSBAD       11-46346/118677       CoastalCar Traders        SIGNAL HILL       CA              1            907551909           9     9,870                 0       0-0890      T00.0006               US                  12                      YF5                        FF6                130                 FREG           NaN       1,480.02  1,480.02    108.22    EN0                                                                  NONE          MF1                                                                                        NONE             Unknown           Unknown                   Unknown                Unknown  2820989419            4                 1          N           6MB26           Lux-1                       10.0                    0                  1\n",
      "84  1H1FW6S05N4120118           13052                                                                                                                                                                                                                                                                                                                                                                                                                                                                                                                                                                                                                                                                                                                                                              SCANNER TEST, NO TROUBLE CODE. CHECK BULLETIN, NONE. DISASSEMBLE AIR BAG MODULE. DISCONNECT STEERING MODULE. CHECKCURRENTANDGROUND,OK.CONTINUE DIAG.FILES AT THE BASE OF THE HEATER AT THE STEERING ARE USER,OPEN CIRCUIT. ORDER STEERING, PART 10 DAYS. FILLED STEERING WHEEL                                                                                                                                                                                                                                                                                                                         STEERING WHEEL IS NOT HEATING ANYMORE. LIGHT COMES ON BUT NO HEAT. IF TURNED OFF, AND TRY TO PUT IT BACK ON, THE LIGHT WO NTCOMEON,PLEASE CHECK FAUT FAIRE UNE PREAUTHORISATION AVANT DE CHANGER PIECE faut faire une preauthorisation avant de changer piece  02-02-2024                      WHEEL ASM-STRG *JET BLACK                             Steering Wheel Replacement               Global Gamma    4 Door Sedan       C110      ORI            US    Horizon Peak Auto Co.             PINCOURT       14-86920/241623        PlatinumStar Auto           PINCOURT       PQ              1               J7W0K8          17    35,920                 0       0-0890      V00.0002               CA                  14                      FE9                        FT7                130                 FREG           NaN         312.43    359.21     81.84    EN0                                                                  NONE          MMF                                             BYT, ELECTRIC, GM, GEM, GEN 2, DRIVE UNIT, X68F             Unknown           Unknown                   Unknown                Unknown  2822208721           10                 1          N           1FB48             1LT                       10.0                    0                  1\n",
      "85  3HRFFDER8NH522491           13039                                                                                                                                                                                                                                                                                                                                                                                                                                                                                                                                                                                                                                                                                                                                                                                                                                                                                                                                                                                                               0130.5 REPLACE STEERING WHEEL                                                                                                                                                                                                                                                                                                                                                                                                                                                                                                                                                   CS BLEMISH ON STEERING WHEEL SOP IN  02-02-2024                      WHEEL ASM-STRG *JET BLACK                             Steering Wheel Replacement           Full-Size Trucks        Crew Cab      T1CGF      SIL            MX          Velocity Wheels              HOUSTON       11-45870/322530         ApexShore Motors            HOUSTON       TX              1            770653605          22    62,183                 0       0-0890      T03.0353               US                  48                      FE9                        FTB                130             FREG_POL           NaN         430.11    430.11     86.07    LM2         DIESEL, 6 CYL, 3.0L, CRI, L6, DOHC, TURBO, VGT, AL UM, CSS50V          MQC                                                   BYT 10 SPD, 10L80, ATSS, ETRS, CPA, GEN 2            70628511  V2220842CVCX0228                  287827.0       S2220701CNJX0928  2820990411            6                 1          Y         TF10543            1500                       10.0                    0                  1\n",
      "86  1HR49RE78SF167912           13041                                                                                                                                                                                                                                                                                                                                                                                                                                                                                                                                                                                                                                                                                                                                                                                                                                                                                                                                                                                                           REMOVE AND REPLACE STEERING WHEEL                                                                                                                                                                                                                                                                                                                                                                                                                                                    CUSTOMER STATES STEERING WHEEL LEATHER TRIM IS COMING UN-STITCHED AT THE 6 O'CLOCK POSITION. . .CLAIM APPROVED BY GM(487258100000)  02-03-2024                      WHEEL ASM-STRG *JET BLACK                             Steering Wheel Replacement           Full-Size Trucks        Crew Cab      T1CGH      FLT            US           WestBay Motors            MANSFIELD       48-06190/316635        SilverRoad Motors          MANSFIELD       MA              1             20481902           9    30,941                 0       0-0890      D06.6398               US                  48                  Unknown                    Unknown                130                 FREG           NaN         507.32    507.32     59.34    L8T                                GAS, 8 CYL, 6.6L, SIDI, VVT, CAST IRON          MYD                                                                        BYT 6 SPD, HMD, 6L90             2127157  T1222901L71X0198                 8042172.0       920D8AYE80290400  2820728274            6                 1          Y         TF20743            2500                       18.0                    0                  1\n",
      "87  1HNSKRKD6RR110090           13042                                                                                                                                                                                                                                                                                                                                                                                                                                                                                                                                                                                                                                                                                                                                                                                                                                                                                                                                                                                                                  Steering Wheel Replacement                                                                                                                                                                                                                                                                                                                                                                                                                                                                                                                      CUSTOMERS STATES THE STITCHING IS COMING UNDO NE ON THE STEERING  02-05-2024                      WHEEL ASM-STRG *JET BLACK                             Steering Wheel Replacement          Full-Size Utility  4 Door Utility      T1UCF      ARL            US        BlueHorizon Autos           MIDLOTHIAN       13-14002/227353     Crestview Auto Sales         MIDLOTHIAN       VA              1            231120000           2     5,666                 0       0-0312      T05.3386               US                  13                      FE9                        FTB                130                 FREG           NaN         435.26    435.26     61.08    L84                            GAS, 8 CYL, 5.3L, V8, DI, DFM, ALUM, GEN 5          MHS                                            BYT 10 SPD, 10L80, GRX, GEN 1, ATSS, ETRS, VAR 1           249196973  K2211211MF1X2480                  287827.0       S2211222CKJX2809  2820889729            8                 1          Y         CF10706            1500                       10.0                    0                  1\n",
      "88  3HCFDDED5NH572905           13065                                                                                                                                                                                                                                                                                                                                                                                                                                                                                                                                                                                                                                                                                                                                                                                                                                                                                                                                                                                                                               Corrupt Value                                                                                                                                                                                                                                                                                                                                                                                                                                                                                                                           CS STEERING WHEEL LEATHER IS COMING UNDONE AT LOWER SECTION  02-05-2024                      WHEEL ASM-STRG *JET BLACK                             Steering Wheel Replacement           Full-Size Trucks        Crew Cab      T1CCF      SIL            MX        Uptown Auto Sales     WEST VALLEY CITY       13-11028/112853        SummitEdge Motors             AUBURN       IN              1            467062010          21    33,819                 0       0-0890      T05.3386               US                  13                      FE9                        FTB                130                 FREG           NaN         205.96    238.04     63.71    L84                            GAS, 8 CYL, 5.3L, V8, DI, DFM, ALUM, GEN 5          MHT                                                  BYT 10 SPD, 10R80, GRX, GEN 1, ATSS, VAR 1           812040194  A2222292JW9X2280                  287827.0       S1222212BKJX2289  2822178289           14                 1          Y         CF10543            1500                       10.0                    0                  1\n",
      "89  1HR49XEY6RF285876           13052                                                                                                                                                                                                                                                                                                                                                                                                                                                                                                                                                                                                                                                                                                                                                                                                                                                                                                                                                                                    REPLACED STEERING COLUMN HARNESS WITH ADDITIONAL AIR BAG                                                                                                                                                                                                                                                                                                                                                                                                                                                                                                                      General Concern [[Covered by W] service safety restraints light]  02-05-2024               HARNESS ASM-STRG WHL HORN SW WRG  Steering Wheel Horn Switch Wiring Harness Replacement           Full-Size Trucks        Crew Cab      T1CGH      FLT            US      Golden Wheel Motors          SAN ANTONIO       11-45651/118664         HorizonStar Auto        SAN ANTONIO       TX              1            782321415           3     9,088                 0       0-0621      D06.6385               US                  48                      FE9                        FTB                 20                 FREG           NaN       1,166.27  1,166.27    190.58    L5P             DIESEL, 8 CYL, 6.6L, DI, V8, TURBO, DURAMAX, GEN 5 VAR. 1          MGM                                                      BYT 10 SPD, 10R1000, GRX, GEN 1, VAR 1            79253428  R2211274JFHX0197                 8042172.0       Y0211271MKFX0248  2822044999            6                 1          Y         TF20743            2500                       10.0                    1                  1\n",
      "90  3HNKBCR47NS151581           13039                                                                                                                                                                                                                                                                                                                                                                                                                                                                                                                                                                                                                                                                                                                                                                                                                                                                                                                                                                                                                     replaced steering wheel                                                                                                                                                                                                                                                                                                                                                                                                                                                                                                                                                  steering wheel bezel bubbling SOP IN  02-05-2024                      WHEEL ASM-STRG *JET BLACK                             Steering Wheel Replacement              Crossover SUV  4 Door Utility       C1UC      RAM            MX      Ridgeview Car Sales           CAPE CORAL       13-26013/169633        LegacyRoad Motors         CAPE CORAL       FL              1            339912046          23    58,324                 0       0-0310      T02.0500               US                  13                      FE9                        FTB                130             FREG_POL           NaN         284.89    284.89      57.2    LSY            GAS, 4 CYL, L4, 2.0L, SIDI, DOHC, VVT, ALUM, TURB O, VAR 3          M3T                                                EU:N:X:Z|TRANSMISSION BYT 9 SPD, 9T60, GEN 1           830107152  N2220202JUHX0917               822972980.0       22220280WHBP0898  2820871997            4                 1          Y           1NF26             2LT                       10.0                    0                  1\n",
      "91  3HCFDEED0SH124676           13045                                                                                                                                                                                                                                                                                                                                                                                                                                                                                                                                                                                                                                                                                                                                                                                                                                                                                                              INSPECT AND FOUND CODE B1A4C- FOLLOWING SERVICE PROCEDURES-FOUND STEERING WHEEL HEATER SHORTED-REPLACE STEERING WHEEL ASSEMBLY                                                                                                                                                                                                                                                                                                                                                                                                                                                                                                                       HEATED STEERING WHEEL WHEN ENGAGED WILL TURN ON AND GO BACK OFF  02-05-2024                      WHEEL ASM-STRG *JET BLACK                             Steering Wheel Replacement           Full-Size Trucks        Crew Cab      T1CCF      SIL            MX     Cloudline Auto Group           ELDERSBURG       13-29080/314336      CityLine Auto Sales         ELDERSBURG       MD              1            217846407           2    11,537                 0       0-0310      T05.3386               US                  13                  Unknown                        FUC                130                 FREG           NaN         438.78    482.78    119.23    L84                            GAS, 8 CYL, 5.3L, V8, DI, DFM, ALUM, GEN 5          MHT                                                  BYT 10 SPD, 10R80, GRX, GEN 1, ATSS, VAR 1           812040194  A2222981MF1X0099                  287827.0       S2222972BKJX2888  2820989429           10                 1          Y         CF10743            1500                       10.0                    0                  1\n",
      "92  1HNSKCKDXNR189867           13039                                                                                                                                                                                                                                                                                                                                                                                                                                                                                                                                                                                                                                                                                                                                                                                                                                                                                                                                                                                                         removed and replaced steering wheel                                                                                                                                                                                                                                                                                                                                                                                                                                                        CUSTOMER STATES NEW HEATED STEERING WHEEL INSTALLED AS RETROFIT ON R.O. 22330 IN COMING APART TOWARDS BOTTOM OF STEERING WHEEL  02-05-2024                      WHEEL ASM-STRG *JET BLACK                             Steering Wheel Replacement          Full-Size Utility  4 Door Utility      T1YCF      ARL            US        PrimeWheel Motors             FREEHOLD       13-02162/307311     GoldPeak Car Traders           FREEHOLD       NJ              1             77288534          25    37,708                 0       0-0312      T05.3386               US                  13                      NE1                        FUC                130                 FREG           NaN         256.11    256.11     66.33    L84                            GAS, 8 CYL, 5.3L, V8, DI, DFM, ALUM, GEN 5          MHS                                            BYT 10 SPD, 10L80, GRX, GEN 1, ATSS, ETRS, VAR 1           812040194  A2220012JW9X0711                17749294.0       R2221472CKJX0891  2820888229            4                 1          N         CF10906            1500                       10.0                    0                  1\n",
      "93  1HKKNLLS4SZ248206           13045                                                                                                                                                                                                                                                                                                                                                                                                                                                                                                                                                                                                                                                                                                                                                                                                                                                         INSPECTED STEERING WHEEL AND FOUND LEATHER UNDER STITCHING AT LEFT HAN D THUMB GRIP TO HAVE STARTED TO LIFT. PICTURES OFWHEELTAKEN, REPLACE ORDERED STEERING WHEEL PRA 496611700000                                                                                                                                                                                                                                                                                                                                                                                                                                                                                                                                                    RE&RE STEERING WHEEL. PART IS HERE  02-05-2024                          WHEEL ASM-STRG *BLACK                             Steering Wheel Replacement              Crossover SUV  4 Door Utility       C1UG      SHT            US    Evergreen Car Traders            BRANTFORD       14-85634/120802        RoyalDrive Motors          BRANTFORD       ON              1               N3R8B8           5    11,781                 0       0-0310      T03.6151               CA                  14                      FE9                        FTB                130                 FREG           NaN         355.82    355.82     31.93    LGX                      GAS, 6 CYL, 3.6L, V6, DI, DOHC, VVT, ALUM, GEN 2          M3W                                                    TRANSMISSION BYT 9 SPD, 9T65, ETRS GEN 1            37749264  W2221892JDPX0288               822972980.0       21212072SKBP0140  2820987849            6                 1          N           TNC26             AT4                       10.0                    0                  1\n",
      "94  3HRS9EED0LH255650           13041                                                                                                                                                                                                                                                                                                                                                                                                                                                                                                                                                                                                                                                                                                                                                                                                                                                                                                                                                                                                                           REPLACED APPLIQUE                                                                                                                                                                                                                                                                                                                                                                                                                                                                         CUSTOMER STATES THE FINISH ON THE STEERING WHEEL IS COMING OFF AND IT GETS REALLY STICKY WHEN IT GETS HOT OUT  02-07-2024  APPLIQUE ASM-STRG WHL TR SPOKE CVR *SYNTHESIS                 Steering Wheel Spoke Cover Replacement          Full-Size Utility  4 Door Utility      T1YCF      ARL            US      Ironwood Auto Sales                MUNCY       13-15009/113926    SwiftStone Auto Sales              MUNCY       PA              1            177568160          13    17,008                 0       0-0890      T05.3386               US                  13                      NE1                        FUC                 50                 FREG           NaN         120.37    120.37     88.31    L84                            GAS, 8 CYL, 5.3L, V8, DI, DFM, ALUM, GEN 5          MHS                                            BYT 10 SPD, 10L80, GRX, GEN 1, ATSS, ETRS, VAR 1           249196973  K2220982JW9X1980                  287827.0       S2222082CKJX2928  2820789029            4                 1          N         CF10906            1500                       10.0                    0                  1\n",
      "95  1HYKNHRS6MZ221833           13041                                                                                                                                                                                                                                                                                                                                                                                                                                                                                                                                                                                                                                                                                                                                                                                                                                                                                                                                                                                           REPLACED STEERING WHEEL COMPLETEDLOP 0130 TIME .4                                                                                                                                                                                                                                                                                                                                                                                                                                                     CUSTOMER STATES that the steering is very tight and you can hear it rubbing in the steering column when you turn PRA 497110800000  02-07-2024                          WHEEL ASM-STRG *BLACK                             Steering Wheel Replacement  Global Crossover Vehicles  4 Door Utility       C1UL      SHT            US         MetroEdge Motors         NEWPORT NEWS       11-37732/117067          PrimeWheel Auto       NEWPORT NEWS       VA              1            236024313          32    35,451                 0       0-0310      T03.6151               US                  12                      FE9                        FTB                130                 FREG           NaN         718.53  1,026.53     59.88    LGX                      GAS, 6 CYL, 3.6L, V6, DI, DOHC, VVT, ALUM, GEN 2          M3W                                                    TRANSMISSION BYT 9 SPD, 9T65, ETRS GEN 1            37749264  W2222192JDRX0209               822972980.0       22222280KKBP0890  2820784987            4                 1          Y           6NJ26           Sport                       15.0                    1                  1\n",
      "96  1HYKSSRL4SZ003381           13048                                                                                                                                                                                                                                                                                                                                                                                                                                                                                                                                                                                                                                                                                                                                                                                                                                                                                                                                                                                                                      replace steering wheel                                                                                                                                                                                                                                                                                                                                                                                                                                                                                                                         cs driver assistance warning light is coming on while driving  02-07-2024                  WHEEL ASM-STRG *BACKEN BLACKK                             Steering Wheel Replacement                        BEV  4 Door Utility  L233-LSOP      SHT            US      Brightstar Auto Co.            RIDGELAND       12-25232/312069   BlueStream Car Traders          RIDGELAND       MS              1            391574406           8    13,393                 0       0-0310      T00.0008               US                  12                      FE9                        FF6                130                 FREG           NaN       1,474.06  1,474.06     118.9    EN0                                                                  NONE          MF1                                                                                        NONE             Unknown           Unknown                   Unknown                Unknown  2822282187            6                 1          N           6MB26         Unknown                       10.0                    0                  1\n",
      "97  1HKKNXLS3SZ128369           13044                                                                                                                                                                                                                                                                                                                                                                                                                                                                                                                                                                                                                                                                                                                                                                                                                                                                                                                                                                                                     REPLACE STEERING WHEEL PRA 496735300000                                                                                                                                                                                                                                                                                                                                                                                                                                                      CUSTOMER STATESCUSTOMER STATES VEHICLE STEERING WHEEL COMING APART IN OP CHECK AND ADVISE SOP STEERING WHEEL IN CHECK AND ADVISE  02-07-2024                          WHEEL ASM-STRG *BLACK                             Steering Wheel Replacement              Crossover SUV  4 Door Utility       C1UG      SHT            US     Liberty Ridge Motors         SHERMAN OAKS       11-46346/118677     Crestline Drive Auto        SIGNAL HILL       CA              1            907551909          12    25,341                 0       0-0890      T03.6151               US                  48                  Unknown                        FUC                130                 FREG           NaN         481.95    481.95     86.57    LGX                      GAS, 6 CYL, 3.6L, V6, DI, DOHC, VVT, ALUM, GEN 2          M3W                                                    TRANSMISSION BYT 9 SPD, 9T65, ETRS GEN 1            37749264  W2222442JDRX0092               822972980.0       21222222SKBP0119  2822042248            4                 1          N           TNN26          Denali                       10.0                    0                  1\n",
      "98  1HC4WLE78RF260518           13045                                                                                                                                                                                                                                                                                                                                                                                                                                                                                                                                                                                                                                                                                                                                                                                                                                                                                                  REMOVED STEERING WHEEL AND DISASSEMBLED AND FOUND SCREW FLOATING AROUND BEHIND COVER REMOVED AND REASSEMBLED AND NOISE IS NO LONGERPRESENT                                                                                                                                                                                                                                                                                                                                                                                                                                                                                                CUSTOMER STATES THERE IS CLICKING TYPE NOISE COMING FROM STEERING WHEEL WHEN TURNING.E  02-07-2024                                        Unknown                             Steering Wheel Replacement           Full-Size Trucks        Crew Cab      T1CCH      FLT            US    SilverGate Auto Sales          SAINT LOUIS       13-26480/114695         WestPoint Motors           SARASOTA       FL              1            342396999           4        13                 0       0-0313      D06.6230               US                  13                      FE9                        FTB                130                 FREG           NaN         101.85    101.85    101.85    L8T                                GAS, 8 CYL, 6.6L, SIDI, VVT, CAST IRON          MKM  BYT 10 SPD, RWD 4.54 1ST, 2.86 2ND, 2.06 3RD, 1.7 1 4TH, 1.48 5TH, 1.26 6TH, 1.00 7TH, 10L             2127157  T1212794MGUX0097                 8042172.0       Y0212811MRFX0180  2820879999            6                 1          N         CC20943            2500                       14.0                    0                  1\n",
      "99  1HKKNXLS8MZ121378           13041                                                                                                                                                                                                                                                                                                                                                                                                                                                                                                                                                                                                                                                                                                                                                                                                                                                                                                                                                 R&R steering wheel for bad stitching. -returned old wheel to parts department for warranty.                                                                                                                                                                                                                                                                                                                                                                                                                                     11BUZ MINOR ELECTRICAL CUST STATES STITCHING COMING APART FROM STEERING WHEEL REPLACE STEERING WHEEL (SOP HERE) 7440130 .4 PRE AUTH# 493358100000  02-07-2024                  WHEEL ASM-STRG *DARK GALVANIE                             Steering Wheel Replacement              Crossover SUV  4 Door Utility       C1UG      SHT            US      Radiant Road Motors          NEW BRITAIN       48-06594/117920    UrbanCrest Auto Sales        NEW BRITAIN       CT              1             60513102          38    48,660                 0       0-0890      T03.6151               US                  48                      NE1                        FUC                130             FREG_POL           NaN         524.56    524.56     54.27    LGX                      GAS, 6 CYL, 3.6L, V6, DI, DOHC, VVT, ALUM, GEN 2          M3W                                                    TRANSMISSION BYT 9 SPD, 9T65, ETRS GEN 1            37749264  W2202782JDPX0002               822972980.0       22202890KKBP2894  2820727781            4                 1          Y           TNN26          Denali                       10.0                    0                  1\n"
     ]
    },
    {
     "name": "stderr",
     "output_type": "stream",
     "text": [
      "C:\\Users\\mudit\\AppData\\Local\\Temp\\ipykernel_12536\\3041222099.py:5: FutureWarning: A value is trying to be set on a copy of a DataFrame or Series through chained assignment using an inplace method.\n",
      "The behavior will change in pandas 3.0. This inplace method will never work because the intermediate object on which we are setting values always behaves as a copy.\n",
      "\n",
      "For example, when doing 'df[col].method(value, inplace=True)', try using 'df.method({col: value}, inplace=True)' or df[col] = df[col].method(value) instead, to perform the operation inplace on the original object.\n",
      "\n",
      "\n",
      "  df_clean[col].fillna(df_clean[col].median(), inplace=True)\n",
      "C:\\Users\\mudit\\AppData\\Local\\Temp\\ipykernel_12536\\3041222099.py:5: FutureWarning: A value is trying to be set on a copy of a DataFrame or Series through chained assignment using an inplace method.\n",
      "The behavior will change in pandas 3.0. This inplace method will never work because the intermediate object on which we are setting values always behaves as a copy.\n",
      "\n",
      "For example, when doing 'df[col].method(value, inplace=True)', try using 'df.method({col: value}, inplace=True)' or df[col] = df[col].method(value) instead, to perform the operation inplace on the original object.\n",
      "\n",
      "\n",
      "  df_clean[col].fillna(df_clean[col].median(), inplace=True)\n",
      "C:\\Users\\mudit\\AppData\\Local\\Temp\\ipykernel_12536\\3041222099.py:5: FutureWarning: A value is trying to be set on a copy of a DataFrame or Series through chained assignment using an inplace method.\n",
      "The behavior will change in pandas 3.0. This inplace method will never work because the intermediate object on which we are setting values always behaves as a copy.\n",
      "\n",
      "For example, when doing 'df[col].method(value, inplace=True)', try using 'df.method({col: value}, inplace=True)' or df[col] = df[col].method(value) instead, to perform the operation inplace on the original object.\n",
      "\n",
      "\n",
      "  df_clean[col].fillna(df_clean[col].median(), inplace=True)\n",
      "C:\\Users\\mudit\\AppData\\Local\\Temp\\ipykernel_12536\\3041222099.py:5: FutureWarning: A value is trying to be set on a copy of a DataFrame or Series through chained assignment using an inplace method.\n",
      "The behavior will change in pandas 3.0. This inplace method will never work because the intermediate object on which we are setting values always behaves as a copy.\n",
      "\n",
      "For example, when doing 'df[col].method(value, inplace=True)', try using 'df.method({col: value}, inplace=True)' or df[col] = df[col].method(value) instead, to perform the operation inplace on the original object.\n",
      "\n",
      "\n",
      "  df_clean[col].fillna(df_clean[col].median(), inplace=True)\n",
      "C:\\Users\\mudit\\AppData\\Local\\Temp\\ipykernel_12536\\3041222099.py:5: FutureWarning: A value is trying to be set on a copy of a DataFrame or Series through chained assignment using an inplace method.\n",
      "The behavior will change in pandas 3.0. This inplace method will never work because the intermediate object on which we are setting values always behaves as a copy.\n",
      "\n",
      "For example, when doing 'df[col].method(value, inplace=True)', try using 'df.method({col: value}, inplace=True)' or df[col] = df[col].method(value) instead, to perform the operation inplace on the original object.\n",
      "\n",
      "\n",
      "  df_clean[col].fillna(df_clean[col].median(), inplace=True)\n",
      "C:\\Users\\mudit\\AppData\\Local\\Temp\\ipykernel_12536\\3041222099.py:5: FutureWarning: A value is trying to be set on a copy of a DataFrame or Series through chained assignment using an inplace method.\n",
      "The behavior will change in pandas 3.0. This inplace method will never work because the intermediate object on which we are setting values always behaves as a copy.\n",
      "\n",
      "For example, when doing 'df[col].method(value, inplace=True)', try using 'df.method({col: value}, inplace=True)' or df[col] = df[col].method(value) instead, to perform the operation inplace on the original object.\n",
      "\n",
      "\n",
      "  df_clean[col].fillna(df_clean[col].median(), inplace=True)\n",
      "C:\\Users\\mudit\\AppData\\Local\\Temp\\ipykernel_12536\\3041222099.py:5: FutureWarning: A value is trying to be set on a copy of a DataFrame or Series through chained assignment using an inplace method.\n",
      "The behavior will change in pandas 3.0. This inplace method will never work because the intermediate object on which we are setting values always behaves as a copy.\n",
      "\n",
      "For example, when doing 'df[col].method(value, inplace=True)', try using 'df.method({col: value}, inplace=True)' or df[col] = df[col].method(value) instead, to perform the operation inplace on the original object.\n",
      "\n",
      "\n",
      "  df_clean[col].fillna(df_clean[col].median(), inplace=True)\n",
      "C:\\Users\\mudit\\AppData\\Local\\Temp\\ipykernel_12536\\3041222099.py:5: FutureWarning: A value is trying to be set on a copy of a DataFrame or Series through chained assignment using an inplace method.\n",
      "The behavior will change in pandas 3.0. This inplace method will never work because the intermediate object on which we are setting values always behaves as a copy.\n",
      "\n",
      "For example, when doing 'df[col].method(value, inplace=True)', try using 'df.method({col: value}, inplace=True)' or df[col] = df[col].method(value) instead, to perform the operation inplace on the original object.\n",
      "\n",
      "\n",
      "  df_clean[col].fillna(df_clean[col].median(), inplace=True)\n",
      "C:\\Users\\mudit\\AppData\\Local\\Temp\\ipykernel_12536\\3041222099.py:5: FutureWarning: A value is trying to be set on a copy of a DataFrame or Series through chained assignment using an inplace method.\n",
      "The behavior will change in pandas 3.0. This inplace method will never work because the intermediate object on which we are setting values always behaves as a copy.\n",
      "\n",
      "For example, when doing 'df[col].method(value, inplace=True)', try using 'df.method({col: value}, inplace=True)' or df[col] = df[col].method(value) instead, to perform the operation inplace on the original object.\n",
      "\n",
      "\n",
      "  df_clean[col].fillna(df_clean[col].median(), inplace=True)\n",
      "C:\\Users\\mudit\\AppData\\Local\\Temp\\ipykernel_12536\\3041222099.py:5: FutureWarning: A value is trying to be set on a copy of a DataFrame or Series through chained assignment using an inplace method.\n",
      "The behavior will change in pandas 3.0. This inplace method will never work because the intermediate object on which we are setting values always behaves as a copy.\n",
      "\n",
      "For example, when doing 'df[col].method(value, inplace=True)', try using 'df.method({col: value}, inplace=True)' or df[col] = df[col].method(value) instead, to perform the operation inplace on the original object.\n",
      "\n",
      "\n",
      "  df_clean[col].fillna(df_clean[col].median(), inplace=True)\n",
      "C:\\Users\\mudit\\AppData\\Local\\Temp\\ipykernel_12536\\3041222099.py:5: FutureWarning: A value is trying to be set on a copy of a DataFrame or Series through chained assignment using an inplace method.\n",
      "The behavior will change in pandas 3.0. This inplace method will never work because the intermediate object on which we are setting values always behaves as a copy.\n",
      "\n",
      "For example, when doing 'df[col].method(value, inplace=True)', try using 'df.method({col: value}, inplace=True)' or df[col] = df[col].method(value) instead, to perform the operation inplace on the original object.\n",
      "\n",
      "\n",
      "  df_clean[col].fillna(df_clean[col].median(), inplace=True)\n",
      "C:\\Users\\mudit\\AppData\\Local\\Temp\\ipykernel_12536\\3041222099.py:5: FutureWarning: A value is trying to be set on a copy of a DataFrame or Series through chained assignment using an inplace method.\n",
      "The behavior will change in pandas 3.0. This inplace method will never work because the intermediate object on which we are setting values always behaves as a copy.\n",
      "\n",
      "For example, when doing 'df[col].method(value, inplace=True)', try using 'df.method({col: value}, inplace=True)' or df[col] = df[col].method(value) instead, to perform the operation inplace on the original object.\n",
      "\n",
      "\n",
      "  df_clean[col].fillna(df_clean[col].median(), inplace=True)\n"
     ]
    }
   ],
   "source": [
    "# Filling missing numerical values with median (for columns with less than 30% missing values)\n",
    "numerical_cols = [col for col in df_clean.select_dtypes(include=['int64', 'float64']).columns]\n",
    "for col in numerical_cols:\n",
    "    if df_clean[col].isna().mean() < 0.3:  # Only if less than 30% missing\n",
    "        df_clean[col].fillna(df_clean[col].median(), inplace=True)\n",
    "print(df_clean.to_string())"
   ]
  },
  {
   "cell_type": "markdown",
   "id": "b2ba2401",
   "metadata": {},
   "source": [
    "### 4.2 *Standardize categorical/numerical values*"
   ]
  },
  {
   "cell_type": "code",
   "execution_count": null,
   "id": "75dafb3e",
   "metadata": {},
   "outputs": [],
   "source": [
    "#DO NOT RUN DATA AMBIGUITY\n",
    "# remove inconsistent capitalization\n",
    "for col in categorical_cols:\n",
    "    if df_clean[col].nunique() < 100:  # Only for columns with reasonable unique values\n",
    "        df_clean[col] = df_clean[col].str.strip().str.title()"
   ]
  },
  {
   "cell_type": "code",
   "execution_count": null,
   "id": "21e0a26e",
   "metadata": {},
   "outputs": [],
   "source": [
    "#DO NOT RUN CHANGES DATE TO DATE AND TIME\n",
    "# convert to datetime\n",
    "df_clean['REPAIR_DATE'] = pd.to_datetime(df_clean['REPAIR_DATE'])"
   ]
  },
  {
   "cell_type": "markdown",
   "id": "48bfcc4d",
   "metadata": {},
   "source": [
    "### 4.3 *Clean numerical columns*"
   ]
  },
  {
   "cell_type": "code",
   "execution_count": null,
   "id": "d36a3d4b",
   "metadata": {},
   "outputs": [],
   "source": [
    "#losing values DO NOT RUN\n",
    "# convert numeric columns to appropriate types\n",
    "df_clean['KM'] = pd.to_numeric(df_clean['KM'], errors='coerce')\n",
    "df_clean['REPORTING_COST'] = pd.to_numeric(df_clean['REPORTING_COST'], errors='coerce')\n",
    "df_clean['TOTALCOST'] = pd.to_numeric(df_clean['TOTALCOST'], errors='coerce')\n",
    "df_clean['LBRCOST'] = pd.to_numeric(df_clean['LBRCOST'], errors='coerce')"
   ]
  },
  {
   "cell_type": "code",
   "execution_count": null,
   "id": "681a03e6",
   "metadata": {},
   "outputs": [],
   "source": [
    "#DO NOT RUN NOT REQUIRED\n",
    "# remove outliers using IQR method\n",
    "def remove_outliers(df, column):\n",
    "    Q1 = df[column].quantile(0.25)\n",
    "    Q3 = df[column].quantile(0.75)\n",
    "    IQR = Q3 - Q1\n",
    "    lower_bound = Q1 - 1.5 * IQR # these are used to flag down outliers or extreme values\n",
    "    upper_bound = Q3 + 1.5 * IQR\n",
    "    return df[(df[column] >= lower_bound) & (df[column] <= upper_bound)]\n",
    "\n",
    "for col in ['REPORTING_COST', 'TOTALCOST', 'LBRCOST']: \n",
    "    if col in df_clean.columns:\n",
    "        df_clean = remove_outliers(df_clean, col)\n",
    "\n",
    "print(df_clean.to_string())"
   ]
  },
  {
   "cell_type": "code",
   "execution_count": null,
   "id": "eff9587a",
   "metadata": {},
   "outputs": [],
   "source": [
    "# Verify missing values after cleaning\n",
    "print(\"\\nMissing values after cleaning:\")\n",
    "display(df_clean.isna().sum().sort_values(ascending=False))"
   ]
  },
  {
   "cell_type": "markdown",
   "id": "6de1687a",
   "metadata": {},
   "source": [
    "## 5. Identifying Critical Columns"
   ]
  },
  {
   "cell_type": "code",
   "execution_count": 12,
   "id": "c97b0e71",
   "metadata": {},
   "outputs": [],
   "source": [
    "critical_columns = [\n",
    "    'PLATFORM',  \n",
    "    'CAUSAL_PART_NM',   \n",
    "    'BUILD_COUNTRY', \n",
    "    'REPAIR_AGE',        \n",
    "    'TOTALCOST'       \n",
    "]\n",
    "\n",
    "# Convert text columns in the critical_columns list to strings\n",
    "df_critical = df_clean[critical_columns].astype(str)"
   ]
  },
  {
   "cell_type": "markdown",
   "id": "789d3ffe",
   "metadata": {},
   "source": [
    "## Visualizations for critical columns"
   ]
  },
  {
   "cell_type": "code",
   "execution_count": 13,
   "id": "3f25e3e7",
   "metadata": {},
   "outputs": [
    {
     "name": "stderr",
     "output_type": "stream",
     "text": [
      "C:\\Users\\mudit\\AppData\\Local\\Temp\\ipykernel_12536\\3307319152.py:3: FutureWarning: \n",
      "\n",
      "Passing `palette` without assigning `hue` is deprecated and will be removed in v0.14.0. Assign the `y` variable to `hue` and set `legend=False` for the same effect.\n",
      "\n",
      "  sns.countplot(data=df_clean, y='PLATFORM', order=df_clean['PLATFORM'].value_counts().index, palette='viridis')\n"
     ]
    },
    {
     "data": {
      "image/png": "[encoded data removed]",
      "text/plain": [
       "<Figure size 1200x600 with 1 Axes>"
      ]
     },
     "metadata": {},
     "output_type": "display_data"
    }
   ],
   "source": [
    "#1. distribution of repairs by platform\n",
    "plt.figure(figsize=(12, 6))\n",
    "sns.countplot(data=df_clean, y='PLATFORM', order=df_clean['PLATFORM'].value_counts().index, palette='viridis')\n",
    "plt.title('Distribution of Repairs by Platform')\n",
    "plt.xlabel('Count')\n",
    "plt.ylabel('Platform')\n",
    "plt.tight_layout()\n",
    "plt.show()"
   ]
  },
  {
   "cell_type": "code",
   "execution_count": 14,
   "id": "b778800d",
   "metadata": {},
   "outputs": [],
   "source": [
    "#Update specific value in CAUSAL_PART_NM column\n",
    "#fixing for casual part distribution\n",
    "df_clean['CAUSAL_PART_NM'] = df_clean['CAUSAL_PART_NM'].replace(\n",
    "    'Wheel Asm-Strg * Jet Black', 'Wheel Asm-Strg *Jet Black'\n",
    ")"
   ]
  },
  {
   "cell_type": "code",
   "execution_count": 15,
   "id": "e7766ac8",
   "metadata": {},
   "outputs": [],
   "source": [
    "# Exclude rows where the column contains 'Unknown' for proper display\n",
    "df_barplot = df_clean[df_clean['CAUSAL_PART_NM'] != 'Unknown']"
   ]
  },
  {
   "cell_type": "code",
   "execution_count": 16,
   "id": "97949a8a",
   "metadata": {},
   "outputs": [
    {
     "name": "stderr",
     "output_type": "stream",
     "text": [
      "C:\\Users\\mudit\\AppData\\Local\\Temp\\ipykernel_12536\\1208531048.py:4: FutureWarning: \n",
      "\n",
      "Passing `palette` without assigning `hue` is deprecated and will be removed in v0.14.0. Assign the `y` variable to `hue` and set `legend=False` for the same effect.\n",
      "\n",
      "  sns.barplot(x=top_parts.values, y=top_parts.index, palette='viridis')\n"
     ]
    },
    {
     "data": {
      "image/png": "[encoded data removed]",
      "text/plain": [
       "<Figure size 1200x600 with 1 Axes>"
      ]
     },
     "metadata": {},
     "output_type": "display_data"
    }
   ],
   "source": [
    "# 2. Causal Part Distribution\n",
    "plt.figure(figsize=(12, 6))\n",
    "top_parts = df_barplot['CAUSAL_PART_NM'].value_counts().head(10)\n",
    "sns.barplot(x=top_parts.values, y=top_parts.index, palette='viridis')\n",
    "plt.title('Top 10 Most Common Causal Parts')\n",
    "plt.xlabel('Count')\n",
    "plt.ylabel('Part Name')\n",
    "plt.tight_layout()\n",
    "plt.show()"
   ]
  },
  {
   "cell_type": "code",
   "execution_count": 17,
   "id": "2aa9e8ee",
   "metadata": {},
   "outputs": [
    {
     "name": "stderr",
     "output_type": "stream",
     "text": [
      "C:\\Users\\mudit\\AppData\\Local\\Temp\\ipykernel_12536\\2589275680.py:4: FutureWarning: \n",
      "\n",
      "Passing `palette` without assigning `hue` is deprecated and will be removed in v0.14.0. Assign the `y` variable to `hue` and set `legend=False` for the same effect.\n",
      "\n",
      "  sns.barplot(x=top_repairs.values, y=top_repairs.index, palette='coolwarm')\n"
     ]
    },
    {
     "data": {
      "image/png": "[encoded data removed]",
      "text/plain": [
       "<Figure size 1200x600 with 1 Axes>"
      ]
     },
     "metadata": {},
     "output_type": "display_data"
    }
   ],
   "source": [
    "# 3. Repair Descriptions\n",
    "plt.figure(figsize=(12, 6))\n",
    "top_repairs = df_clean['GLOBAL_LABOR_CODE_DESCRIPTION'].value_counts().head(10)\n",
    "sns.barplot(x=top_repairs.values, y=top_repairs.index, palette='coolwarm')\n",
    "plt.title('Top 4 Most Common Repair Descriptions')\n",
    "plt.xlabel('Count')\n",
    "plt.ylabel('Repair Description')\n",
    "plt.tight_layout()\n",
    "plt.show()"
   ]
  },
  {
   "cell_type": "code",
   "execution_count": 18,
   "id": "acb19ffb",
   "metadata": {},
   "outputs": [
    {
     "data": {
      "image/png": "[encoded data removed]",
      "text/plain": [
       "<Figure size 1000x600 with 1 Axes>"
      ]
     },
     "metadata": {},
     "output_type": "display_data"
    }
   ],
   "source": [
    "# 4. Repair Age Distribution\n",
    "# Bin ages into groups (e.g., 0-6, 7-12, and so on)\n",
    "df_clean['REPAIR_AGE'] = pd.to_numeric(df_clean['REPAIR_AGE'], errors='coerce')\n",
    "\n",
    "df_clean['AGE_GROUP'] = pd.cut(\n",
    "    df_clean['REPAIR_AGE'],\n",
    "    bins=[0, 12, 24, 36, 48, 50],\n",
    "    labels=['0-12', '13-24', '25-36', '37-48', '49-50'],\n",
    "    right= True, #to include the right edge of the interval\n",
    "    include_lowest=True, # to include the left edge of the interval\n",
    ")\n",
    "df_clean['AGE_GROUP'] = df_clean['AGE_GROUP'].astype(str)  # Convert to string to avoid being read as a date in excel after exporting\n",
    "\n",
    "\n",
    "plt.figure(figsize=(10, 6))\n",
    "sns.countplot(\n",
    "    data=df_clean,\n",
    "    x='AGE_GROUP',\n",
    "    order=['0-12', '13-24', '25-36', '37-48', '49-50'],\n",
    "    color='Skyblue'\n",
    ")\n",
    "plt.title('Vehicle Repairs by Age Group (Months)', fontsize=14)\n",
    "plt.xlabel('Age Group (Months)', fontsize=12)\n",
    "plt.ylabel('Number of Repairs', fontsize=12)\n",
    "plt.grid(axis='y', alpha=0.3)\n",
    "plt.tight_layout()\n",
    "plt.show()"
   ]
  },
  {
   "cell_type": "markdown",
   "id": "0c54a130",
   "metadata": {},
   "source": [
    "## 6. Generating Tags from Free Text Fields"
   ]
  },
  {
   "cell_type": "code",
   "execution_count": 50,
   "id": "1d5aed3a",
   "metadata": {},
   "outputs": [
    {
     "name": "stdout",
     "output_type": "stream",
     "text": [
      "Top 10 Customer Issues:\n",
      "[('not working', 10), ('loose', 9), ('inoperative', 7), ('peeling', 7), ('noise', 3), ('sticking', 2), ('clicking', 2), ('issues', 1), ('cracked', 1), ('tearing', 1)]\n",
      "\n",
      "Top 10 Repair Issues:\n",
      "[('inoperative', 6), ('loose', 5), ('defective', 3), ('faulty', 2), ('failure', 2), ('not working', 2), ('issues', 2), ('malfunction', 1), ('broken', 1), ('peeling', 1)]\n"
     ]
    }
   ],
   "source": [
    "# Function to extract and normalize issues from text\n",
    "def extract_issues(text):\n",
    "    if pd.isna(text) or not isinstance(text, str):  # Handle NaN and non-string inputs\n",
    "        return []\n",
    "\n",
    "    if text.strip().lower() == 'Unknown':\n",
    "        return []\n",
    "    \n",
    "    # Dictionary of patterns and their normalized forms\n",
    "    patterns = {\n",
    "        r'not work(?:ing)?': 'not working',\n",
    "        r'fail(?:ure|ed)?': 'failure',\n",
    "        r'broken': 'broken',\n",
    "        r'crack(?:ed|ing)?': 'cracked',\n",
    "        r'peel(?:ing)?': 'peeling',\n",
    "        r'loose': 'loose',\n",
    "        r'separat(?:ing|ed)': 'separating',\n",
    "        r'defect(?:ive)?': 'defective',\n",
    "        r'malfunction': 'malfunction',\n",
    "        r'inop(?:erative)?': 'inoperative',\n",
    "        r'noise': 'noise',\n",
    "        r'click(?:ing)?': 'clicking',\n",
    "        r'stick(?:ing)?': 'sticking',\n",
    "        r'tear(?:ing)?': 'tearing',\n",
    "        r'wear(?:ing)?': 'wearing',\n",
    "        r'leak(?:ing)?': 'leaking',\n",
    "        r'corrod(?:ed|ing)?': 'corroded',\n",
    "        r'overheat(?:ing)?': 'overheating',\n",
    "        r'overload(?:ing)?': 'overloading',\n",
    "        r'jam(?:med)?': 'jammed',\n",
    "        r'fault(?:y)?': 'faulty',\n",
    "        r'error(?:s)?': 'errors',\n",
    "        r'problem(?:s)?': 'problems',\n",
    "        r'issue(?:s)?': 'issues',\n",
    "    }\n",
    "    \n",
    "    issues = []\n",
    "    text_lower = text.lower()  # Convert text to lowercase for case-insensitive matching\n",
    "    \n",
    "    # Find and normalize issues\n",
    "    for pattern, normalized in patterns.items():\n",
    "        matches = re.findall(pattern, text_lower)  # Find all matches for the pattern\n",
    "        issues.extend([normalized] * len(matches))  # Add normalized form for each match\n",
    "    \n",
    "    return list(set(issues))  # Remove duplicates\n",
    "\n",
    "# Apply the function to customer verbatim and correction verbatim columns\n",
    "df_clean['CUSTOMER_ISSUES'] = df_clean['CUSTOMER_VERBATIM'].apply(extract_issues)\n",
    "df_clean['REPAIR_ISSUES'] = df_clean['CORRECTION_VERBATIM'].apply(extract_issues)\n",
    "\n",
    "# Flatten all issues and count their frequency\n",
    "all_customer_issues = [issue for sublist in df_clean['CUSTOMER_ISSUES'] for issue in sublist]\n",
    "all_repair_issues = [issue for sublist in df_clean['REPAIR_ISSUES'] for issue in sublist]\n",
    "\n",
    "customer_issue_counts = Counter(all_customer_issues)\n",
    "repair_issue_counts = Counter(all_repair_issues)\n",
    "\n",
    "# Display the top 10 most common issues for visualization\n",
    "print(\"Top 10 Customer Issues:\")\n",
    "print(customer_issue_counts.most_common(10))\n",
    "\n",
    "print(\"\\nTop 10 Repair Issues:\")\n",
    "print(repair_issue_counts.most_common(10))"
   ]
  },
  {
   "cell_type": "code",
   "execution_count": 34,
   "id": "13f2f880",
   "metadata": {},
   "outputs": [
    {
     "data": {
      "image/png": "[encoded data removed]",
      "text/plain": [
       "<Figure size 1200x600 with 1 Axes>"
      ]
     },
     "metadata": {},
     "output_type": "display_data"
    }
   ],
   "source": [
    "#top 10 customer issues\n",
    "plt.figure(figsize=(12, 6))\n",
    "top_customer_issues = pd.DataFrame.from_dict(customer_issue_counts, orient='index', columns=['count']).sort_values('count', ascending=False).head(10)\n",
    "sns.barplot(x='count', y=top_customer_issues.index, data=top_customer_issues)\n",
    "plt.title('Top 10 Customer-Reported Issues')\n",
    "plt.xlabel('Count')\n",
    "plt.ylabel('Issue')\n",
    "plt.tight_layout()\n",
    "plt.show()"
   ]
  },
  {
   "cell_type": "code",
   "execution_count": 35,
   "id": "a0a10e91",
   "metadata": {},
   "outputs": [
    {
     "data": {
      "image/png": "[encoded data removed]",
      "text/plain": [
       "<Figure size 1200x600 with 1 Axes>"
      ]
     },
     "metadata": {},
     "output_type": "display_data"
    }
   ],
   "source": [
    "# top 10 repair-identified issues\n",
    "plt.figure(figsize=(12, 6))\n",
    "top_repair_issues = pd.DataFrame.from_dict(repair_issue_counts, orient='index', columns=['count']).sort_values('count', ascending=False).head(10)\n",
    "sns.barplot(x='count', y=top_repair_issues.index, data=top_repair_issues)\n",
    "plt.title('Top 10 Repair-Identified Issues')\n",
    "plt.xlabel('Count')\n",
    "plt.ylabel('Issue')\n",
    "plt.tight_layout()\n",
    "plt.show()"
   ]
  },
  {
   "cell_type": "markdown",
   "id": "96411707",
   "metadata": {},
   "source": [
    "## 7. Additional Analysis and Insights"
   ]
  },
  {
   "cell_type": "code",
   "execution_count": 19,
   "id": "0db7a2f7",
   "metadata": {},
   "outputs": [
    {
     "data": {
      "image/png": "[encoded data removed]",
      "text/plain": [
       "<Figure size 1200x600 with 1 Axes>"
      ]
     },
     "metadata": {},
     "output_type": "display_data"
    }
   ],
   "source": [
    "# Cost analysis by platform\n",
    "plt.figure(figsize=(12, 6))\n",
    "sns.boxplot(data=df_clean, x='PLATFORM', y='TOTALCOST')\n",
    "plt.title('Repair Cost Distribution by Vehicle Platform')\n",
    "plt.xlabel('Platform')\n",
    "plt.ylabel('Total Cost ($)')\n",
    "plt.yticks([])\n",
    "plt.xticks(rotation=45)\n",
    "plt.tight_layout()\n",
    "plt.show()"
   ]
  },
  {
   "cell_type": "code",
   "execution_count": 20,
   "id": "3bef7939",
   "metadata": {},
   "outputs": [
    {
     "name": "stdout",
     "output_type": "stream",
     "text": [
      "Top 10 Most Expensive Repairs:\n"
     ]
    },
    {
     "data": {
      "application/vnd.microsoft.datawrangler.viewer.v0+json": {
       "columns": [
        {
         "name": "index",
         "rawType": "int64",
         "type": "integer"
        },
        {
         "name": "PLATFORM",
         "rawType": "object",
         "type": "string"
        },
        {
         "name": "CAUSAL_PART_NM",
         "rawType": "object",
         "type": "string"
        },
        {
         "name": "GLOBAL_LABOR_CODE_DESCRIPTION",
         "rawType": "object",
         "type": "string"
        },
        {
         "name": "AGE_GROUP",
         "rawType": "object",
         "type": "string"
        },
        {
         "name": "TOTALCOST",
         "rawType": "object",
         "type": "string"
        }
       ],
       "conversionMethod": "pd.DataFrame",
       "ref": "3e5ffc8c-5e75-4173-94c5-4fd5ecdebbb6",
       "rows": [
        [
         "53",
         "Full-Size Utility",
         "WHEEL ASM-STRG *FAWN",
         "Steering Wheel Replacement",
         "0-12",
         "963.92"
        ],
        [
         "51",
         "Global Crossover Vehicles",
         "COVER-STRG WHL SPOKE *HI GLOSS V-C",
         "Steering Wheel Spoke Cover Replacement",
         "13-24",
         "960.87"
        ],
        [
         "45",
         "Full-Size Trucks",
         "WHEEL ASM-STRG *JET BLACK",
         "Steering Wheel Replacement",
         "13-24",
         "787.93"
        ],
        [
         "34",
         "BEV",
         "WHEEL ASM-STRG *BACKEN BLACKK",
         "Steering Wheel Replacement",
         "0-12",
         "737.49"
        ],
        [
         "54",
         "Global Crossover Vehicles",
         "COVER-STRG WHL SPOKE *HI GLOSS V-C",
         "Steering Wheel Spoke Cover Replacement",
         "13-24",
         "697.51"
        ],
        [
         "26",
         "Global Crossover Vehicles",
         "COVER-STRG WHL SPOKE *HI GLOSS V-C",
         "Steering Wheel Spoke Cover Replacement",
         "49-50",
         "695.8"
        ],
        [
         "62",
         "Alpha",
         "WHEEL ASM-STRG *JET BLACK",
         "Steering Wheel Replacement",
         "13-24",
         "687.11"
        ],
        [
         "66",
         "Full-Size Trucks",
         "HARNESS ASM-STRG WHL HORN SW WRG",
         "Steering Wheel Horn Switch Wiring Harness Replacement",
         "25-36",
         "674.27"
        ],
        [
         "14",
         "Full-Size Trucks",
         "COVER-STRG WHL AIRBAG ACC HOLE *JET BLACK",
         "Steering Wheel Spoke Cover Replacement",
         "0-12",
         "63.1"
        ],
        [
         "75",
         "Full-Size Trucks",
         "WHEEL ASM-STRG *VERY DARK AT",
         "Steering Wheel Replacement",
         "0-12",
         "622.24"
        ]
       ],
       "shape": {
        "columns": 5,
        "rows": 10
       }
      },
      "text/html": [
       "<div>\n",
       "<style scoped>\n",
       "    .dataframe tbody tr th:only-of-type {\n",
       "        vertical-align: middle;\n",
       "    }\n",
       "\n",
       "    .dataframe tbody tr th {\n",
       "        vertical-align: top;\n",
       "    }\n",
       "\n",
       "    .dataframe thead th {\n",
       "        text-align: right;\n",
       "    }\n",
       "</style>\n",
       "<table border=\"1\" class=\"dataframe\">\n",
       "  <thead>\n",
       "    <tr style=\"text-align: right;\">\n",
       "      <th></th>\n",
       "      <th>PLATFORM</th>\n",
       "      <th>CAUSAL_PART_NM</th>\n",
       "      <th>GLOBAL_LABOR_CODE_DESCRIPTION</th>\n",
       "      <th>AGE_GROUP</th>\n",
       "      <th>TOTALCOST</th>\n",
       "    </tr>\n",
       "  </thead>\n",
       "  <tbody>\n",
       "    <tr>\n",
       "      <th>53</th>\n",
       "      <td>Full-Size Utility</td>\n",
       "      <td>WHEEL ASM-STRG *FAWN</td>\n",
       "      <td>Steering Wheel Replacement</td>\n",
       "      <td>0-12</td>\n",
       "      <td>963.92</td>\n",
       "    </tr>\n",
       "    <tr>\n",
       "      <th>51</th>\n",
       "      <td>Global Crossover Vehicles</td>\n",
       "      <td>COVER-STRG WHL SPOKE *HI GLOSS V-C</td>\n",
       "      <td>Steering Wheel Spoke Cover Replacement</td>\n",
       "      <td>13-24</td>\n",
       "      <td>960.87</td>\n",
       "    </tr>\n",
       "    <tr>\n",
       "      <th>45</th>\n",
       "      <td>Full-Size Trucks</td>\n",
       "      <td>WHEEL ASM-STRG *JET BLACK</td>\n",
       "      <td>Steering Wheel Replacement</td>\n",
       "      <td>13-24</td>\n",
       "      <td>787.93</td>\n",
       "    </tr>\n",
       "    <tr>\n",
       "      <th>34</th>\n",
       "      <td>BEV</td>\n",
       "      <td>WHEEL ASM-STRG *BACKEN BLACKK</td>\n",
       "      <td>Steering Wheel Replacement</td>\n",
       "      <td>0-12</td>\n",
       "      <td>737.49</td>\n",
       "    </tr>\n",
       "    <tr>\n",
       "      <th>54</th>\n",
       "      <td>Global Crossover Vehicles</td>\n",
       "      <td>COVER-STRG WHL SPOKE *HI GLOSS V-C</td>\n",
       "      <td>Steering Wheel Spoke Cover Replacement</td>\n",
       "      <td>13-24</td>\n",
       "      <td>697.51</td>\n",
       "    </tr>\n",
       "    <tr>\n",
       "      <th>26</th>\n",
       "      <td>Global Crossover Vehicles</td>\n",
       "      <td>COVER-STRG WHL SPOKE *HI GLOSS V-C</td>\n",
       "      <td>Steering Wheel Spoke Cover Replacement</td>\n",
       "      <td>49-50</td>\n",
       "      <td>695.8</td>\n",
       "    </tr>\n",
       "    <tr>\n",
       "      <th>62</th>\n",
       "      <td>Alpha</td>\n",
       "      <td>WHEEL ASM-STRG *JET BLACK</td>\n",
       "      <td>Steering Wheel Replacement</td>\n",
       "      <td>13-24</td>\n",
       "      <td>687.11</td>\n",
       "    </tr>\n",
       "    <tr>\n",
       "      <th>66</th>\n",
       "      <td>Full-Size Trucks</td>\n",
       "      <td>HARNESS ASM-STRG WHL HORN SW WRG</td>\n",
       "      <td>Steering Wheel Horn Switch Wiring Harness Repl...</td>\n",
       "      <td>25-36</td>\n",
       "      <td>674.27</td>\n",
       "    </tr>\n",
       "    <tr>\n",
       "      <th>14</th>\n",
       "      <td>Full-Size Trucks</td>\n",
       "      <td>COVER-STRG WHL AIRBAG ACC HOLE *JET BLACK</td>\n",
       "      <td>Steering Wheel Spoke Cover Replacement</td>\n",
       "      <td>0-12</td>\n",
       "      <td>63.1</td>\n",
       "    </tr>\n",
       "    <tr>\n",
       "      <th>75</th>\n",
       "      <td>Full-Size Trucks</td>\n",
       "      <td>WHEEL ASM-STRG *VERY DARK AT</td>\n",
       "      <td>Steering Wheel Replacement</td>\n",
       "      <td>0-12</td>\n",
       "      <td>622.24</td>\n",
       "    </tr>\n",
       "  </tbody>\n",
       "</table>\n",
       "</div>"
      ],
      "text/plain": [
       "                     PLATFORM                             CAUSAL_PART_NM  \\\n",
       "53          Full-Size Utility                       WHEEL ASM-STRG *FAWN   \n",
       "51  Global Crossover Vehicles         COVER-STRG WHL SPOKE *HI GLOSS V-C   \n",
       "45           Full-Size Trucks                  WHEEL ASM-STRG *JET BLACK   \n",
       "34                        BEV              WHEEL ASM-STRG *BACKEN BLACKK   \n",
       "54  Global Crossover Vehicles         COVER-STRG WHL SPOKE *HI GLOSS V-C   \n",
       "26  Global Crossover Vehicles         COVER-STRG WHL SPOKE *HI GLOSS V-C   \n",
       "62                      Alpha                  WHEEL ASM-STRG *JET BLACK   \n",
       "66           Full-Size Trucks           HARNESS ASM-STRG WHL HORN SW WRG   \n",
       "14           Full-Size Trucks  COVER-STRG WHL AIRBAG ACC HOLE *JET BLACK   \n",
       "75           Full-Size Trucks               WHEEL ASM-STRG *VERY DARK AT   \n",
       "\n",
       "                        GLOBAL_LABOR_CODE_DESCRIPTION AGE_GROUP TOTALCOST  \n",
       "53                         Steering Wheel Replacement      0-12    963.92  \n",
       "51             Steering Wheel Spoke Cover Replacement     13-24    960.87  \n",
       "45                         Steering Wheel Replacement     13-24    787.93  \n",
       "34                         Steering Wheel Replacement      0-12    737.49  \n",
       "54             Steering Wheel Spoke Cover Replacement     13-24    697.51  \n",
       "26             Steering Wheel Spoke Cover Replacement     49-50     695.8  \n",
       "62                         Steering Wheel Replacement     13-24    687.11  \n",
       "66  Steering Wheel Horn Switch Wiring Harness Repl...     25-36    674.27  \n",
       "14             Steering Wheel Spoke Cover Replacement      0-12      63.1  \n",
       "75                         Steering Wheel Replacement      0-12    622.24  "
      ]
     },
     "metadata": {},
     "output_type": "display_data"
    }
   ],
   "source": [
    "# Most expensive repairs\n",
    "top_expensive_repairs = df_clean.sort_values('TOTALCOST', ascending=False).head(10)[['PLATFORM', 'CAUSAL_PART_NM', 'GLOBAL_LABOR_CODE_DESCRIPTION', 'AGE_GROUP' ,'TOTALCOST']]\n",
    "print(\"Top 10 Most Expensive Repairs:\")\n",
    "display(top_expensive_repairs)"
   ]
  },
  {
   "cell_type": "code",
   "execution_count": null,
   "id": "3251b163",
   "metadata": {},
   "outputs": [],
   "source": [
    "# Derive column 'TOTALCOST_FIXED' from column: 'TOTALCOST'\n",
    "def TOTALCOST_FIXED(TOTALCOST):\n",
    "    \"\"\"\n",
    "    Transform based on the following examples:\n",
    "       TOTALCOST     Output\n",
    "    1: \"370.03\"   => \"370.03\"\n",
    "    2: \"3,205.45\" => \"3205.45\"\n",
    "    \"\"\"\n",
    "    number1 = float(TOTALCOST.replace(\",\", \"\"))\n",
    "    return f\"{number1:04.2f}\"\n",
    "\n",
    "df_clean.insert(34, \"TOTALCOST_FIXED\", df_clean.apply(lambda row : TOTALCOST_FIXED(row[\"TOTALCOST\"]), axis=1))\n",
    "\n",
    "# Convert TOTALCOST_FIXED to numeric\n",
    "df_clean['TOTALCOST_FIXED'] = pd.to_numeric(df_clean['TOTALCOST_FIXED'], errors='coerce')\n"
   ]
  },
  {
   "cell_type": "code",
   "execution_count": 25,
   "id": "8bc15f10",
   "metadata": {},
   "outputs": [
    {
     "name": "stdout",
     "output_type": "stream",
     "text": [
      "Parts with Highest Average Repair Cost:\n"
     ]
    },
    {
     "data": {
      "application/vnd.microsoft.datawrangler.viewer.v0+json": {
       "columns": [
        {
         "name": "CAUSAL_PART_NM",
         "rawType": "object",
         "type": "string"
        },
        {
         "name": "count",
         "rawType": "int64",
         "type": "integer"
        },
        {
         "name": "total_cost",
         "rawType": "float64",
         "type": "float"
        },
        {
         "name": "avg_cost",
         "rawType": "float64",
         "type": "float"
        }
       ],
       "conversionMethod": "pd.DataFrame",
       "ref": "959a1c30-282a-413b-9186-8c95b44a9850",
       "rows": [
        [
         "WHEEL ASM-STRG *BACKEN BLACKK",
         "5",
         "8311.85",
         "1662.37"
        ],
        [
         "WHEEL ASM-STRG *FAWN",
         "1",
         "963.92",
         "963.92"
        ],
        [
         "COVER-STRG WHL SPOKE *HI GLOSS V-C",
         "3",
         "2354.18",
         "784.73"
        ],
        [
         "WHEEL ASM-STRG *BLACK",
         "12",
         "7860.74",
         "655.06"
        ],
        [
         "HARNESS ASM-STRG WHL HORN SW WRG",
         "4",
         "2332.84",
         "583.21"
        ],
        [
         "WHEEL ASM-STRG *VERY DARK AT",
         "7",
         "4009.33",
         "572.76"
        ],
        [
         "WHEEL ASM-STRG *JET BLACK",
         "45",
         "24448.59",
         "543.3"
        ],
        [
         "WHEEL ASM-STRG *DARK GALVANIE",
         "1",
         "524.56",
         "524.56"
        ],
        [
         "WHEEL ASM-STRG * JET BLACK",
         "2",
         "831.94",
         "415.97"
        ],
        [
         "APPLIQUE ASM-STRG WHL TR SPOKE CVR *JET BLACK",
         "1",
         "403.63",
         "403.63"
        ]
       ],
       "shape": {
        "columns": 3,
        "rows": 10
       }
      },
      "text/html": [
       "<div>\n",
       "<style scoped>\n",
       "    .dataframe tbody tr th:only-of-type {\n",
       "        vertical-align: middle;\n",
       "    }\n",
       "\n",
       "    .dataframe tbody tr th {\n",
       "        vertical-align: top;\n",
       "    }\n",
       "\n",
       "    .dataframe thead th {\n",
       "        text-align: right;\n",
       "    }\n",
       "</style>\n",
       "<table border=\"1\" class=\"dataframe\">\n",
       "  <thead>\n",
       "    <tr style=\"text-align: right;\">\n",
       "      <th></th>\n",
       "      <th>count</th>\n",
       "      <th>total_cost</th>\n",
       "      <th>avg_cost</th>\n",
       "    </tr>\n",
       "    <tr>\n",
       "      <th>CAUSAL_PART_NM</th>\n",
       "      <th></th>\n",
       "      <th></th>\n",
       "      <th></th>\n",
       "    </tr>\n",
       "  </thead>\n",
       "  <tbody>\n",
       "    <tr>\n",
       "      <th>WHEEL ASM-STRG *BACKEN BLACKK</th>\n",
       "      <td>5</td>\n",
       "      <td>8311.85</td>\n",
       "      <td>1662.37</td>\n",
       "    </tr>\n",
       "    <tr>\n",
       "      <th>WHEEL ASM-STRG *FAWN</th>\n",
       "      <td>1</td>\n",
       "      <td>963.92</td>\n",
       "      <td>963.92</td>\n",
       "    </tr>\n",
       "    <tr>\n",
       "      <th>COVER-STRG WHL SPOKE *HI GLOSS V-C</th>\n",
       "      <td>3</td>\n",
       "      <td>2354.18</td>\n",
       "      <td>784.73</td>\n",
       "    </tr>\n",
       "    <tr>\n",
       "      <th>WHEEL ASM-STRG *BLACK</th>\n",
       "      <td>12</td>\n",
       "      <td>7860.74</td>\n",
       "      <td>655.06</td>\n",
       "    </tr>\n",
       "    <tr>\n",
       "      <th>HARNESS ASM-STRG WHL HORN SW WRG</th>\n",
       "      <td>4</td>\n",
       "      <td>2332.84</td>\n",
       "      <td>583.21</td>\n",
       "    </tr>\n",
       "    <tr>\n",
       "      <th>WHEEL ASM-STRG *VERY DARK AT</th>\n",
       "      <td>7</td>\n",
       "      <td>4009.33</td>\n",
       "      <td>572.76</td>\n",
       "    </tr>\n",
       "    <tr>\n",
       "      <th>WHEEL ASM-STRG *JET BLACK</th>\n",
       "      <td>45</td>\n",
       "      <td>24448.59</td>\n",
       "      <td>543.30</td>\n",
       "    </tr>\n",
       "    <tr>\n",
       "      <th>WHEEL ASM-STRG *DARK GALVANIE</th>\n",
       "      <td>1</td>\n",
       "      <td>524.56</td>\n",
       "      <td>524.56</td>\n",
       "    </tr>\n",
       "    <tr>\n",
       "      <th>WHEEL ASM-STRG * JET BLACK</th>\n",
       "      <td>2</td>\n",
       "      <td>831.94</td>\n",
       "      <td>415.97</td>\n",
       "    </tr>\n",
       "    <tr>\n",
       "      <th>APPLIQUE ASM-STRG WHL TR SPOKE CVR *JET BLACK</th>\n",
       "      <td>1</td>\n",
       "      <td>403.63</td>\n",
       "      <td>403.63</td>\n",
       "    </tr>\n",
       "  </tbody>\n",
       "</table>\n",
       "</div>"
      ],
      "text/plain": [
       "                                               count  total_cost  avg_cost\n",
       "CAUSAL_PART_NM                                                            \n",
       "WHEEL ASM-STRG *BACKEN BLACKK                      5     8311.85   1662.37\n",
       "WHEEL ASM-STRG *FAWN                               1      963.92    963.92\n",
       "COVER-STRG WHL SPOKE *HI GLOSS V-C                 3     2354.18    784.73\n",
       "WHEEL ASM-STRG *BLACK                             12     7860.74    655.06\n",
       "HARNESS ASM-STRG WHL HORN SW WRG                   4     2332.84    583.21\n",
       "WHEEL ASM-STRG *VERY DARK AT                       7     4009.33    572.76\n",
       "WHEEL ASM-STRG *JET BLACK                         45    24448.59    543.30\n",
       "WHEEL ASM-STRG *DARK GALVANIE                      1      524.56    524.56\n",
       "WHEEL ASM-STRG * JET BLACK                         2      831.94    415.97\n",
       "APPLIQUE ASM-STRG WHL TR SPOKE CVR *JET BLACK      1      403.63    403.63"
      ]
     },
     "metadata": {},
     "output_type": "display_data"
    }
   ],
   "source": [
    "# Common parts with highest average repair cost\n",
    "part_cost_analysis = df_clean.groupby('CAUSAL_PART_NM').agg(\n",
    "    count=('CAUSAL_PART_NM', 'size'),\n",
    "    total_cost=('TOTALCOST_FIXED', 'sum'),\n",
    "    avg_cost=('TOTALCOST_FIXED', 'mean'),\n",
    ").sort_values('avg_cost', ascending=False)\n",
    "\n",
    "\n",
    "print(\"Parts with Highest Average Repair Cost:\")\n",
    "display(round(part_cost_analysis.head(10),2))"
   ]
  },
  {
   "cell_type": "code",
   "execution_count": 27,
   "id": "b07b6ea4",
   "metadata": {},
   "outputs": [
    {
     "name": "stdout",
     "output_type": "stream",
     "text": [
      "Parts with Total Highest Repair Cost:\n"
     ]
    },
    {
     "data": {
      "application/vnd.microsoft.datawrangler.viewer.v0+json": {
       "columns": [
        {
         "name": "CAUSAL_PART_NM",
         "rawType": "object",
         "type": "string"
        },
        {
         "name": "count",
         "rawType": "int64",
         "type": "integer"
        },
        {
         "name": "total_cost",
         "rawType": "float64",
         "type": "float"
        }
       ],
       "conversionMethod": "pd.DataFrame",
       "ref": "aa96720f-48b3-4587-b367-511cdf71e932",
       "rows": [
        [
         "WHEEL ASM-STRG *JET BLACK",
         "45",
         "24448.59"
        ],
        [
         "WHEEL ASM-STRG *BACKEN BLACKK",
         "5",
         "8311.85"
        ],
        [
         "WHEEL ASM-STRG *BLACK",
         "12",
         "7860.74"
        ],
        [
         "WHEEL ASM-STRG *VERY DARK AT",
         "7",
         "4009.33"
        ],
        [
         "COVER-STRG WHL SPOKE *HI GLOSS V-C",
         "3",
         "2354.18"
        ],
        [
         "HARNESS ASM-STRG WHL HORN SW WRG",
         "4",
         "2332.84"
        ],
        [
         "MODULE ASM-STRG WHL HT CONT",
         "5",
         "1069.76"
        ],
        [
         "WHEEL ASM-STRG *FAWN",
         "1",
         "963.92"
        ],
        [
         "WHEEL ASM-STRG * JET BLACK",
         "2",
         "831.94"
        ],
        [
         "Unknown",
         "5",
         "757.28"
        ]
       ],
       "shape": {
        "columns": 2,
        "rows": 10
       }
      },
      "text/html": [
       "<div>\n",
       "<style scoped>\n",
       "    .dataframe tbody tr th:only-of-type {\n",
       "        vertical-align: middle;\n",
       "    }\n",
       "\n",
       "    .dataframe tbody tr th {\n",
       "        vertical-align: top;\n",
       "    }\n",
       "\n",
       "    .dataframe thead th {\n",
       "        text-align: right;\n",
       "    }\n",
       "</style>\n",
       "<table border=\"1\" class=\"dataframe\">\n",
       "  <thead>\n",
       "    <tr style=\"text-align: right;\">\n",
       "      <th></th>\n",
       "      <th>count</th>\n",
       "      <th>total_cost</th>\n",
       "    </tr>\n",
       "    <tr>\n",
       "      <th>CAUSAL_PART_NM</th>\n",
       "      <th></th>\n",
       "      <th></th>\n",
       "    </tr>\n",
       "  </thead>\n",
       "  <tbody>\n",
       "    <tr>\n",
       "      <th>WHEEL ASM-STRG *JET BLACK</th>\n",
       "      <td>45</td>\n",
       "      <td>24448.59</td>\n",
       "    </tr>\n",
       "    <tr>\n",
       "      <th>WHEEL ASM-STRG *BACKEN BLACKK</th>\n",
       "      <td>5</td>\n",
       "      <td>8311.85</td>\n",
       "    </tr>\n",
       "    <tr>\n",
       "      <th>WHEEL ASM-STRG *BLACK</th>\n",
       "      <td>12</td>\n",
       "      <td>7860.74</td>\n",
       "    </tr>\n",
       "    <tr>\n",
       "      <th>WHEEL ASM-STRG *VERY DARK AT</th>\n",
       "      <td>7</td>\n",
       "      <td>4009.33</td>\n",
       "    </tr>\n",
       "    <tr>\n",
       "      <th>COVER-STRG WHL SPOKE *HI GLOSS V-C</th>\n",
       "      <td>3</td>\n",
       "      <td>2354.18</td>\n",
       "    </tr>\n",
       "    <tr>\n",
       "      <th>HARNESS ASM-STRG WHL HORN SW WRG</th>\n",
       "      <td>4</td>\n",
       "      <td>2332.84</td>\n",
       "    </tr>\n",
       "    <tr>\n",
       "      <th>MODULE ASM-STRG WHL HT CONT</th>\n",
       "      <td>5</td>\n",
       "      <td>1069.76</td>\n",
       "    </tr>\n",
       "    <tr>\n",
       "      <th>WHEEL ASM-STRG *FAWN</th>\n",
       "      <td>1</td>\n",
       "      <td>963.92</td>\n",
       "    </tr>\n",
       "    <tr>\n",
       "      <th>WHEEL ASM-STRG * JET BLACK</th>\n",
       "      <td>2</td>\n",
       "      <td>831.94</td>\n",
       "    </tr>\n",
       "    <tr>\n",
       "      <th>Unknown</th>\n",
       "      <td>5</td>\n",
       "      <td>757.28</td>\n",
       "    </tr>\n",
       "  </tbody>\n",
       "</table>\n",
       "</div>"
      ],
      "text/plain": [
       "                                    count  total_cost\n",
       "CAUSAL_PART_NM                                       \n",
       "WHEEL ASM-STRG *JET BLACK              45    24448.59\n",
       "WHEEL ASM-STRG *BACKEN BLACKK           5     8311.85\n",
       "WHEEL ASM-STRG *BLACK                  12     7860.74\n",
       "WHEEL ASM-STRG *VERY DARK AT            7     4009.33\n",
       "COVER-STRG WHL SPOKE *HI GLOSS V-C      3     2354.18\n",
       "HARNESS ASM-STRG WHL HORN SW WRG        4     2332.84\n",
       "MODULE ASM-STRG WHL HT CONT             5     1069.76\n",
       "WHEEL ASM-STRG *FAWN                    1      963.92\n",
       "WHEEL ASM-STRG * JET BLACK              2      831.94\n",
       "Unknown                                 5      757.28"
      ]
     },
     "metadata": {},
     "output_type": "display_data"
    }
   ],
   "source": [
    "# Common parts with highest repair cost\n",
    "part_cost_analysis = df_clean.groupby('CAUSAL_PART_NM').agg(\n",
    "    count=('CAUSAL_PART_NM', 'size'),\n",
    "    total_cost=('TOTALCOST_FIXED', 'sum'),\n",
    ").sort_values('total_cost', ascending=False)\n",
    "\n",
    "\n",
    "print(\"Parts with Total Highest Repair Cost:\")\n",
    "display(round(part_cost_analysis.head(10),2))"
   ]
  },
  {
   "cell_type": "markdown",
   "id": "98d659b0",
   "metadata": {},
   "source": [
    "## 8. Saving Cleaned Data and Results"
   ]
  },
  {
   "cell_type": "code",
   "execution_count": 51,
   "id": "d4faecb3",
   "metadata": {},
   "outputs": [],
   "source": [
    "df_clean.to_csv('cleaned_steering_repair_data.csv', index=False)\n",
    "\n",
    "# matching lengths for both arrays\n",
    "max_length = max(len(all_customer_issues), len(all_repair_issues))\n",
    "padded_customer_issues = all_customer_issues + [''] * (max_length - len(all_customer_issues))\n",
    "padded_repair_issues = all_repair_issues + [''] * (max_length - len(all_repair_issues))\n",
    "\n",
    "tags_df = pd.DataFrame({\n",
    "    'Customer_Issues': padded_customer_issues,\n",
    "    'Repair_Issues': padded_repair_issues\n",
    "})\n",
    "\n",
    "tags_df.to_csv('generated_repair_tags.csv', index=False)"
   ]
  }
 ],
 "metadata": {
  "kernelspec": {
   "display_name": "base",
   "language": "python",
   "name": "python3"
  },
  "language_info": {
   "codemirror_mode": {
    "name": "ipython",
    "version": 3
   },
   "file_extension": ".py",
   "mimetype": "text/x-python",
   "name": "python",
   "nbconvert_exporter": "python",
   "pygments_lexer": "ipython3",
   "version": "3.10.9"
  }
 },
 "nbformat": 4,
 "nbformat_minor": 5
}
